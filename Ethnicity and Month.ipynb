{
 "cells": [
  {
   "cell_type": "code",
   "execution_count": 2,
   "metadata": {},
   "outputs": [
    {
     "data": {
      "text/html": [
       "<div>\n",
       "<style scoped>\n",
       "    .dataframe tbody tr th:only-of-type {\n",
       "        vertical-align: middle;\n",
       "    }\n",
       "\n",
       "    .dataframe tbody tr th {\n",
       "        vertical-align: top;\n",
       "    }\n",
       "\n",
       "    .dataframe thead th {\n",
       "        text-align: right;\n",
       "    }\n",
       "</style>\n",
       "<table border=\"1\" class=\"dataframe\">\n",
       "  <thead>\n",
       "    <tr style=\"text-align: right;\">\n",
       "      <th></th>\n",
       "      <th>date</th>\n",
       "      <th>time</th>\n",
       "      <th>area</th>\n",
       "      <th>district</th>\n",
       "      <th>victim_Age</th>\n",
       "      <th>victim_sex</th>\n",
       "      <th>victim_race</th>\n",
       "      <th>premise</th>\n",
       "      <th>address</th>\n",
       "      <th>cross_street</th>\n",
       "      <th>zip</th>\n",
       "      <th>hour</th>\n",
       "      <th>month</th>\n",
       "      <th>weekday</th>\n",
       "      <th>lat</th>\n",
       "      <th>lon</th>\n",
       "    </tr>\n",
       "  </thead>\n",
       "  <tbody>\n",
       "    <tr>\n",
       "      <th>0</th>\n",
       "      <td>2019-06-22</td>\n",
       "      <td>1150</td>\n",
       "      <td>Mission</td>\n",
       "      <td>1985</td>\n",
       "      <td>32.0</td>\n",
       "      <td>M</td>\n",
       "      <td>Hispanic</td>\n",
       "      <td>101.0</td>\n",
       "      <td>PARTHENIA                    ST</td>\n",
       "      <td>TOBIAS                       AV</td>\n",
       "      <td>19730.0</td>\n",
       "      <td>11</td>\n",
       "      <td>6</td>\n",
       "      <td>Friday</td>\n",
       "      <td>34.2279</td>\n",
       "      <td>-118.4516</td>\n",
       "    </tr>\n",
       "    <tr>\n",
       "      <th>1</th>\n",
       "      <td>2019-06-22</td>\n",
       "      <td>1600</td>\n",
       "      <td>Southwest</td>\n",
       "      <td>357</td>\n",
       "      <td>27.0</td>\n",
       "      <td>M</td>\n",
       "      <td>Hispanic</td>\n",
       "      <td>101.0</td>\n",
       "      <td>JEFFERSON</td>\n",
       "      <td>CATALINA</td>\n",
       "      <td>22724.0</td>\n",
       "      <td>16</td>\n",
       "      <td>6</td>\n",
       "      <td>Friday</td>\n",
       "      <td>34.0255</td>\n",
       "      <td>-118.2937</td>\n",
       "    </tr>\n",
       "    <tr>\n",
       "      <th>2</th>\n",
       "      <td>2019-06-22</td>\n",
       "      <td>650</td>\n",
       "      <td>West Valley</td>\n",
       "      <td>1001</td>\n",
       "      <td>20.0</td>\n",
       "      <td>F</td>\n",
       "      <td>Hispanic</td>\n",
       "      <td>101.0</td>\n",
       "      <td>ROSCOE</td>\n",
       "      <td>SHIRLEY</td>\n",
       "      <td>18909.0</td>\n",
       "      <td>6</td>\n",
       "      <td>6</td>\n",
       "      <td>Friday</td>\n",
       "      <td>34.2204</td>\n",
       "      <td>-118.5579</td>\n",
       "    </tr>\n",
       "    <tr>\n",
       "      <th>3</th>\n",
       "      <td>2019-06-22</td>\n",
       "      <td>525</td>\n",
       "      <td>Topanga</td>\n",
       "      <td>2145</td>\n",
       "      <td>44.0</td>\n",
       "      <td>F</td>\n",
       "      <td>Hispanic</td>\n",
       "      <td>101.0</td>\n",
       "      <td>VICTORY                      BL</td>\n",
       "      <td>SHOUP                        AV</td>\n",
       "      <td>4278.0</td>\n",
       "      <td>5</td>\n",
       "      <td>6</td>\n",
       "      <td>Friday</td>\n",
       "      <td>34.1865</td>\n",
       "      <td>-118.6146</td>\n",
       "    </tr>\n",
       "    <tr>\n",
       "      <th>4</th>\n",
       "      <td>2019-06-22</td>\n",
       "      <td>245</td>\n",
       "      <td>N Hollywood</td>\n",
       "      <td>1543</td>\n",
       "      <td>43.0</td>\n",
       "      <td>F</td>\n",
       "      <td>Hispanic</td>\n",
       "      <td>101.0</td>\n",
       "      <td>LAUREL CANYON                BL</td>\n",
       "      <td>MAGNOLIA                     BL</td>\n",
       "      <td>8890.0</td>\n",
       "      <td>2</td>\n",
       "      <td>6</td>\n",
       "      <td>Friday</td>\n",
       "      <td>34.1649</td>\n",
       "      <td>-118.3965</td>\n",
       "    </tr>\n",
       "  </tbody>\n",
       "</table>\n",
       "</div>"
      ],
      "text/plain": [
       "         date  time         area  district  victim_Age victim_sex victim_race  \\\n",
       "0  2019-06-22  1150      Mission      1985        32.0          M    Hispanic   \n",
       "1  2019-06-22  1600    Southwest       357        27.0          M    Hispanic   \n",
       "2  2019-06-22   650  West Valley      1001        20.0          F    Hispanic   \n",
       "3  2019-06-22   525      Topanga      2145        44.0          F    Hispanic   \n",
       "4  2019-06-22   245  N Hollywood      1543        43.0          F    Hispanic   \n",
       "\n",
       "   premise                          address                     cross_street  \\\n",
       "0    101.0  PARTHENIA                    ST  TOBIAS                       AV   \n",
       "1    101.0                        JEFFERSON                         CATALINA   \n",
       "2    101.0                           ROSCOE                          SHIRLEY   \n",
       "3    101.0  VICTORY                      BL  SHOUP                        AV   \n",
       "4    101.0  LAUREL CANYON                BL  MAGNOLIA                     BL   \n",
       "\n",
       "       zip  hour  month weekday      lat       lon  \n",
       "0  19730.0    11      6  Friday  34.2279 -118.4516  \n",
       "1  22724.0    16      6  Friday  34.0255 -118.2937  \n",
       "2  18909.0     6      6  Friday  34.2204 -118.5579  \n",
       "3   4278.0     5      6  Friday  34.1865 -118.6146  \n",
       "4   8890.0     2      6  Friday  34.1649 -118.3965  "
      ]
     },
     "execution_count": 2,
     "metadata": {},
     "output_type": "execute_result"
    }
   ],
   "source": [
    "#import modules for the analysis environment\n",
    "import os\n",
    "import matplotlib.pyplot as plta\n",
    "import pandas as pd\n",
    "import numpy as np\n",
    "import requests\n",
    "import datetime\n",
    "import ast\n",
    "import gmaps\n",
    "import datetime\n",
    "from config import gkey\n",
    "\n",
    "#read cleaned csv file\n",
    "file_path = \"Data/Clean/cleaned_data.csv\"\n",
    "df = pd.read_csv(file_path)\n",
    "df.head()"
   ]
  },
  {
   "cell_type": "code",
   "execution_count": 150,
   "metadata": {},
   "outputs": [
    {
     "data": {
      "text/plain": [
       "array([32., 27., 20., 44., 43., nan, 40., 35., 31., 38., 21., 63., 42.,\n",
       "       57., 59., 50., 33., 53., 23., 62., 18., 61., 99., 41., 25., 46.,\n",
       "       47., 54., 24., 22., 66., 72., 52., 39., 28., 29., 36., 26., 30.,\n",
       "       16., 60., 77., 94., 56., 48., 37., 73., 15., 49., 58., 17., 64.,\n",
       "       71., 55., 45., 68., 85., 67., 19., 65., 84., 34., 70., 51., 82.,\n",
       "       76., 91., 87., 13., 69., 80., 75., 83., 74., 79., 12., 81., 88.,\n",
       "       14., 92., 78., 86., 11., 89., 90., 96., 93., 10., 98., 97., 95.])"
      ]
     },
     "execution_count": 150,
     "metadata": {},
     "output_type": "execute_result"
    }
   ],
   "source": []
  },
  {
   "cell_type": "markdown",
   "metadata": {},
   "source": [
    "## Do Asian Crash More Than Average?"
   ]
  },
  {
   "cell_type": "code",
   "execution_count": null,
   "metadata": {},
   "outputs": [],
   "source": [
    "#get an overview of victim in race distribution\n",
    "df['victim_race'].value_counts()\n",
    "#bar graph\n",
    "race_data = pd.DataFrame(df['victim_race'].value_counts())\n",
    "fig = race_data.plot(kind='bar',color='black')\n",
    "fig.set_xlabel('Ethnicity')\n",
    "fig.set_yticks([])\n",
    "fig.set_title('Collision Per Ethnicity')\n",
    "rects = fig.patches\n",
    "labels=race_data.victim_race.tolist()\n",
    "sum_labels = sum(labels)\n",
    "perc_labels = [round(i/sum_labels*100,2) for i in labels]\n",
    "perc_labels = ['{:,.2f}%'.format(i) for i in perc_labels]\n",
    "for rect,label in zip(rects,perc_labels):\n",
    "      fig.text(rect.get_x()+rect.get_width()/2,rect.get_height(),label,ha='center',va=\n",
    "              'bottom')\n",
    "fig.spines['right'].set_visible(False)\n",
    "fig.spines['top'].set_visible(False)\n",
    "fig.spines['left'].set_visible(False)\n",
    "fig.tick_params(axis='x', rotation=40)\n",
    "#export\n",
    "plta.savefig(os.path.join(\"figures\",\"collision_per_ethnicity.png\"))"
   ]
  },
  {
   "cell_type": "markdown",
   "metadata": {},
   "source": [
    "## How Many Car Accidents Per Month?"
   ]
  },
  {
   "cell_type": "code",
   "execution_count": 244,
   "metadata": {},
   "outputs": [
    {
     "data": {
      "image/png": "[encoded data removed]",
      "text/plain": [
       "<Figure size 432x288 with 1 Axes>"
      ]
     },
     "metadata": {
      "needs_background": "light"
     },
     "output_type": "display_data"
    }
   ],
   "source": [
    "df1= df.copy()\n",
    "# #map the month column to make it look neat\n",
    "month_description = ['Jan', 'Feb', 'Mar','Apr', 'May', 'Jun',\n",
    "                        'Jul', 'Aug', 'Sep','Oct', 'Nov', 'Dec']\n",
    "# df1.month = df.month.map(month_description)\n",
    "\n",
    "\n",
    "month_data = pd.DataFrame(df1.month.value_counts())\n",
    "month_data= month_data.sort_index()\n",
    "fig_month = month_data.plot(kind='barh',color='black')\n",
    "\n",
    "\n",
    "fig_month.set_ylabel('Month')\n",
    "fig_month.set_yticklabels(month_description)\n",
    "fig_month.set_xticks([])\n",
    "fig_month.set_title('Collision Per Month')\n",
    "fig_month.spines['right'].set_visible(False)\n",
    "fig_month.spines['top'].set_visible(False)\n",
    "fig_month.spines['bottom'].set_visible(False)\n",
    "fig_month.tick_params(axis='x', rotation=40)\n",
    "fig_month.get_legend().remove()\n",
    "\n",
    "\n",
    "rects=fig_month.patches\n",
    "labels = df1['month'].value_counts().sort_index()\n",
    "sum_labels = sum(labels)\n",
    "perc_labels = [round(i/sum_labels*100,2) for i in labels]\n",
    "perc_labels = ['{:,.2f}%'.format(i) for i in perc_labels]\n",
    "for rect,label in zip(rects,perc_labels):\n",
    "      fig_month.text(rect.get_width()*1.01,rect.get_y(),label,ha='left',va=\n",
    "              'bottom')\n",
    "\n",
    "#export\n",
    "plta.savefig(os.path.join(\"figures\",\"collision_month_distribution.png\"))"
   ]
  },
  {
   "cell_type": "markdown",
   "metadata": {},
   "source": [
    "## Calendar Heatmap"
   ]
  },
  {
   "cell_type": "markdown",
   "metadata": {},
   "source": [
    "## Google Heatmap"
   ]
  },
  {
   "cell_type": "code",
   "execution_count": 92,
   "metadata": {},
   "outputs": [
    {
     "data": {
      "application/vnd.jupyter.widget-view+json": {
       "model_id": "f23b2fa4c44849e383bc259fcc50652c",
       "version_major": 2,
       "version_minor": 0
      },
      "text/plain": [
       "Figure(layout=FigureLayout(height='420px'))"
      ]
     },
     "metadata": {},
     "output_type": "display_data"
    }
   ],
   "source": [
    "# gmaps.configure(api_key=gkey)\n",
    "# location = df[['lat','lon']].astype(float)\n",
    "# fig = gmaps.figure()\n",
    "\n",
    "# layer = gmaps.symbol_layer(\n",
    "#     location, fill_color='rgba(0, 150, 0, 0.4)',\n",
    "#     stroke_color='rgba(0, 0, 150, 0.4)', scale=2)\n",
    "\n",
    "# fig.add_layer(layer)\n",
    "# fig"
   ]
  }
 ],
 "metadata": {
  "kernelspec": {
   "display_name": "Python 3",
   "language": "python",
   "name": "python3"
  },
  "language_info": {
   "codemirror_mode": {
    "name": "ipython",
    "version": 3
   },
   "file_extension": ".py",
   "mimetype": "text/x-python",
   "name": "python",
   "nbconvert_exporter": "python",
   "pygments_lexer": "ipython3",
   "version": "3.7.3"
  }
 },
 "nbformat": 4,
 "nbformat_minor": 2
}
