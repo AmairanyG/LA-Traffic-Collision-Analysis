{
 "cells": [
  {
   "cell_type": "code",
   "execution_count": 3,
   "metadata": {
    "scrolled": true
   },
   "outputs": [
    {
     "data": {
      "text/html": [
       "<div>\n",
       "<style scoped>\n",
       "    .dataframe tbody tr th:only-of-type {\n",
       "        vertical-align: middle;\n",
       "    }\n",
       "\n",
       "    .dataframe tbody tr th {\n",
       "        vertical-align: top;\n",
       "    }\n",
       "\n",
       "    .dataframe thead th {\n",
       "        text-align: right;\n",
       "    }\n",
       "</style>\n",
       "<table border=\"1\" class=\"dataframe\">\n",
       "  <thead>\n",
       "    <tr style=\"text-align: right;\">\n",
       "      <th></th>\n",
       "      <th>date</th>\n",
       "      <th>time</th>\n",
       "      <th>area</th>\n",
       "      <th>district</th>\n",
       "      <th>victim_age</th>\n",
       "      <th>victim_sex</th>\n",
       "      <th>victim_race</th>\n",
       "      <th>premise</th>\n",
       "      <th>address</th>\n",
       "      <th>location</th>\n",
       "    </tr>\n",
       "  </thead>\n",
       "  <tbody>\n",
       "    <tr>\n",
       "      <th>0</th>\n",
       "      <td>07/06/2019</td>\n",
       "      <td>2355</td>\n",
       "      <td>N Hollywood</td>\n",
       "      <td>1591</td>\n",
       "      <td>99.0</td>\n",
       "      <td>Male</td>\n",
       "      <td>Unknown</td>\n",
       "      <td>STREET</td>\n",
       "      <td>GOODLAND                     AV</td>\n",
       "      <td>(34.1371, -118.4062)</td>\n",
       "    </tr>\n",
       "    <tr>\n",
       "      <th>1</th>\n",
       "      <td>07/06/2019</td>\n",
       "      <td>500</td>\n",
       "      <td>Foothill</td>\n",
       "      <td>1677</td>\n",
       "      <td>45.0</td>\n",
       "      <td>Male</td>\n",
       "      <td>White</td>\n",
       "      <td>STREET</td>\n",
       "      <td>GLENOAKS                     BL</td>\n",
       "      <td>(34.2249, -118.3617)</td>\n",
       "    </tr>\n",
       "    <tr>\n",
       "      <th>2</th>\n",
       "      <td>07/06/2019</td>\n",
       "      <td>1130</td>\n",
       "      <td>West Valley</td>\n",
       "      <td>1028</td>\n",
       "      <td>25.0</td>\n",
       "      <td>Male</td>\n",
       "      <td>Asian</td>\n",
       "      <td>STREET</td>\n",
       "      <td>SHERMAN                      WY</td>\n",
       "      <td>(34.2012, -118.4989)</td>\n",
       "    </tr>\n",
       "    <tr>\n",
       "      <th>3</th>\n",
       "      <td>07/06/2019</td>\n",
       "      <td>1415</td>\n",
       "      <td>Northeast</td>\n",
       "      <td>1153</td>\n",
       "      <td>29.0</td>\n",
       "      <td>Male</td>\n",
       "      <td>Unknown</td>\n",
       "      <td>STREET</td>\n",
       "      <td>LOS FELIZ                    BL</td>\n",
       "      <td>(34.1081, -118.3078)</td>\n",
       "    </tr>\n",
       "    <tr>\n",
       "      <th>4</th>\n",
       "      <td>07/06/2019</td>\n",
       "      <td>1230</td>\n",
       "      <td>Central</td>\n",
       "      <td>192</td>\n",
       "      <td>41.0</td>\n",
       "      <td>Male</td>\n",
       "      <td>Unknown</td>\n",
       "      <td>STREET</td>\n",
       "      <td>GRAND                        AV</td>\n",
       "      <td>(34.0384, -118.2646)</td>\n",
       "    </tr>\n",
       "  </tbody>\n",
       "</table>\n",
       "</div>"
      ],
      "text/plain": [
       "         date  time         area  district  victim_age victim_sex victim_race  \\\n",
       "0  07/06/2019  2355  N Hollywood      1591        99.0       Male     Unknown   \n",
       "1  07/06/2019   500     Foothill      1677        45.0       Male       White   \n",
       "2  07/06/2019  1130  West Valley      1028        25.0       Male       Asian   \n",
       "3  07/06/2019  1415    Northeast      1153        29.0       Male     Unknown   \n",
       "4  07/06/2019  1230      Central       192        41.0       Male     Unknown   \n",
       "\n",
       "  premise                          address              location  \n",
       "0  STREET  GOODLAND                     AV  (34.1371, -118.4062)  \n",
       "1  STREET  GLENOAKS                     BL  (34.2249, -118.3617)  \n",
       "2  STREET  SHERMAN                      WY  (34.2012, -118.4989)  \n",
       "3  STREET  LOS FELIZ                    BL  (34.1081, -118.3078)  \n",
       "4  STREET  GRAND                        AV  (34.0384, -118.2646)  "
      ]
     },
     "execution_count": 3,
     "metadata": {},
     "output_type": "execute_result"
    }
   ],
   "source": [
    "#import modules for the analysis environment\n",
    "import os\n",
    "import matplotlib.pyplot as plta\n",
    "import pandas as pd\n",
    "import numpy as np\n",
    "import requests\n",
    "import datetime\n",
    "import ast\n",
    "import gmaps\n",
    "import datetime\n",
    "# from config import gkey\n",
    "\n",
    "#read cleaned csv file\n",
    "df = pd.read_csv(\"Data/clean_data/clean_data.csv\")\n",
    "df.head()"
   ]
  },
  {
   "cell_type": "code",
   "execution_count": 4,
   "metadata": {},
   "outputs": [
    {
     "data": {
      "text/plain": [
       "Hispanic            156131\n",
       "White               101618\n",
       "Unknown              60669\n",
       "Black                58343\n",
       "Asian                23383\n",
       "Pacific Islander       442\n",
       "American Indian        135\n",
       "Name: victim_race, dtype: int64"
      ]
     },
     "execution_count": 4,
     "metadata": {},
     "output_type": "execute_result"
    }
   ],
   "source": [
    "df['victim_race'].value_counts()"
   ]
  },
  {
   "cell_type": "code",
   "execution_count": null,
   "metadata": {},
   "outputs": [],
   "source": []
  },
  {
   "cell_type": "markdown",
   "metadata": {},
   "source": [
    "## Do Asian Crash More Than Average?"
   ]
  },
  {
   "cell_type": "code",
   "execution_count": 6,
   "metadata": {},
   "outputs": [
    {
     "data": {
      "text/plain": [
       "Text(0.5, 1.0, 'Collision Per Ethnicity')"
      ]
     },
     "execution_count": 6,
     "metadata": {},
     "output_type": "execute_result"
    },
    {
     "data": {
      "image/png": "[encoded data removed]",
      "text/plain": [
       "<Figure size 432x288 with 1 Axes>"
      ]
     },
     "metadata": {
      "needs_background": "light"
     },
     "output_type": "display_data"
    }
   ],
   "source": [
    "#get an overview of victim in race distribution\n",
    "df[\"victim_race\"].value_counts()\n",
    "#bar graph\n",
    "race_data = pd.DataFrame(df[\"victim_race\"].value_counts())\n",
    "fig = race_data.plot(kind=\"bar\", color=\"black\")\n",
    "fig.set_xlabel('Ethnicity')\n",
    "fig.set_title('Collision Per Ethnicity')\n",
    "labels=race_data.victim_race.tolist()\n",
    "sum_labels = sum(labels)\n",
    "perc_labels = [round(i/sum_labels*100,2) for i in labels]\n",
    "perc_labels = ['{:,.2f}%'.format(i) for i in perc_labels]\n"
   ]
  },
  {
   "cell_type": "markdown",
   "metadata": {},
   "source": [
    "## How Many Car Accidents Per Month?"
   ]
  },
  {
   "cell_type": "code",
   "execution_count": 162,
   "metadata": {},
   "outputs": [
    {
     "data": {
      "image/png": "[encoded data removed]",
      "text/plain": [
       "<Figure size 432x288 with 1 Axes>"
      ]
     },
     "metadata": {
      "needs_background": "light"
     },
     "output_type": "display_data"
    }
   ],
   "source": [
    "df1= df.copy()\n",
    "# #map the month column to make it look neat\n",
    "month_description = {1:'January', 2:'February', 3:'Unknown',4:'April', 5:'May', 6:'June',\n",
    "                      7:'July', 8:'August', 9:'September',10:'October', 11:'November', 12:'December'}\n",
    "df1.month = df.month.map(month_description)\n",
    "df1.head()\n",
    "\n",
    "month_data = pd.DataFrame(df.month.value_counts())\n",
    "month_data= month_data.sort_index()\n",
    "fig_month = month_data.plot(kind='bar')"
   ]
  },
  {
   "cell_type": "markdown",
   "metadata": {},
   "source": [
    "## Calendar Heatmap"
   ]
  },
  {
   "cell_type": "markdown",
   "metadata": {},
   "source": [
    "## Google Heatmap"
   ]
  },
  {
   "cell_type": "code",
   "execution_count": 86,
   "metadata": {},
   "outputs": [
    {
     "name": "stdout",
     "output_type": "stream",
     "text": [
      "Requirement already satisfied: gmaps in c:\\users\\shan\\anaconda3\\lib\\site-packages (0.8.4)\n",
      "Requirement already satisfied: ipython>=5.3.0 in c:\\users\\shan\\anaconda3\\lib\\site-packages (from gmaps) (7.4.0)\n",
      "Requirement already satisfied: traitlets>=4.3.0 in c:\\users\\shan\\anaconda3\\lib\\site-packages (from gmaps) (4.3.2)\n",
      "Requirement already satisfied: six in c:\\users\\shan\\anaconda3\\lib\\site-packages (from gmaps) (1.12.0)\n",
      "Requirement already satisfied: ipywidgets>=7.0.0 in c:\\users\\shan\\anaconda3\\lib\\site-packages (from gmaps) (7.4.2)\n",
      "Requirement already satisfied: geojson>=2.0.0 in c:\\users\\shan\\anaconda3\\lib\\site-packages (from gmaps) (2.4.1)\n",
      "Requirement already satisfied: pygments in c:\\users\\shan\\anaconda3\\lib\\site-packages (from ipython>=5.3.0->gmaps) (2.3.1)\n",
      "Requirement already satisfied: backcall in c:\\users\\shan\\anaconda3\\lib\\site-packages (from ipython>=5.3.0->gmaps) (0.1.0)\n",
      "Requirement already satisfied: colorama; sys_platform == \"win32\" in c:\\users\\shan\\anaconda3\\lib\\site-packages (from ipython>=5.3.0->gmaps) (0.4.1)\n",
      "Requirement already satisfied: prompt-toolkit<2.1.0,>=2.0.0 in c:\\users\\shan\\anaconda3\\lib\\site-packages (from ipython>=5.3.0->gmaps) (2.0.9)\n",
      "Requirement already satisfied: pickleshare in c:\\users\\shan\\anaconda3\\lib\\site-packages (from ipython>=5.3.0->gmaps) (0.7.5)\n",
      "Requirement already satisfied: setuptools>=18.5 in c:\\users\\shan\\anaconda3\\lib\\site-packages (from ipython>=5.3.0->gmaps) (40.8.0)\n",
      "Requirement already satisfied: jedi>=0.10 in c:\\users\\shan\\anaconda3\\lib\\site-packages (from ipython>=5.3.0->gmaps) (0.13.3)\n",
      "Requirement already satisfied: decorator in c:\\users\\shan\\anaconda3\\lib\\site-packages (from ipython>=5.3.0->gmaps) (4.4.0)\n",
      "Requirement already satisfied: ipython-genutils in c:\\users\\shan\\anaconda3\\lib\\site-packages (from traitlets>=4.3.0->gmaps) (0.2.0)\n",
      "Requirement already satisfied: nbformat>=4.2.0 in c:\\users\\shan\\anaconda3\\lib\\site-packages (from ipywidgets>=7.0.0->gmaps) (4.4.0)\n",
      "Requirement already satisfied: ipykernel>=4.5.1 in c:\\users\\shan\\anaconda3\\lib\\site-packages (from ipywidgets>=7.0.0->gmaps) (5.1.0)\n",
      "Requirement already satisfied: widgetsnbextension~=3.4.0 in c:\\users\\shan\\anaconda3\\lib\\site-packages (from ipywidgets>=7.0.0->gmaps) (3.4.2)\n",
      "Requirement already satisfied: wcwidth in c:\\users\\shan\\anaconda3\\lib\\site-packages (from prompt-toolkit<2.1.0,>=2.0.0->ipython>=5.3.0->gmaps) (0.1.7)\n",
      "Requirement already satisfied: parso>=0.3.0 in c:\\users\\shan\\anaconda3\\lib\\site-packages (from jedi>=0.10->ipython>=5.3.0->gmaps) (0.3.4)\n",
      "Requirement already satisfied: jsonschema!=2.5.0,>=2.4 in c:\\users\\shan\\anaconda3\\lib\\site-packages (from nbformat>=4.2.0->ipywidgets>=7.0.0->gmaps) (3.0.1)\n",
      "Requirement already satisfied: jupyter-core in c:\\users\\shan\\anaconda3\\lib\\site-packages (from nbformat>=4.2.0->ipywidgets>=7.0.0->gmaps) (4.4.0)\n",
      "Requirement already satisfied: tornado>=4.2 in c:\\users\\shan\\anaconda3\\lib\\site-packages (from ipykernel>=4.5.1->ipywidgets>=7.0.0->gmaps) (6.0.2)\n",
      "Requirement already satisfied: jupyter-client in c:\\users\\shan\\anaconda3\\lib\\site-packages (from ipykernel>=4.5.1->ipywidgets>=7.0.0->gmaps) (5.2.4)\n",
      "Requirement already satisfied: notebook>=4.4.1 in c:\\users\\shan\\anaconda3\\lib\\site-packages (from widgetsnbextension~=3.4.0->ipywidgets>=7.0.0->gmaps) (5.7.8)\n",
      "Requirement already satisfied: attrs>=17.4.0 in c:\\users\\shan\\anaconda3\\lib\\site-packages (from jsonschema!=2.5.0,>=2.4->nbformat>=4.2.0->ipywidgets>=7.0.0->gmaps) (19.1.0)\n",
      "Requirement already satisfied: pyrsistent>=0.14.0 in c:\\users\\shan\\anaconda3\\lib\\site-packages (from jsonschema!=2.5.0,>=2.4->nbformat>=4.2.0->ipywidgets>=7.0.0->gmaps) (0.14.11)\n",
      "Requirement already satisfied: python-dateutil>=2.1 in c:\\users\\shan\\anaconda3\\lib\\site-packages (from jupyter-client->ipykernel>=4.5.1->ipywidgets>=7.0.0->gmaps) (2.8.0)\n",
      "Requirement already satisfied: pyzmq>=13 in c:\\users\\shan\\anaconda3\\lib\\site-packages (from jupyter-client->ipykernel>=4.5.1->ipywidgets>=7.0.0->gmaps) (18.0.0)\n",
      "Requirement already satisfied: terminado>=0.8.1 in c:\\users\\shan\\anaconda3\\lib\\site-packages (from notebook>=4.4.1->widgetsnbextension~=3.4.0->ipywidgets>=7.0.0->gmaps) (0.8.1)\n",
      "Requirement already satisfied: jinja2 in c:\\users\\shan\\anaconda3\\lib\\site-packages (from notebook>=4.4.1->widgetsnbextension~=3.4.0->ipywidgets>=7.0.0->gmaps) (2.10)\n",
      "Requirement already satisfied: Send2Trash in c:\\users\\shan\\anaconda3\\lib\\site-packages (from notebook>=4.4.1->widgetsnbextension~=3.4.0->ipywidgets>=7.0.0->gmaps) (1.5.0)\n",
      "Requirement already satisfied: nbconvert in c:\\users\\shan\\anaconda3\\lib\\site-packages (from notebook>=4.4.1->widgetsnbextension~=3.4.0->ipywidgets>=7.0.0->gmaps) (5.4.1)\n",
      "Requirement already satisfied: prometheus-client in c:\\users\\shan\\anaconda3\\lib\\site-packages (from notebook>=4.4.1->widgetsnbextension~=3.4.0->ipywidgets>=7.0.0->gmaps) (0.6.0)\n",
      "Requirement already satisfied: MarkupSafe>=0.23 in c:\\users\\shan\\anaconda3\\lib\\site-packages (from jinja2->notebook>=4.4.1->widgetsnbextension~=3.4.0->ipywidgets>=7.0.0->gmaps) (1.1.1)\n",
      "Requirement already satisfied: mistune>=0.8.1 in c:\\users\\shan\\anaconda3\\lib\\site-packages (from nbconvert->notebook>=4.4.1->widgetsnbextension~=3.4.0->ipywidgets>=7.0.0->gmaps) (0.8.4)\n",
      "Requirement already satisfied: entrypoints>=0.2.2 in c:\\users\\shan\\anaconda3\\lib\\site-packages (from nbconvert->notebook>=4.4.1->widgetsnbextension~=3.4.0->ipywidgets>=7.0.0->gmaps) (0.3)\n",
      "Requirement already satisfied: bleach in c:\\users\\shan\\anaconda3\\lib\\site-packages (from nbconvert->notebook>=4.4.1->widgetsnbextension~=3.4.0->ipywidgets>=7.0.0->gmaps) (3.1.0)\n",
      "Requirement already satisfied: pandocfilters>=1.4.1 in c:\\users\\shan\\anaconda3\\lib\\site-packages (from nbconvert->notebook>=4.4.1->widgetsnbextension~=3.4.0->ipywidgets>=7.0.0->gmaps) (1.4.2)\n",
      "Requirement already satisfied: testpath in c:\\users\\shan\\anaconda3\\lib\\site-packages (from nbconvert->notebook>=4.4.1->widgetsnbextension~=3.4.0->ipywidgets>=7.0.0->gmaps) (0.4.2)\n",
      "Requirement already satisfied: defusedxml in c:\\users\\shan\\anaconda3\\lib\\site-packages (from nbconvert->notebook>=4.4.1->widgetsnbextension~=3.4.0->ipywidgets>=7.0.0->gmaps) (0.5.0)\n",
      "Requirement already satisfied: webencodings in c:\\users\\shan\\anaconda3\\lib\\site-packages (from bleach->nbconvert->notebook>=4.4.1->widgetsnbextension~=3.4.0->ipywidgets>=7.0.0->gmaps) (0.5.1)\n"
     ]
    }
   ],
   "source": [
    "!pip install gmaps"
   ]
  },
  {
   "cell_type": "code",
   "execution_count": 92,
   "metadata": {},
   "outputs": [
    {
     "data": {
      "application/vnd.jupyter.widget-view+json": {
       "model_id": "f23b2fa4c44849e383bc259fcc50652c",
       "version_major": 2,
       "version_minor": 0
      },
      "text/plain": [
       "Figure(layout=FigureLayout(height='420px'))"
      ]
     },
     "metadata": {},
     "output_type": "display_data"
    }
   ],
   "source": [
    "# gmaps.configure(api_key=gkey)\n",
    "# location = df[['lat','lon']].astype(float)\n",
    "# fig = gmaps.figure()\n",
    "\n",
    "# layer = gmaps.symbol_layer(\n",
    "#     location, fill_color='rgba(0, 150, 0, 0.4)',\n",
    "#     stroke_color='rgba(0, 0, 150, 0.4)', scale=2)\n",
    "\n",
    "# fig.add_layer(layer)\n",
    "# fig"
   ]
  }
 ],
 "metadata": {
  "kernelspec": {
   "display_name": "Python 3",
   "language": "python",
   "name": "python3"
  },
  "language_info": {
   "codemirror_mode": {
    "name": "ipython",
    "version": 3
   },
   "file_extension": ".py",
   "mimetype": "text/x-python",
   "name": "python",
   "nbconvert_exporter": "python",
   "pygments_lexer": "ipython3",
   "version": "3.7.3"
  }
 },
 "nbformat": 4,
 "nbformat_minor": 2
}
