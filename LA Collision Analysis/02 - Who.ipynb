{
 "cells": [
  {
   "cell_type": "markdown",
   "metadata": {},
   "source": [
    "## 1. Import Modules and Data"
   ]
  },
  {
   "cell_type": "code",
   "execution_count": 693,
   "metadata": {
    "scrolled": false
   },
   "outputs": [
    {
     "data": {
      "text/html": [
       "<div>\n",
       "<style scoped>\n",
       "    .dataframe tbody tr th:only-of-type {\n",
       "        vertical-align: middle;\n",
       "    }\n",
       "\n",
       "    .dataframe tbody tr th {\n",
       "        vertical-align: top;\n",
       "    }\n",
       "\n",
       "    .dataframe thead th {\n",
       "        text-align: right;\n",
       "    }\n",
       "</style>\n",
       "<table border=\"1\" class=\"dataframe\">\n",
       "  <thead>\n",
       "    <tr style=\"text-align: right;\">\n",
       "      <th></th>\n",
       "      <th>date</th>\n",
       "      <th>time</th>\n",
       "      <th>area</th>\n",
       "      <th>district</th>\n",
       "      <th>victim_age</th>\n",
       "      <th>victim_sex</th>\n",
       "      <th>victim_race</th>\n",
       "      <th>premise</th>\n",
       "      <th>address</th>\n",
       "      <th>location</th>\n",
       "    </tr>\n",
       "  </thead>\n",
       "  <tbody>\n",
       "    <tr>\n",
       "      <th>0</th>\n",
       "      <td>07/06/2019</td>\n",
       "      <td>2355</td>\n",
       "      <td>N Hollywood</td>\n",
       "      <td>1591</td>\n",
       "      <td>99.0</td>\n",
       "      <td>Male</td>\n",
       "      <td>Unknown</td>\n",
       "      <td>STREET</td>\n",
       "      <td>GOODLAND                     AV</td>\n",
       "      <td>(34.1371, -118.4062)</td>\n",
       "    </tr>\n",
       "    <tr>\n",
       "      <th>1</th>\n",
       "      <td>07/06/2019</td>\n",
       "      <td>500</td>\n",
       "      <td>Foothill</td>\n",
       "      <td>1677</td>\n",
       "      <td>45.0</td>\n",
       "      <td>Male</td>\n",
       "      <td>White</td>\n",
       "      <td>STREET</td>\n",
       "      <td>GLENOAKS                     BL</td>\n",
       "      <td>(34.2249, -118.3617)</td>\n",
       "    </tr>\n",
       "    <tr>\n",
       "      <th>2</th>\n",
       "      <td>07/06/2019</td>\n",
       "      <td>1130</td>\n",
       "      <td>West Valley</td>\n",
       "      <td>1028</td>\n",
       "      <td>25.0</td>\n",
       "      <td>Male</td>\n",
       "      <td>Asian</td>\n",
       "      <td>STREET</td>\n",
       "      <td>SHERMAN                      WY</td>\n",
       "      <td>(34.2012, -118.4989)</td>\n",
       "    </tr>\n",
       "    <tr>\n",
       "      <th>3</th>\n",
       "      <td>07/06/2019</td>\n",
       "      <td>1415</td>\n",
       "      <td>Northeast</td>\n",
       "      <td>1153</td>\n",
       "      <td>29.0</td>\n",
       "      <td>Male</td>\n",
       "      <td>Unknown</td>\n",
       "      <td>STREET</td>\n",
       "      <td>LOS FELIZ                    BL</td>\n",
       "      <td>(34.1081, -118.3078)</td>\n",
       "    </tr>\n",
       "    <tr>\n",
       "      <th>4</th>\n",
       "      <td>07/06/2019</td>\n",
       "      <td>1230</td>\n",
       "      <td>Central</td>\n",
       "      <td>192</td>\n",
       "      <td>41.0</td>\n",
       "      <td>Male</td>\n",
       "      <td>Unknown</td>\n",
       "      <td>STREET</td>\n",
       "      <td>GRAND                        AV</td>\n",
       "      <td>(34.0384, -118.2646)</td>\n",
       "    </tr>\n",
       "  </tbody>\n",
       "</table>\n",
       "</div>"
      ],
      "text/plain": [
       "         date  time         area  district  victim_age victim_sex victim_race  \\\n",
       "0  07/06/2019  2355  N Hollywood      1591        99.0       Male     Unknown   \n",
       "1  07/06/2019   500     Foothill      1677        45.0       Male       White   \n",
       "2  07/06/2019  1130  West Valley      1028        25.0       Male       Asian   \n",
       "3  07/06/2019  1415    Northeast      1153        29.0       Male     Unknown   \n",
       "4  07/06/2019  1230      Central       192        41.0       Male     Unknown   \n",
       "\n",
       "  premise                          address              location  \n",
       "0  STREET  GOODLAND                     AV  (34.1371, -118.4062)  \n",
       "1  STREET  GLENOAKS                     BL  (34.2249, -118.3617)  \n",
       "2  STREET  SHERMAN                      WY  (34.2012, -118.4989)  \n",
       "3  STREET  LOS FELIZ                    BL  (34.1081, -118.3078)  \n",
       "4  STREET  GRAND                        AV  (34.0384, -118.2646)  "
      ]
     },
     "execution_count": 693,
     "metadata": {},
     "output_type": "execute_result"
    }
   ],
   "source": [
    "#import modules for the analysis environment\n",
    "import os\n",
    "import matplotlib.pyplot as plta\n",
    "import matplotlib as plt\n",
    "import matplotlib.patches as mpatches\n",
    "import pandas as pd\n",
    "import numpy as np\n",
    "import requests\n",
    "import datetime\n",
    "import ast\n",
    "import gmaps\n",
    "import datetime\n",
    "import scipy.stats as stats\n",
    "# from config import gkey\n",
    "\n",
    "#read cleaned csv file\n",
    "df = pd.read_csv(\"Data/clean_data/clean_data.csv\")\n",
    "df.head()"
   ]
  },
  {
   "cell_type": "markdown",
   "metadata": {},
   "source": [
    "## 2. Victims by Race"
   ]
  },
  {
   "cell_type": "code",
   "execution_count": 684,
   "metadata": {},
   "outputs": [
    {
     "data": {
      "text/html": [
       "<div>\n",
       "<style scoped>\n",
       "    .dataframe tbody tr th:only-of-type {\n",
       "        vertical-align: middle;\n",
       "    }\n",
       "\n",
       "    .dataframe tbody tr th {\n",
       "        vertical-align: top;\n",
       "    }\n",
       "\n",
       "    .dataframe thead th {\n",
       "        text-align: right;\n",
       "    }\n",
       "</style>\n",
       "<table border=\"1\" class=\"dataframe\">\n",
       "  <thead>\n",
       "    <tr style=\"text-align: right;\">\n",
       "      <th></th>\n",
       "      <th>victim_race</th>\n",
       "      <th>crash_population</th>\n",
       "    </tr>\n",
       "  </thead>\n",
       "  <tbody>\n",
       "    <tr>\n",
       "      <th>Hispanic</th>\n",
       "      <td>156131</td>\n",
       "      <td>45.913860</td>\n",
       "    </tr>\n",
       "    <tr>\n",
       "      <th>White</th>\n",
       "      <td>101618</td>\n",
       "      <td>29.883077</td>\n",
       "    </tr>\n",
       "    <tr>\n",
       "      <th>Black</th>\n",
       "      <td>58343</td>\n",
       "      <td>17.157082</td>\n",
       "    </tr>\n",
       "    <tr>\n",
       "      <th>Asian</th>\n",
       "      <td>23383</td>\n",
       "      <td>6.876301</td>\n",
       "    </tr>\n",
       "    <tr>\n",
       "      <th>Pacific Islander</th>\n",
       "      <td>442</td>\n",
       "      <td>0.129980</td>\n",
       "    </tr>\n",
       "    <tr>\n",
       "      <th>American Indian</th>\n",
       "      <td>135</td>\n",
       "      <td>0.039700</td>\n",
       "    </tr>\n",
       "  </tbody>\n",
       "</table>\n",
       "</div>"
      ],
      "text/plain": [
       "                  victim_race  crash_population\n",
       "Hispanic               156131         45.913860\n",
       "White                  101618         29.883077\n",
       "Black                   58343         17.157082\n",
       "Asian                   23383          6.876301\n",
       "Pacific Islander          442          0.129980\n",
       "American Indian           135          0.039700"
      ]
     },
     "execution_count": 684,
     "metadata": {},
     "output_type": "execute_result"
    }
   ],
   "source": [
    "# Create DataFrame with the total counts of each ethnicity\n",
    "victim_race_counts = pd.DataFrame(df['victim_race'].value_counts())\n",
    "\n",
    "# Remove Unknown victims from DataFrame\n",
    "updated_victim_race = victim_race_counts.loc[['Hispanic','White','Black',\n",
    "                                              'Asian','Pacific Islander','American Indian'],\n",
    "                                             ['victim_race']]\n",
    "\n",
    "# Calculate the percentage of total crashes per ethinicity \n",
    "percent_victim_race = updated_victim_race[\"victim_race\"]/updated_victim_race[\"victim_race\"].sum()*100\n",
    "\n",
    "# Add a new column to display the calculated percentage\n",
    "updated_victim_race[\"crash_population\"] = percent_victim_race\n",
    "updated_victim_race"
   ]
  },
  {
   "cell_type": "code",
   "execution_count": 593,
   "metadata": {},
   "outputs": [
    {
     "data": {
      "text/html": [
       "<div>\n",
       "<style scoped>\n",
       "    .dataframe tbody tr th:only-of-type {\n",
       "        vertical-align: middle;\n",
       "    }\n",
       "\n",
       "    .dataframe tbody tr th {\n",
       "        vertical-align: top;\n",
       "    }\n",
       "\n",
       "    .dataframe thead th {\n",
       "        text-align: right;\n",
       "    }\n",
       "</style>\n",
       "<table border=\"1\" class=\"dataframe\">\n",
       "  <thead>\n",
       "    <tr style=\"text-align: right;\">\n",
       "      <th></th>\n",
       "      <th>crash_population</th>\n",
       "    </tr>\n",
       "  </thead>\n",
       "  <tbody>\n",
       "    <tr>\n",
       "      <th>Hispanic</th>\n",
       "      <td>45.913860</td>\n",
       "    </tr>\n",
       "    <tr>\n",
       "      <th>White</th>\n",
       "      <td>29.883077</td>\n",
       "    </tr>\n",
       "    <tr>\n",
       "      <th>Black</th>\n",
       "      <td>17.157082</td>\n",
       "    </tr>\n",
       "    <tr>\n",
       "      <th>Asian</th>\n",
       "      <td>6.876301</td>\n",
       "    </tr>\n",
       "    <tr>\n",
       "      <th>Pacific Islander</th>\n",
       "      <td>0.129980</td>\n",
       "    </tr>\n",
       "    <tr>\n",
       "      <th>American Indian</th>\n",
       "      <td>0.039700</td>\n",
       "    </tr>\n",
       "  </tbody>\n",
       "</table>\n",
       "</div>"
      ],
      "text/plain": [
       "                  crash_population\n",
       "Hispanic                 45.913860\n",
       "White                    29.883077\n",
       "Black                    17.157082\n",
       "Asian                     6.876301\n",
       "Pacific Islander          0.129980\n",
       "American Indian           0.039700"
      ]
     },
     "execution_count": 593,
     "metadata": {},
     "output_type": "execute_result"
    }
   ],
   "source": [
    "# Display only the percentage of crashes per ethnicity\n",
    "pct_race_df = pd.DataFrame(updated_victim_race[\"crash_population\"])\n",
    "\n",
    "# Format percentage calculations with two digits and percentage sign\n",
    "pct_race_df.style.format({\"crash_population\":\"{:.2f%}\"})\n",
    "pct_race_df"
   ]
  },
  {
   "cell_type": "code",
   "execution_count": 733,
   "metadata": {},
   "outputs": [
    {
     "data": {
      "image/png": "[encoded data removed]",
      "text/plain": [
       "<Figure size 432x288 with 1 Axes>"
      ]
     },
     "metadata": {
      "needs_background": "light"
     },
     "output_type": "display_data"
    }
   ],
   "source": [
    "# Plot bar with DataFrame\n",
    "fig1 = pct_race_df.plot(kind='bar', color='black')\n",
    "\n",
    "# Format percentages on top of each bar\n",
    "rects = fig1.patches\n",
    "labels=pct_race_df.crash_population.tolist()\n",
    "labels = ['{:.2f}%'.format(i) for i in labels]\n",
    "for rect,label in zip(rects,labels):\n",
    "      fig1.text(rect.get_x()+rect.get_width()/2,rect.get_height(),\n",
    "                label,ha='center',va='bottom')\n",
    "\n",
    "fig1.set_title('Collision By Ethnicity')  # Display graph title      \n",
    "fig1.set_xlabel('Ethnicy')                # Display graph x axis label \n",
    "fig1.set_yticks([])                       # Remove graph y ticks labels\n",
    "fig1.spines['right'].set_visible(False)   # Remove right edge line\n",
    "fig1.spines['top'].set_visible(False)     # Remove top edge line\n",
    "fig1.spines['left'].set_visible(False)    # Remove left edge line\n",
    "fig1.legend([\"Victim's Ethnicity\"])       # Rename legend\n",
    "fig1.tick_params(axis='x', rotation=30)   # Set parameres for x axis\n",
    "\n",
    "# Export image\n",
    "plta.savefig(os.path.join(\"figures\",\"collision_by_ethnicity.png\"))"
   ]
  },
  {
   "cell_type": "markdown",
   "metadata": {},
   "source": [
    "LA Population Composition by race\n",
    ">- Hispanic: 48.2%\n",
    "- White (non-hispanic): 28.5%\n",
    "- Black: 9.0%\n",
    "- Asian: 11.6%\n",
    "- Pacific Islander: 0.2%\n",
    "- American Indian: 0.4%\n",
    "- Other: 0.6%\n",
    "\n",
    "src: https://statisticalatlas.com/place/California/Los-Angeles/Race-and-Ethnicity "
   ]
  },
  {
   "cell_type": "code",
   "execution_count": 621,
   "metadata": {
    "scrolled": true
   },
   "outputs": [
    {
     "data": {
      "text/html": [
       "<style  type=\"text/css\" >\n",
       "</style><table id=\"T_708cf4b4_ab84_11e9_a320_38baf8974950\" ><thead>    <tr>        <th class=\"blank level0\" ></th>        <th class=\"col_heading level0 col0\" >crash_population</th>        <th class=\"col_heading level0 col1\" >LA_Population</th>    </tr></thead><tbody>\n",
       "                <tr>\n",
       "                        <th id=\"T_708cf4b4_ab84_11e9_a320_38baf8974950level0_row0\" class=\"row_heading level0 row0\" >Hispanic</th>\n",
       "                        <td id=\"T_708cf4b4_ab84_11e9_a320_38baf8974950row0_col0\" class=\"data row0 col0\" >45.91</td>\n",
       "                        <td id=\"T_708cf4b4_ab84_11e9_a320_38baf8974950row0_col1\" class=\"data row0 col1\" >48.2</td>\n",
       "            </tr>\n",
       "            <tr>\n",
       "                        <th id=\"T_708cf4b4_ab84_11e9_a320_38baf8974950level0_row1\" class=\"row_heading level0 row1\" >White</th>\n",
       "                        <td id=\"T_708cf4b4_ab84_11e9_a320_38baf8974950row1_col0\" class=\"data row1 col0\" >29.88</td>\n",
       "                        <td id=\"T_708cf4b4_ab84_11e9_a320_38baf8974950row1_col1\" class=\"data row1 col1\" >28.5</td>\n",
       "            </tr>\n",
       "            <tr>\n",
       "                        <th id=\"T_708cf4b4_ab84_11e9_a320_38baf8974950level0_row2\" class=\"row_heading level0 row2\" >Black</th>\n",
       "                        <td id=\"T_708cf4b4_ab84_11e9_a320_38baf8974950row2_col0\" class=\"data row2 col0\" >17.16</td>\n",
       "                        <td id=\"T_708cf4b4_ab84_11e9_a320_38baf8974950row2_col1\" class=\"data row2 col1\" >9.0</td>\n",
       "            </tr>\n",
       "            <tr>\n",
       "                        <th id=\"T_708cf4b4_ab84_11e9_a320_38baf8974950level0_row3\" class=\"row_heading level0 row3\" >Asian</th>\n",
       "                        <td id=\"T_708cf4b4_ab84_11e9_a320_38baf8974950row3_col0\" class=\"data row3 col0\" >6.88</td>\n",
       "                        <td id=\"T_708cf4b4_ab84_11e9_a320_38baf8974950row3_col1\" class=\"data row3 col1\" >11.6</td>\n",
       "            </tr>\n",
       "            <tr>\n",
       "                        <th id=\"T_708cf4b4_ab84_11e9_a320_38baf8974950level0_row4\" class=\"row_heading level0 row4\" >Pacific Islander</th>\n",
       "                        <td id=\"T_708cf4b4_ab84_11e9_a320_38baf8974950row4_col0\" class=\"data row4 col0\" >0.13</td>\n",
       "                        <td id=\"T_708cf4b4_ab84_11e9_a320_38baf8974950row4_col1\" class=\"data row4 col1\" >0.2</td>\n",
       "            </tr>\n",
       "            <tr>\n",
       "                        <th id=\"T_708cf4b4_ab84_11e9_a320_38baf8974950level0_row5\" class=\"row_heading level0 row5\" >American Indian</th>\n",
       "                        <td id=\"T_708cf4b4_ab84_11e9_a320_38baf8974950row5_col0\" class=\"data row5 col0\" >0.04</td>\n",
       "                        <td id=\"T_708cf4b4_ab84_11e9_a320_38baf8974950row5_col1\" class=\"data row5 col1\" >0.4</td>\n",
       "            </tr>\n",
       "    </tbody></table>"
      ],
      "text/plain": [
       "<pandas.io.formats.style.Styler at 0x29758b49ac8>"
      ]
     },
     "execution_count": 621,
     "metadata": {},
     "output_type": "execute_result"
    }
   ],
   "source": [
    "# Create dictionary of LA Ethnicity Population  \n",
    "ethn_dict = {\"Hispanic\":\"48.2\", \n",
    "             \"White\":\"28.5\", \n",
    "             \"Black\":\"9.0\", \n",
    "             \"Asian\":\"11.6\", \n",
    "             \"Pacific Islander\":\"0.2\", \n",
    "             \"American Indian\":\"0.4\"}\n",
    "\n",
    "# Add a new column to display LA Ethnicity Populaton and formart crash population column\n",
    "pct_race_df[\"LA_Population\"] = pd.Series(ethn_dict)\n",
    "multibar = pct_race_df.style.format({\"crash_population\":\"{:.2f}\"})\n",
    "multibar"
   ]
  },
  {
   "cell_type": "code",
   "execution_count": 732,
   "metadata": {},
   "outputs": [
    {
     "data": {
      "image/png": "[encoded data removed]",
      "text/plain": [
       "<Figure size 432x288 with 1 Axes>"
      ]
     },
     "metadata": {
      "needs_background": "light"
     },
     "output_type": "display_data"
    }
   ],
   "source": [
    "# Set required data parameres \n",
    "xaxis = [\"Hispanic\", \"White\", \"Black\", \"Asian\", \"Pacific Islander\", \"American Indian\"] \n",
    "crash = (45.91, 29.88, 17.16, 6.88, 0.13, .04)\n",
    "la_pop = (48.2, 28.5, 9, 11.6, .2, .4)\n",
    "\n",
    "# Create DataFrame and add la_pop list to it\n",
    "crash_df = pd.DataFrame(crash,xaxis)\n",
    "crash_df[1] = la_pop\n",
    "\n",
    "# Rename colums to display Crash Population and LA Population \n",
    "crash_df = crash_df.rename(columns = \n",
    "                           {0:'Crash Population',1:'LA Population'})\n",
    "\n",
    "# Generate the Plot \n",
    "fig2 = crash_df.plot(kind='bar', color=[\"black\", \"gray\"], use_index=True)\n",
    "\n",
    "\n",
    "# Display graph title\n",
    "fig2.set_title(\"Collision Victim's Ethnicity and LA Population\")\n",
    "fig2.set_xlabel(\"Ethnicity\")            # Give graph x axis label\n",
    "fig2.set_ylabel (\"Population %\")        # Give graph y axis label\n",
    "fig2.legend(loc=\"best\")                 # Display legend in best location\n",
    "fig2.tick_params(axis='x', rotation=30) # Set parameres for x axis\n",
    "\n",
    "\n",
    "# Export image\n",
    "plta.savefig(os.path.join(\"figures\", \"collision_ethnicity_LApopulation.png\"))"
   ]
  },
  {
   "cell_type": "code",
   "execution_count": 731,
   "metadata": {},
   "outputs": [
    {
     "data": {
      "image/png": "[encoded data removed]",
      "text/plain": [
       "<Figure size 432x288 with 2 Axes>"
      ]
     },
     "metadata": {
      "needs_background": "light"
     },
     "output_type": "display_data"
    }
   ],
   "source": [
    "# Set parameres for the ratio of crash victims vs LA population \n",
    "ratio = [95, 105, 191, 59, 65, 10]\n",
    "\n",
    "# Generate the Plot with ratio line\n",
    "fig3 = crash_df.plot(kind='bar', color=[\"black\", \"gray\"], use_index=True)\n",
    "line_data = fig3.twinx()\n",
    "line_fig = line_data.plot(ratio, linestyle=':',marker='o',color='red', label='Ratio')\n",
    "\n",
    "# Display graph title\n",
    "plta.title(\"Ratio of Collision Victim's Ethnicity vs. LA Population\")\n",
    "plta.ylabel(\"Ratio %\")                   # Give graph right y axis label\n",
    "plta.legend(loc=\"right\")                 # Display \"Ratio\" legend to the right\n",
    "fig3.set_xlabel(\"Ethnicty\")              # Give graph x axis label\n",
    "fig3.set_ylabel (\"Population %\")         # Give graph left y axis label\n",
    "fig3.legend(loc=\"best\")                  # Display legend in best location\n",
    "fig3.tick_params(axis='x', rotation=30)  # Set parameres for x axis\n",
    "\n",
    "# Export image\n",
    "plta.savefig(os.path.join(\"figures\",\"collision_ethnicity_ratio.png\"))"
   ]
  },
  {
   "cell_type": "markdown",
   "metadata": {},
   "source": [
    "## 3. Victims Collision by Gender\n",
    "\n",
    "src: https://www.states101.com/gender-ratios/california/los-angeles-county"
   ]
  },
  {
   "cell_type": "code",
   "execution_count": 650,
   "metadata": {
    "scrolled": false
   },
   "outputs": [
    {
     "data": {
      "text/html": [
       "<div>\n",
       "<style scoped>\n",
       "    .dataframe tbody tr th:only-of-type {\n",
       "        vertical-align: middle;\n",
       "    }\n",
       "\n",
       "    .dataframe tbody tr th {\n",
       "        vertical-align: top;\n",
       "    }\n",
       "\n",
       "    .dataframe thead th {\n",
       "        text-align: right;\n",
       "    }\n",
       "</style>\n",
       "<table border=\"1\" class=\"dataframe\">\n",
       "  <thead>\n",
       "    <tr style=\"text-align: right;\">\n",
       "      <th></th>\n",
       "      <th>victim_sex</th>\n",
       "    </tr>\n",
       "  </thead>\n",
       "  <tbody>\n",
       "    <tr>\n",
       "      <th>Male</th>\n",
       "      <td>234600</td>\n",
       "    </tr>\n",
       "    <tr>\n",
       "      <th>Female</th>\n",
       "      <td>165158</td>\n",
       "    </tr>\n",
       "  </tbody>\n",
       "</table>\n",
       "</div>"
      ],
      "text/plain": [
       "        victim_sex\n",
       "Male        234600\n",
       "Female      165158"
      ]
     },
     "execution_count": 650,
     "metadata": {},
     "output_type": "execute_result"
    }
   ],
   "source": [
    "# Create DataFrame with the total counts of each gender\n",
    "sex_race_counts = pd.DataFrame(df['victim_sex'].value_counts())\n",
    "\n",
    "# Only display Male and Female, omit unknown\n",
    "sex_race_counts = sex_race_counts.loc[[\"Male\", \"Female\"]] \n",
    "sex_race_counts"
   ]
  },
  {
   "cell_type": "code",
   "execution_count": 685,
   "metadata": {
    "scrolled": true
   },
   "outputs": [
    {
     "data": {
      "text/html": [
       "<div>\n",
       "<style scoped>\n",
       "    .dataframe tbody tr th:only-of-type {\n",
       "        vertical-align: middle;\n",
       "    }\n",
       "\n",
       "    .dataframe tbody tr th {\n",
       "        vertical-align: top;\n",
       "    }\n",
       "\n",
       "    .dataframe thead th {\n",
       "        text-align: right;\n",
       "    }\n",
       "</style>\n",
       "<table border=\"1\" class=\"dataframe\">\n",
       "  <thead>\n",
       "    <tr style=\"text-align: right;\">\n",
       "      <th></th>\n",
       "      <th>victim_sex</th>\n",
       "      <th>pop_pct</th>\n",
       "    </tr>\n",
       "  </thead>\n",
       "  <tbody>\n",
       "    <tr>\n",
       "      <th>Male</th>\n",
       "      <td>58.685505</td>\n",
       "      <td>49.2531</td>\n",
       "    </tr>\n",
       "    <tr>\n",
       "      <th>Female</th>\n",
       "      <td>41.314495</td>\n",
       "      <td>50.7468</td>\n",
       "    </tr>\n",
       "  </tbody>\n",
       "</table>\n",
       "</div>"
      ],
      "text/plain": [
       "        victim_sex  pop_pct\n",
       "Male     58.685505  49.2531\n",
       "Female   41.314495  50.7468"
      ]
     },
     "execution_count": 685,
     "metadata": {},
     "output_type": "execute_result"
    }
   ],
   "source": [
    "# Calculate the percentage of victim's gender\n",
    "sex_pct = sex_race_counts/sex_race_counts.sum()*100\n",
    "\n",
    "# Create dictionary of LA Gender Population\n",
    "gender_pop = {\"Male\": \"49.2531\",\n",
    "              \"Female\": \"50.7468\"}\n",
    "\n",
    "# Add a new column to display LA Gender Populaton \n",
    "sex_pct[\"pop_pct\"] = pd.Series(gender_pop)\n",
    "sex_pct"
   ]
  },
  {
   "cell_type": "code",
   "execution_count": 687,
   "metadata": {
    "scrolled": false
   },
   "outputs": [
    {
     "data": {
      "image/png": "[encoded data removed]",
      "text/plain": [
       "<Figure size 432x288 with 1 Axes>"
      ]
     },
     "metadata": {
      "needs_background": "light"
     },
     "output_type": "display_data"
    }
   ],
   "source": [
    "# Set the parameters \n",
    "ratio = [118.86, 81.22]\n",
    "xaxis = ['Male', 'Female'] \n",
    "crash = (58.69, 41.31)\n",
    "la_pop = (49.25, 50.75)\n",
    "\n",
    "# Create DataFrame and add la_pop list to it\n",
    "gender_df = pd.DataFrame(crash,xaxis)\n",
    "gender_df[1] = la_pop \n",
    "\n",
    "# Rename colums to display Crash Population and LA Population \n",
    "gender_df = gender_df.rename(columns = {0:'Crash Population',1:'LA Population'})\n",
    "\n",
    "# Generate the Plot \n",
    "fig4 = gender_df.plot(kind='bar', color=[\"black\", \"gray\"], use_index=True)\n",
    "        \n",
    "fig4.set_title(\"Collision by Gender\")  # Display graph title\n",
    "fig4.set_ylabel(\"Population %\")        # Give graph y axis label\n",
    "fig4.legend(loc=\"upper center\")        # Display legend in upper center\n",
    "fig4.tick_params(axis='x', rotation=1) # Set parameres for x axis\n",
    "\n",
    "# Export image\n",
    "plta.savefig(os.path.join(\"figures\", \"collision_by_gender.png\"))"
   ]
  },
  {
   "cell_type": "markdown",
   "metadata": {},
   "source": [
    "## 4. Age Mean per Ethnicity"
   ]
  },
  {
   "cell_type": "markdown",
   "metadata": {},
   "source": [
    "LA Age Categories\n",
    "\n",
    ">- Children: less than 18 years old\n",
    "- College: from 18 to 21 years old\n",
    "- Younger Adult: from 22 to 39 years old\n",
    "- Older Adult: from 40 to 64 years old\n",
    "- Senior: more than 64 years old\n",
    "\n",
    "src: https://statisticalatlas.com/place/California/Los-Angeles/Age-and-Sex"
   ]
  },
  {
   "cell_type": "code",
   "execution_count": 730,
   "metadata": {
    "scrolled": true
   },
   "outputs": [
    {
     "data": {
      "text/html": [
       "<div>\n",
       "<style scoped>\n",
       "    .dataframe tbody tr th:only-of-type {\n",
       "        vertical-align: middle;\n",
       "    }\n",
       "\n",
       "    .dataframe tbody tr th {\n",
       "        vertical-align: top;\n",
       "    }\n",
       "\n",
       "    .dataframe thead th {\n",
       "        text-align: right;\n",
       "    }\n",
       "</style>\n",
       "<table border=\"1\" class=\"dataframe\">\n",
       "  <thead>\n",
       "    <tr style=\"text-align: right;\">\n",
       "      <th></th>\n",
       "      <th>victim_age</th>\n",
       "    </tr>\n",
       "    <tr>\n",
       "      <th>victim_race</th>\n",
       "      <th></th>\n",
       "    </tr>\n",
       "  </thead>\n",
       "  <tbody>\n",
       "    <tr>\n",
       "      <th>American Indian</th>\n",
       "      <td>39.251852</td>\n",
       "    </tr>\n",
       "    <tr>\n",
       "      <th>Asian</th>\n",
       "      <td>43.144806</td>\n",
       "    </tr>\n",
       "    <tr>\n",
       "      <th>Black</th>\n",
       "      <td>42.442624</td>\n",
       "    </tr>\n",
       "    <tr>\n",
       "      <th>Hispanic</th>\n",
       "      <td>38.550448</td>\n",
       "    </tr>\n",
       "    <tr>\n",
       "      <th>Pacific Islander</th>\n",
       "      <td>43.513575</td>\n",
       "    </tr>\n",
       "    <tr>\n",
       "      <th>White</th>\n",
       "      <td>43.526373</td>\n",
       "    </tr>\n",
       "  </tbody>\n",
       "</table>\n",
       "</div>"
      ],
      "text/plain": [
       "                  victim_age\n",
       "victim_race                 \n",
       "American Indian    39.251852\n",
       "Asian              43.144806\n",
       "Black              42.442624\n",
       "Hispanic           38.550448\n",
       "Pacific Islander   43.513575\n",
       "White              43.526373"
      ]
     },
     "execution_count": 730,
     "metadata": {},
     "output_type": "execute_result"
    }
   ],
   "source": [
    "# Average Victim Race per Ethnicity\n",
    "df1 = df.copy()                                   # Copy original DataFrame\n",
    "df1 = df1[['victim_race','victim_age']]           # Display only Victim Race and Victim Age\n",
    "df1=df1.groupby(['victim_race'])                  # Group by Victim Race\n",
    "meandata = pd.DataFrame(df1['victim_age'].mean()) # Create DataFrame with average Victim Age per Ethnicity\n",
    "meandata = meandata[meandata.index!='Unknown']    # Omit Unknown from DataFrame\n",
    "meandata                                         # Display DataFrame"
   ]
  },
  {
   "cell_type": "code",
   "execution_count": 728,
   "metadata": {
    "scrolled": false
   },
   "outputs": [
    {
     "data": {
      "image/png": "[encoded data removed]",
      "text/plain": [
       "<Figure size 432x288 with 1 Axes>"
      ]
     },
     "metadata": {
      "needs_background": "light"
     },
     "output_type": "display_data"
    }
   ],
   "source": [
    "# Plot Average Victim Age per Ethnicity\n",
    "fig5 = meandata.plot(kind='bar', color=\"black\")\n",
    "\n",
    "# Format percentages on top of each bar\n",
    "rects = fig5.patches\n",
    "labels=meandata.victim_age.tolist()\n",
    "labels=[round(i,0) for i in labels]\n",
    "sum_labels = sum(labels)\n",
    "for rect,label in zip(rects,labels):\n",
    "      fig5.text(rect.get_x()+rect.get_width()/2,rect.get_height(),label,ha='center',va='bottom')\n",
    "\n",
    "fig5.set_title(\"Collission by Ethnicity Average Age\") # Display graph title  \n",
    "fig5.set_xlabel(\"Ethnicity\")                          # Display graph x axis label \n",
    "fig5.set_yticks([])                                   # Remove graph y ticks labels\n",
    "fig5.legend().remove()                                # Remove legend\n",
    "fig5.spines['right'].set_visible(False)               # Remove right edge line\n",
    "fig5.spines['top'].set_visible(False)                 # Remove top edge line\n",
    "fig5.spines['left'].set_visible(False)                # Remove left edge line\n",
    "fig5.tick_params(axis='x', rotation=30)               # Set parameres for x axis\n",
    "\n",
    "# Export image\n",
    "plta.savefig(os.path.join(\"figures\", \"collision_ethnicity_mean.png\"))"
   ]
  },
  {
   "cell_type": "code",
   "execution_count": 706,
   "metadata": {},
   "outputs": [
    {
     "data": {
      "text/html": [
       "<div>\n",
       "<style scoped>\n",
       "    .dataframe tbody tr th:only-of-type {\n",
       "        vertical-align: middle;\n",
       "    }\n",
       "\n",
       "    .dataframe tbody tr th {\n",
       "        vertical-align: top;\n",
       "    }\n",
       "\n",
       "    .dataframe thead th {\n",
       "        text-align: right;\n",
       "    }\n",
       "</style>\n",
       "<table border=\"1\" class=\"dataframe\">\n",
       "  <thead>\n",
       "    <tr style=\"text-align: right;\">\n",
       "      <th></th>\n",
       "      <th>victim_race</th>\n",
       "    </tr>\n",
       "  </thead>\n",
       "  <tbody>\n",
       "    <tr>\n",
       "      <th>Hispanic</th>\n",
       "      <td>156131</td>\n",
       "    </tr>\n",
       "    <tr>\n",
       "      <th>White</th>\n",
       "      <td>101618</td>\n",
       "    </tr>\n",
       "    <tr>\n",
       "      <th>Black</th>\n",
       "      <td>58343</td>\n",
       "    </tr>\n",
       "    <tr>\n",
       "      <th>Asian</th>\n",
       "      <td>23383</td>\n",
       "    </tr>\n",
       "    <tr>\n",
       "      <th>Pacific Islander</th>\n",
       "      <td>442</td>\n",
       "    </tr>\n",
       "    <tr>\n",
       "      <th>American Indian</th>\n",
       "      <td>135</td>\n",
       "    </tr>\n",
       "  </tbody>\n",
       "</table>\n",
       "</div>"
      ],
      "text/plain": [
       "                  victim_race\n",
       "Hispanic               156131\n",
       "White                  101618\n",
       "Black                   58343\n",
       "Asian                   23383\n",
       "Pacific Islander          442\n",
       "American Indian           135"
      ]
     },
     "execution_count": 706,
     "metadata": {},
     "output_type": "execute_result"
    }
   ],
   "source": [
    "# Remove Unknown from Victim Race\n",
    "race_data = race_data[race_data.index!='Unknown']\n",
    "race_data"
   ]
  },
  {
   "cell_type": "code",
   "execution_count": 734,
   "metadata": {
    "scrolled": true
   },
   "outputs": [
    {
     "data": {
      "image/png": "[encoded data removed]",
      "text/plain": [
       "<Figure size 720x360 with 1 Axes>"
      ]
     },
     "metadata": {
      "needs_background": "light"
     },
     "output_type": "display_data"
    }
   ],
   "source": [
    "# Boxplot by Victim Age and Race\n",
    "df1 = df.copy()                          # Copy original DataFrame\n",
    "df1 = df1[['victim_race','victim_age']]  # Display only Victim Race and Victim Age\n",
    "df1 = df1[df1['victim_race']!='Unknown'] # Omit Unknown from DataFrame\n",
    "\n",
    "# Plot BoxPlot with Victim Age and Race\n",
    "fig6 = df1.boxplot('victim_age',by='victim_race', figsize=(10, 5))\n",
    "\n",
    "fig6.set_title(\"Victim Age\")              # Display graph title \n",
    "fig6.set_xlabel(\"Victim Race\")            # Display graph x axis label\n",
    "fig6.set_ylabel(\"Age\")                    # Display graph y axis label\n",
    "fig6.tick_params(axis='x', rotation=.25)   # Set parameres for x axis\n",
    "\n",
    "# Export image\n",
    "plta.savefig(os.path.join(\"figures\", \"boxplot_mean_age.png\"))"
   ]
  },
  {
   "cell_type": "code",
   "execution_count": 413,
   "metadata": {},
   "outputs": [],
   "source": [
    "# Extract individual groups\n",
    "Hispanic = df1[df1[\"victim_race\"] == \"Hispanic\"][\"victim_age\"]\n",
    "White =  df1[df1[\"victim_race\"] == \"White\"][\"victim_age\"]\n",
    "Black = df1[df1[\"victim_race\"] == \"Black\"][\"victim_age\"]\n",
    "Asian = df1[df1[\"victim_race\"] == \"Asian\"][\"victim_age\"]\n",
    "PacificIsl = df1[df1[\"victim_race\"] == \"Pacific Islander\"][\"victim_age\"]\n",
    "AmericanInd = df1[df1[\"victim_race\"] == \"American Indian\"][\"victim_age\"]"
   ]
  },
  {
   "cell_type": "code",
   "execution_count": 416,
   "metadata": {},
   "outputs": [
    {
     "data": {
      "text/plain": [
       "F_onewayResult(statistic=1566.0672656810764, pvalue=0.0)"
      ]
     },
     "execution_count": 416,
     "metadata": {},
     "output_type": "execute_result"
    }
   ],
   "source": [
    "# Perform the ANOVA\n",
    "stats.f_oneway(Hispanic, White, Black, Asian, PacificIsl, AmericanInd)"
   ]
  },
  {
   "cell_type": "code",
   "execution_count": 384,
   "metadata": {
    "scrolled": true
   },
   "outputs": [
    {
     "name": "stdout",
     "output_type": "stream",
     "text": [
      "                                      victim_age\n",
      "Age Category                                    \n",
      "Children ( < 18 years old )            17.578563\n",
      "College ( 18 to 21 years old )         20.504053\n",
      "Younger Adult ( 22 to 39 years old )   29.902646\n",
      "Older Adult ( 40 to 64 years old )     50.168594\n",
      "Senior ( > 64 years old )              76.831921\n"
     ]
    },
    {
     "data": {
      "text/html": [
       "<div>\n",
       "<style scoped>\n",
       "    .dataframe tbody tr th:only-of-type {\n",
       "        vertical-align: middle;\n",
       "    }\n",
       "\n",
       "    .dataframe tbody tr th {\n",
       "        vertical-align: top;\n",
       "    }\n",
       "\n",
       "    .dataframe thead th {\n",
       "        text-align: right;\n",
       "    }\n",
       "</style>\n",
       "<table border=\"1\" class=\"dataframe\">\n",
       "  <thead>\n",
       "    <tr style=\"text-align: right;\">\n",
       "      <th></th>\n",
       "      <th>age_count</th>\n",
       "      <th>age_mean</th>\n",
       "    </tr>\n",
       "    <tr>\n",
       "      <th>Age Category</th>\n",
       "      <th></th>\n",
       "      <th></th>\n",
       "    </tr>\n",
       "  </thead>\n",
       "  <tbody>\n",
       "    <tr>\n",
       "      <th>Children ( &lt; 18 years old )</th>\n",
       "      <td>821</td>\n",
       "      <td>17.578563</td>\n",
       "    </tr>\n",
       "    <tr>\n",
       "      <th>College ( 18 to 21 years old )</th>\n",
       "      <td>18256</td>\n",
       "      <td>20.504053</td>\n",
       "    </tr>\n",
       "    <tr>\n",
       "      <th>Younger Adult ( 22 to 39 years old )</th>\n",
       "      <td>186505</td>\n",
       "      <td>29.902646</td>\n",
       "    </tr>\n",
       "    <tr>\n",
       "      <th>Older Adult ( 40 to 64 years old )</th>\n",
       "      <td>161744</td>\n",
       "      <td>50.168594</td>\n",
       "    </tr>\n",
       "    <tr>\n",
       "      <th>Senior ( &gt; 64 years old )</th>\n",
       "      <td>33395</td>\n",
       "      <td>76.831921</td>\n",
       "    </tr>\n",
       "  </tbody>\n",
       "</table>\n",
       "</div>"
      ],
      "text/plain": [
       "                                      age_count   age_mean\n",
       "Age Category                                              \n",
       "Children ( < 18 years old )                 821  17.578563\n",
       "College ( 18 to 21 years old )            18256  20.504053\n",
       "Younger Adult ( 22 to 39 years old )     186505  29.902646\n",
       "Older Adult ( 40 to 64 years old )       161744  50.168594\n",
       "Senior ( > 64 years old )                 33395  76.831921"
      ]
     },
     "execution_count": 384,
     "metadata": {},
     "output_type": "execute_result"
    }
   ],
   "source": [
    "#create bins to extract age range\n",
    "bins = [0,19,22,40,65, float(\"inf\")]\n",
    "age = [\"Children ( < 18 years old )\",\n",
    "       \"College ( 18 to 21 years old )\",\n",
    "       \"Younger Adult ( 22 to 39 years old )\",\n",
    "       \"Older Adult ( 40 to 64 years old )\",\n",
    "       \"Senior ( > 64 years old )\"]\n",
    "\n",
    "df['Age Category'] = pd.cut(df['victim_age'],bins, right=False, labels=age)\n",
    "\n",
    "age_group = df.groupby(\"Age Category\")\n",
    "print(age_group[\"victim_race\", \"victim_age\"].mean())\n",
    "\n",
    "age_count[\"age_count\"] = age_group[[\"victim_age\"]].count()\n",
    "age_count[\"age_mean\"] = age_group[\"victim_age\"].mean()\n",
    "age_df = age_count[[\"age_count\",\"age_mean\"]]\n",
    "age_df"
   ]
  },
  {
   "cell_type": "code",
   "execution_count": null,
   "metadata": {},
   "outputs": [],
   "source": []
  }
 ],
 "metadata": {
  "celltoolbar": "Slideshow",
  "kernelspec": {
   "display_name": "Python 3",
   "language": "python",
   "name": "python3"
  },
  "language_info": {
   "codemirror_mode": {
    "name": "ipython",
    "version": 3
   },
   "file_extension": ".py",
   "mimetype": "text/x-python",
   "name": "python",
   "nbconvert_exporter": "python",
   "pygments_lexer": "ipython3",
   "version": "3.7.3"
  }
 },
 "nbformat": 4,
 "nbformat_minor": 2
}
