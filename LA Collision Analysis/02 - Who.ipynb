{
 "cells": [
  {
   "cell_type": "code",
   "execution_count": 1,
   "metadata": {
    "scrolled": false
   },
   "outputs": [
    {
     "data": {
      "text/html": [
       "<div>\n",
       "<style scoped>\n",
       "    .dataframe tbody tr th:only-of-type {\n",
       "        vertical-align: middle;\n",
       "    }\n",
       "\n",
       "    .dataframe tbody tr th {\n",
       "        vertical-align: top;\n",
       "    }\n",
       "\n",
       "    .dataframe thead th {\n",
       "        text-align: right;\n",
       "    }\n",
       "</style>\n",
       "<table border=\"1\" class=\"dataframe\">\n",
       "  <thead>\n",
       "    <tr style=\"text-align: right;\">\n",
       "      <th></th>\n",
       "      <th>date</th>\n",
       "      <th>time</th>\n",
       "      <th>area</th>\n",
       "      <th>district</th>\n",
       "      <th>victim_age</th>\n",
       "      <th>victim_sex</th>\n",
       "      <th>victim_race</th>\n",
       "      <th>premise</th>\n",
       "      <th>address</th>\n",
       "      <th>location</th>\n",
       "    </tr>\n",
       "  </thead>\n",
       "  <tbody>\n",
       "    <tr>\n",
       "      <th>0</th>\n",
       "      <td>07/06/2019</td>\n",
       "      <td>2355</td>\n",
       "      <td>N Hollywood</td>\n",
       "      <td>1591</td>\n",
       "      <td>99.0</td>\n",
       "      <td>Male</td>\n",
       "      <td>Unknown</td>\n",
       "      <td>STREET</td>\n",
       "      <td>GOODLAND                     AV</td>\n",
       "      <td>(34.1371, -118.4062)</td>\n",
       "    </tr>\n",
       "    <tr>\n",
       "      <th>1</th>\n",
       "      <td>07/06/2019</td>\n",
       "      <td>500</td>\n",
       "      <td>Foothill</td>\n",
       "      <td>1677</td>\n",
       "      <td>45.0</td>\n",
       "      <td>Male</td>\n",
       "      <td>White</td>\n",
       "      <td>STREET</td>\n",
       "      <td>GLENOAKS                     BL</td>\n",
       "      <td>(34.2249, -118.3617)</td>\n",
       "    </tr>\n",
       "    <tr>\n",
       "      <th>2</th>\n",
       "      <td>07/06/2019</td>\n",
       "      <td>1130</td>\n",
       "      <td>West Valley</td>\n",
       "      <td>1028</td>\n",
       "      <td>25.0</td>\n",
       "      <td>Male</td>\n",
       "      <td>Asian</td>\n",
       "      <td>STREET</td>\n",
       "      <td>SHERMAN                      WY</td>\n",
       "      <td>(34.2012, -118.4989)</td>\n",
       "    </tr>\n",
       "    <tr>\n",
       "      <th>3</th>\n",
       "      <td>07/06/2019</td>\n",
       "      <td>1415</td>\n",
       "      <td>Northeast</td>\n",
       "      <td>1153</td>\n",
       "      <td>29.0</td>\n",
       "      <td>Male</td>\n",
       "      <td>Unknown</td>\n",
       "      <td>STREET</td>\n",
       "      <td>LOS FELIZ                    BL</td>\n",
       "      <td>(34.1081, -118.3078)</td>\n",
       "    </tr>\n",
       "    <tr>\n",
       "      <th>4</th>\n",
       "      <td>07/06/2019</td>\n",
       "      <td>1230</td>\n",
       "      <td>Central</td>\n",
       "      <td>192</td>\n",
       "      <td>41.0</td>\n",
       "      <td>Male</td>\n",
       "      <td>Unknown</td>\n",
       "      <td>STREET</td>\n",
       "      <td>GRAND                        AV</td>\n",
       "      <td>(34.0384, -118.2646)</td>\n",
       "    </tr>\n",
       "  </tbody>\n",
       "</table>\n",
       "</div>"
      ],
      "text/plain": [
       "         date  time         area  district  victim_age victim_sex victim_race  \\\n",
       "0  07/06/2019  2355  N Hollywood      1591        99.0       Male     Unknown   \n",
       "1  07/06/2019   500     Foothill      1677        45.0       Male       White   \n",
       "2  07/06/2019  1130  West Valley      1028        25.0       Male       Asian   \n",
       "3  07/06/2019  1415    Northeast      1153        29.0       Male     Unknown   \n",
       "4  07/06/2019  1230      Central       192        41.0       Male     Unknown   \n",
       "\n",
       "  premise                          address              location  \n",
       "0  STREET  GOODLAND                     AV  (34.1371, -118.4062)  \n",
       "1  STREET  GLENOAKS                     BL  (34.2249, -118.3617)  \n",
       "2  STREET  SHERMAN                      WY  (34.2012, -118.4989)  \n",
       "3  STREET  LOS FELIZ                    BL  (34.1081, -118.3078)  \n",
       "4  STREET  GRAND                        AV  (34.0384, -118.2646)  "
      ]
     },
     "execution_count": 1,
     "metadata": {},
     "output_type": "execute_result"
    }
   ],
   "source": [
    "#import modules for the analysis environment\n",
    "import os\n",
    "import matplotlib.pyplot as plta\n",
    "import matplotlib as plt\n",
    "import pandas as pd\n",
    "import numpy as np\n",
    "import requests\n",
    "import datetime\n",
    "import ast\n",
    "import gmaps\n",
    "import datetime\n",
    "# from config import gkey\n",
    "\n",
    "#read cleaned csv file\n",
    "df = pd.read_csv(\"Data/clean_data/clean_data.csv\")\n",
    "df.head()"
   ]
  },
  {
   "cell_type": "code",
   "execution_count": 2,
   "metadata": {
    "scrolled": false
   },
   "outputs": [
    {
     "data": {
      "text/html": [
       "<div>\n",
       "<style scoped>\n",
       "    .dataframe tbody tr th:only-of-type {\n",
       "        vertical-align: middle;\n",
       "    }\n",
       "\n",
       "    .dataframe tbody tr th {\n",
       "        vertical-align: top;\n",
       "    }\n",
       "\n",
       "    .dataframe thead th {\n",
       "        text-align: right;\n",
       "    }\n",
       "</style>\n",
       "<table border=\"1\" class=\"dataframe\">\n",
       "  <thead>\n",
       "    <tr style=\"text-align: right;\">\n",
       "      <th></th>\n",
       "      <th>victim_race</th>\n",
       "    </tr>\n",
       "  </thead>\n",
       "  <tbody>\n",
       "    <tr>\n",
       "      <th>Hispanic</th>\n",
       "      <td>156131</td>\n",
       "    </tr>\n",
       "    <tr>\n",
       "      <th>White</th>\n",
       "      <td>101618</td>\n",
       "    </tr>\n",
       "    <tr>\n",
       "      <th>Unknown</th>\n",
       "      <td>60669</td>\n",
       "    </tr>\n",
       "    <tr>\n",
       "      <th>Black</th>\n",
       "      <td>58343</td>\n",
       "    </tr>\n",
       "    <tr>\n",
       "      <th>Asian</th>\n",
       "      <td>23383</td>\n",
       "    </tr>\n",
       "    <tr>\n",
       "      <th>Pacific Islander</th>\n",
       "      <td>442</td>\n",
       "    </tr>\n",
       "    <tr>\n",
       "      <th>American Indian</th>\n",
       "      <td>135</td>\n",
       "    </tr>\n",
       "  </tbody>\n",
       "</table>\n",
       "</div>"
      ],
      "text/plain": [
       "                  victim_race\n",
       "Hispanic               156131\n",
       "White                  101618\n",
       "Unknown                 60669\n",
       "Black                   58343\n",
       "Asian                   23383\n",
       "Pacific Islander          442\n",
       "American Indian           135"
      ]
     },
     "execution_count": 2,
     "metadata": {},
     "output_type": "execute_result"
    }
   ],
   "source": [
    "# Create DataFrame with the total counts of each ethnicity\n",
    "victim_race_counts = pd.DataFrame(df['victim_race'].value_counts())\n",
    "victim_race_counts"
   ]
  },
  {
   "cell_type": "code",
   "execution_count": 3,
   "metadata": {},
   "outputs": [
    {
     "data": {
      "text/html": [
       "<div>\n",
       "<style scoped>\n",
       "    .dataframe tbody tr th:only-of-type {\n",
       "        vertical-align: middle;\n",
       "    }\n",
       "\n",
       "    .dataframe tbody tr th {\n",
       "        vertical-align: top;\n",
       "    }\n",
       "\n",
       "    .dataframe thead th {\n",
       "        text-align: right;\n",
       "    }\n",
       "</style>\n",
       "<table border=\"1\" class=\"dataframe\">\n",
       "  <thead>\n",
       "    <tr style=\"text-align: right;\">\n",
       "      <th></th>\n",
       "      <th>victim_race</th>\n",
       "    </tr>\n",
       "  </thead>\n",
       "  <tbody>\n",
       "    <tr>\n",
       "      <th>Hispanic</th>\n",
       "      <td>156131</td>\n",
       "    </tr>\n",
       "    <tr>\n",
       "      <th>White</th>\n",
       "      <td>101618</td>\n",
       "    </tr>\n",
       "    <tr>\n",
       "      <th>Black</th>\n",
       "      <td>58343</td>\n",
       "    </tr>\n",
       "    <tr>\n",
       "      <th>Asian</th>\n",
       "      <td>23383</td>\n",
       "    </tr>\n",
       "    <tr>\n",
       "      <th>Pacific Islander</th>\n",
       "      <td>442</td>\n",
       "    </tr>\n",
       "    <tr>\n",
       "      <th>American Indian</th>\n",
       "      <td>135</td>\n",
       "    </tr>\n",
       "  </tbody>\n",
       "</table>\n",
       "</div>"
      ],
      "text/plain": [
       "                  victim_race\n",
       "Hispanic               156131\n",
       "White                  101618\n",
       "Black                   58343\n",
       "Asian                   23383\n",
       "Pacific Islander          442\n",
       "American Indian           135"
      ]
     },
     "execution_count": 3,
     "metadata": {},
     "output_type": "execute_result"
    }
   ],
   "source": [
    "# Remove Unknown victims from DataFrame\n",
    "updated_victim_race = victim_race_counts.loc[['Hispanic','White','Black',\n",
    "                                              'Asian','Pacific Islander','American Indian'],\n",
    "                                             ['victim_race']]\n",
    "updated_victim_race"
   ]
  },
  {
   "cell_type": "code",
   "execution_count": 4,
   "metadata": {},
   "outputs": [
    {
     "data": {
      "text/html": [
       "<div>\n",
       "<style scoped>\n",
       "    .dataframe tbody tr th:only-of-type {\n",
       "        vertical-align: middle;\n",
       "    }\n",
       "\n",
       "    .dataframe tbody tr th {\n",
       "        vertical-align: top;\n",
       "    }\n",
       "\n",
       "    .dataframe thead th {\n",
       "        text-align: right;\n",
       "    }\n",
       "</style>\n",
       "<table border=\"1\" class=\"dataframe\">\n",
       "  <thead>\n",
       "    <tr style=\"text-align: right;\">\n",
       "      <th></th>\n",
       "      <th>victim_race</th>\n",
       "      <th>crash_population</th>\n",
       "    </tr>\n",
       "  </thead>\n",
       "  <tbody>\n",
       "    <tr>\n",
       "      <th>Hispanic</th>\n",
       "      <td>156131</td>\n",
       "      <td>45.913860</td>\n",
       "    </tr>\n",
       "    <tr>\n",
       "      <th>White</th>\n",
       "      <td>101618</td>\n",
       "      <td>29.883077</td>\n",
       "    </tr>\n",
       "    <tr>\n",
       "      <th>Black</th>\n",
       "      <td>58343</td>\n",
       "      <td>17.157082</td>\n",
       "    </tr>\n",
       "    <tr>\n",
       "      <th>Asian</th>\n",
       "      <td>23383</td>\n",
       "      <td>6.876301</td>\n",
       "    </tr>\n",
       "    <tr>\n",
       "      <th>Pacific Islander</th>\n",
       "      <td>442</td>\n",
       "      <td>0.129980</td>\n",
       "    </tr>\n",
       "    <tr>\n",
       "      <th>American Indian</th>\n",
       "      <td>135</td>\n",
       "      <td>0.039700</td>\n",
       "    </tr>\n",
       "  </tbody>\n",
       "</table>\n",
       "</div>"
      ],
      "text/plain": [
       "                  victim_race  crash_population\n",
       "Hispanic               156131         45.913860\n",
       "White                  101618         29.883077\n",
       "Black                   58343         17.157082\n",
       "Asian                   23383          6.876301\n",
       "Pacific Islander          442          0.129980\n",
       "American Indian           135          0.039700"
      ]
     },
     "execution_count": 4,
     "metadata": {},
     "output_type": "execute_result"
    }
   ],
   "source": [
    "#Calculate the percentage of total crashes per ethinicity \n",
    "percent_victim_race = updated_victim_race[\"victim_race\"]/updated_victim_race[\"victim_race\"].sum()*100\n",
    "\n",
    "# Add a new colum display the calculated percentage\n",
    "updated_victim_race[\"crash_population\"] = percent_victim_race\n",
    "updated_victim_race"
   ]
  },
  {
   "cell_type": "code",
   "execution_count": 5,
   "metadata": {
    "scrolled": false
   },
   "outputs": [
    {
     "data": {
      "text/html": [
       "<div>\n",
       "<style scoped>\n",
       "    .dataframe tbody tr th:only-of-type {\n",
       "        vertical-align: middle;\n",
       "    }\n",
       "\n",
       "    .dataframe tbody tr th {\n",
       "        vertical-align: top;\n",
       "    }\n",
       "\n",
       "    .dataframe thead th {\n",
       "        text-align: right;\n",
       "    }\n",
       "</style>\n",
       "<table border=\"1\" class=\"dataframe\">\n",
       "  <thead>\n",
       "    <tr style=\"text-align: right;\">\n",
       "      <th></th>\n",
       "      <th>crash_population</th>\n",
       "    </tr>\n",
       "  </thead>\n",
       "  <tbody>\n",
       "    <tr>\n",
       "      <th>Hispanic</th>\n",
       "      <td>45.913860</td>\n",
       "    </tr>\n",
       "    <tr>\n",
       "      <th>White</th>\n",
       "      <td>29.883077</td>\n",
       "    </tr>\n",
       "    <tr>\n",
       "      <th>Black</th>\n",
       "      <td>17.157082</td>\n",
       "    </tr>\n",
       "    <tr>\n",
       "      <th>Asian</th>\n",
       "      <td>6.876301</td>\n",
       "    </tr>\n",
       "    <tr>\n",
       "      <th>Pacific Islander</th>\n",
       "      <td>0.129980</td>\n",
       "    </tr>\n",
       "    <tr>\n",
       "      <th>American Indian</th>\n",
       "      <td>0.039700</td>\n",
       "    </tr>\n",
       "  </tbody>\n",
       "</table>\n",
       "</div>"
      ],
      "text/plain": [
       "                  crash_population\n",
       "Hispanic                 45.913860\n",
       "White                    29.883077\n",
       "Black                    17.157082\n",
       "Asian                     6.876301\n",
       "Pacific Islander          0.129980\n",
       "American Indian           0.039700"
      ]
     },
     "execution_count": 5,
     "metadata": {},
     "output_type": "execute_result"
    }
   ],
   "source": [
    "# Display only the percentage of crashes per ethnicity\n",
    "pct_race_df = pd.DataFrame(updated_victim_race[\"crash_population\"])\n",
    "\n",
    "# Format percentage calculations with two digits and percentage sign\n",
    "# pct_race_df.style.format({\"crash_population\":\"{:,.2f}%\"})\n",
    "pct_race_df"
   ]
  },
  {
   "cell_type": "markdown",
   "metadata": {},
   "source": [
    "LA Population Composition by race\n",
    ">- Hispanic: 48.2%\n",
    "- White (non-hispanic): 28.5%\n",
    "- Black: 9.0%\n",
    "- Asian: 11.6%\n",
    "- Pacific Islander: 0.2%\n",
    "- American Indian: 0.4%\n",
    "- Other: 0.6%\n",
    "\n",
    "src: https://statisticalatlas.com/place/California/Los-Angeles/Race-and-Ethnicity "
   ]
  },
  {
   "cell_type": "code",
   "execution_count": 6,
   "metadata": {
    "scrolled": true
   },
   "outputs": [
    {
     "data": {
      "text/html": [
       "<style  type=\"text/css\" >\n",
       "</style><table id=\"T_3202230c_a99b_11e9_bb9b_ccb0da492598\" ><thead>    <tr>        <th class=\"blank level0\" ></th>        <th class=\"col_heading level0 col0\" >crash_population</th>        <th class=\"col_heading level0 col1\" >LA_Population</th>    </tr></thead><tbody>\n",
       "                <tr>\n",
       "                        <th id=\"T_3202230c_a99b_11e9_bb9b_ccb0da492598level0_row0\" class=\"row_heading level0 row0\" >Hispanic</th>\n",
       "                        <td id=\"T_3202230c_a99b_11e9_bb9b_ccb0da492598row0_col0\" class=\"data row0 col0\" >45.91</td>\n",
       "                        <td id=\"T_3202230c_a99b_11e9_bb9b_ccb0da492598row0_col1\" class=\"data row0 col1\" >48.2</td>\n",
       "            </tr>\n",
       "            <tr>\n",
       "                        <th id=\"T_3202230c_a99b_11e9_bb9b_ccb0da492598level0_row1\" class=\"row_heading level0 row1\" >White</th>\n",
       "                        <td id=\"T_3202230c_a99b_11e9_bb9b_ccb0da492598row1_col0\" class=\"data row1 col0\" >29.88</td>\n",
       "                        <td id=\"T_3202230c_a99b_11e9_bb9b_ccb0da492598row1_col1\" class=\"data row1 col1\" >28.5</td>\n",
       "            </tr>\n",
       "            <tr>\n",
       "                        <th id=\"T_3202230c_a99b_11e9_bb9b_ccb0da492598level0_row2\" class=\"row_heading level0 row2\" >Black</th>\n",
       "                        <td id=\"T_3202230c_a99b_11e9_bb9b_ccb0da492598row2_col0\" class=\"data row2 col0\" >17.16</td>\n",
       "                        <td id=\"T_3202230c_a99b_11e9_bb9b_ccb0da492598row2_col1\" class=\"data row2 col1\" >9.0</td>\n",
       "            </tr>\n",
       "            <tr>\n",
       "                        <th id=\"T_3202230c_a99b_11e9_bb9b_ccb0da492598level0_row3\" class=\"row_heading level0 row3\" >Asian</th>\n",
       "                        <td id=\"T_3202230c_a99b_11e9_bb9b_ccb0da492598row3_col0\" class=\"data row3 col0\" >6.88</td>\n",
       "                        <td id=\"T_3202230c_a99b_11e9_bb9b_ccb0da492598row3_col1\" class=\"data row3 col1\" >11.6</td>\n",
       "            </tr>\n",
       "            <tr>\n",
       "                        <th id=\"T_3202230c_a99b_11e9_bb9b_ccb0da492598level0_row4\" class=\"row_heading level0 row4\" >Pacific Islander</th>\n",
       "                        <td id=\"T_3202230c_a99b_11e9_bb9b_ccb0da492598row4_col0\" class=\"data row4 col0\" >0.13</td>\n",
       "                        <td id=\"T_3202230c_a99b_11e9_bb9b_ccb0da492598row4_col1\" class=\"data row4 col1\" >0.2</td>\n",
       "            </tr>\n",
       "            <tr>\n",
       "                        <th id=\"T_3202230c_a99b_11e9_bb9b_ccb0da492598level0_row5\" class=\"row_heading level0 row5\" >American Indian</th>\n",
       "                        <td id=\"T_3202230c_a99b_11e9_bb9b_ccb0da492598row5_col0\" class=\"data row5 col0\" >0.04</td>\n",
       "                        <td id=\"T_3202230c_a99b_11e9_bb9b_ccb0da492598row5_col1\" class=\"data row5 col1\" >0.4</td>\n",
       "            </tr>\n",
       "    </tbody></table>"
      ],
      "text/plain": [
       "<pandas.io.formats.style.Styler at 0x1859b5f67f0>"
      ]
     },
     "execution_count": 6,
     "metadata": {},
     "output_type": "execute_result"
    }
   ],
   "source": [
    "ethn_dict = {\"Hispanic\":\"48.2\", \n",
    "             \"White\":\"28.5\", \n",
    "             \"Black\":\"9.0\", \n",
    "             \"Asian\":\"11.6\", \n",
    "             \"Pacific Islander\":\"0.2\", \n",
    "             \"American Indian\":\"0.4\"}\n",
    "\n",
    "pct_race_df[\"LA_Population\"] = pd.Series(ethn_dict)\n",
    "multibar = pct_race_df.style.format({\"crash_population\":\"{:,.2f}\"})\n",
    "multibar"
   ]
  },
  {
   "cell_type": "markdown",
   "metadata": {},
   "source": [
    "## Ethnicity Distribution"
   ]
  },
  {
   "cell_type": "code",
   "execution_count": 7,
   "metadata": {},
   "outputs": [
    {
     "data": {
      "image/png": "[encoded data removed]",
      "text/plain": [
       "<Figure size 432x288 with 1 Axes>"
      ]
     },
     "metadata": {
      "needs_background": "light"
     },
     "output_type": "display_data"
    }
   ],
   "source": [
    "#get an overview of victim in race distribution\n",
    "df['victim_race'].value_counts()\n",
    "#bar graph\n",
    "race_data = pd.DataFrame(df['victim_race'].value_counts())\n",
    "fig = race_data.plot(kind='bar',color='black')\n",
    "fig.set_xlabel('Ethnicity')\n",
    "fig.set_yticks([])\n",
    "fig.set_title('Collision Per Ethnicity')\n",
    "rects = fig.patches\n",
    "labels=race_data.victim_race.tolist()\n",
    "sum_labels = sum(labels)\n",
    "perc_labels = [round(i/sum_labels*100,2) for i in labels]\n",
    "perc_labels = ['{:,.2f}%'.format(i) for i in perc_labels]\n",
    "for rect,label in zip(rects,perc_labels):\n",
    "      fig.text(rect.get_x()+rect.get_width()/2,rect.get_height(),label,ha='center',va=\n",
    "              'bottom')\n",
    "fig.spines['right'].set_visible(False)\n",
    "fig.spines['top'].set_visible(False)\n",
    "fig.spines['left'].set_visible(False)\n",
    "fig.tick_params(axis='x', rotation=40)\n",
    "#export\n",
    "plta.savefig(os.path.join(\"figures\",\"collision_per_ethnicity.png\"))"
   ]
  },
  {
   "cell_type": "code",
   "execution_count": 11,
   "metadata": {},
   "outputs": [],
   "source": [
    "# test_df = pd.DataFrame({\"ratio\" : [95, 105, 191, 59, 65, 10]})\n",
    "\n",
    "\n",
    "\n",
    "# xaxis = (\"H\", \"W\", \"B\", \"A\", \"P\", \"I\")\n",
    "# crash_pop = (45.91, 29.88, 17.16, 6.88, 0.13, .04)\n",
    "# la_pop = (48.2, 28.5, 9, 11.6, .2, .4)\n",
    "\n",
    "# line=test_df[\"ratio\"].plot(kind=\"line\", marker=\"d\", secondary_y=True,color='red')\n",
    "# ind = np.arange(len(xaxis))\n",
    "# width = .55\n",
    "# crashbar=line.twinx() #Shan - added this function to make plots share same xaxis\n",
    "# crashbar=plta.bar(ind - width/2, crash_pop, width=.52, color=\"black\", label=\"Crash Population\")\n",
    "# labar=plta.bar(ind + width/2, la_pop, width=.52, color=\"b\", label=\"LA Population\")\n",
    "\n",
    "# line=test_df[\"ratio\"].plot(kind=\"line\", marker=\"d\", secondary_y=True,color='red')\n",
    "# plta.title(\"Ethnicity by Victim Crash and LA Population\")\n",
    "# plta.ylabel(\"Population %\")\n",
    "# # plta.yaxis(tick_right())\n",
    "# # plta.yaxis(tick_left())\n",
    "# plta.legend(loc=\"best\")\n",
    "# plta.xticks(ind + width/20, (\"Hispanic\", \"White\", \"Black\", \"Asian\", \"Pacific Islander\", \"American Indian\"), rotation = 40)\n",
    "\n",
    "\n",
    "\n",
    "# # plta.spines['right'].set_visible(False)\n",
    "# # plta.spines['top'].set_visible(False)\n",
    "# # plta.spines['left'].set_visible(False)\n",
    "# plta.show()\n"
   ]
  },
  {
   "cell_type": "code",
   "execution_count": 9,
   "metadata": {},
   "outputs": [
    {
     "data": {
      "text/plain": [
       "Text(0, 0.5, 'Population %')"
      ]
     },
     "execution_count": 9,
     "metadata": {},
     "output_type": "execute_result"
    },
    {
     "data": {
      "image/png": "[encoded data removed]",
      "text/plain": [
       "<Figure size 432x288 with 2 Axes>"
      ]
     },
     "metadata": {
      "needs_background": "light"
     },
     "output_type": "display_data"
    }
   ],
   "source": [
    "#multiple bar graph\n",
    "ratio = [95, 105, 191, 59, 65, 10]\n",
    "xaxis = [\"H\", \"W\", \"B\", \"A\", \"P\", \"I\"]\n",
    "crash_pop = (45.91, 29.88, 17.16, 6.88, 0.13, .04)\n",
    "la_pop = (48.2, 28.5, 9, 11.6, .2, .4)\n",
    "width = 0.35\n",
    "ind = np.arange(len(xaxis))\n",
    "crash_data = pd.DataFrame(crash_pop,xaxis)\n",
    "crash_data[1] = la_pop\n",
    "crash_data = crash_data.rename(columns = {0:'crash',1:'population'})\n",
    "crash_fig = crash_data.plot(kind='bar',use_index=True)\n",
    "line_data = crash_fig.twinx()\n",
    "line_fig = line_data.plot(ratio,linestyle='-',marker='o',color='red')\n",
    "# #add data label for line\n",
    "# crash_fig.annotate(ratio,xy = (1,40) )\n",
    "plta.title(\"Ethnicity by Victim Crash and LA Population\")\n",
    "plta.ylabel(\"Population %\")\n"
   ]
  },
  {
   "cell_type": "code",
   "execution_count": 10,
   "metadata": {
    "scrolled": true
   },
   "outputs": [
    {
     "data": {
      "image/png": "[encoded data removed]",
      "text/plain": [
       "<Figure size 432x288 with 1 Axes>"
      ]
     },
     "metadata": {
      "needs_background": "light"
     },
     "output_type": "display_data"
    }
   ],
   "source": [
    "xaxis = (\"H\", \"W\", \"B\", \"A\", \"P\", \"I\")\n",
    "crash_pop = (45.91, 29.88, 17.16, 6.88, 0.13, .04)\n",
    "la_pop = (48.2, 28.5, 9, 11.6, .2, .4)\n",
    "\n",
    "ind = np.arange(len(xaxis))\n",
    "width = 0.35\n",
    "\n",
    "plta.bar(ind - width/2, crash_pop, width, color=\"black\", label=\"Crash Population\")\n",
    "plta.bar(ind + width/2, la_pop, width, color=\"b\", label=\"LA Population\")\n",
    "\n",
    "plta.title(\"Ethnicity by Victim Crash and LA Population\")\n",
    "plta.ylabel(\"Population %\")\n",
    "\n",
    "plta.xticks(ind + width/20, (\"Hispanic\", \"White\", \"Black\", \"Asian\", \"Pacific Islander\", \"American Indian\"), rotation = 40)\n",
    "plta.legend(loc=\"best\")\n",
    "\n",
    "plta.show()\n"
   ]
  },
  {
   "cell_type": "markdown",
   "metadata": {},
   "source": [
    "## Age mean per Ethnicity"
   ]
  },
  {
   "cell_type": "code",
   "execution_count": 12,
   "metadata": {},
   "outputs": [
    {
     "data": {
      "text/plain": [
       "<matplotlib.axes._subplots.AxesSubplot at 0x1859bfe37b8>"
      ]
     },
     "execution_count": 12,
     "metadata": {},
     "output_type": "execute_result"
    },
    {
     "data": {
      "image/png": "[encoded data removed]",
      "text/plain": [
       "<Figure size 432x288 with 1 Axes>"
      ]
     },
     "metadata": {
      "needs_background": "light"
     },
     "output_type": "display_data"
    }
   ],
   "source": [
    "df1 = df.copy()\n",
    "df1 = df1[['victim_race','victim_age']]\n",
    "# df1=df1.groupby(['victim_race']).sort_values(by='victim_race')\n",
    "# meandata = pd.DataFrame(df1['victim_age'].mean())\n",
    "# meandata.plot(kind='bar')\n",
    "df1.head()\n",
    "df1.boxplot('victim_age',by='victim_race')"
   ]
  }
 ],
 "metadata": {
  "celltoolbar": "Slideshow",
  "kernelspec": {
   "display_name": "Python 3",
   "language": "python",
   "name": "python3"
  },
  "language_info": {
   "codemirror_mode": {
    "name": "ipython",
    "version": 3
   },
   "file_extension": ".py",
   "mimetype": "text/x-python",
   "name": "python",
   "nbconvert_exporter": "python",
   "pygments_lexer": "ipython3",
   "version": "3.7.3"
  }
 },
 "nbformat": 4,
 "nbformat_minor": 2
}
