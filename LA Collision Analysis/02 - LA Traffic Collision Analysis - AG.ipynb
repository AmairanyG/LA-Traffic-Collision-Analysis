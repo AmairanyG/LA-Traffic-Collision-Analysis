{
 "cells": [
  {
   "cell_type": "markdown",
   "metadata": {},
   "source": [
    "## 1. Import Modules and Data"
   ]
  },
  {
   "cell_type": "code",
   "execution_count": 415,
   "metadata": {
    "scrolled": false
   },
   "outputs": [
    {
     "data": {
      "text/html": [
       "<div>\n",
       "<style scoped>\n",
       "    .dataframe tbody tr th:only-of-type {\n",
       "        vertical-align: middle;\n",
       "    }\n",
       "\n",
       "    .dataframe tbody tr th {\n",
       "        vertical-align: top;\n",
       "    }\n",
       "\n",
       "    .dataframe thead th {\n",
       "        text-align: right;\n",
       "    }\n",
       "</style>\n",
       "<table border=\"1\" class=\"dataframe\">\n",
       "  <thead>\n",
       "    <tr style=\"text-align: right;\">\n",
       "      <th></th>\n",
       "      <th>date</th>\n",
       "      <th>time</th>\n",
       "      <th>area</th>\n",
       "      <th>district</th>\n",
       "      <th>victim_age</th>\n",
       "      <th>victim_sex</th>\n",
       "      <th>victim_race</th>\n",
       "      <th>premise</th>\n",
       "      <th>address</th>\n",
       "      <th>location</th>\n",
       "    </tr>\n",
       "  </thead>\n",
       "  <tbody>\n",
       "    <tr>\n",
       "      <th>0</th>\n",
       "      <td>07/06/2019</td>\n",
       "      <td>2355</td>\n",
       "      <td>N Hollywood</td>\n",
       "      <td>1591</td>\n",
       "      <td>99.0</td>\n",
       "      <td>Male</td>\n",
       "      <td>Unknown</td>\n",
       "      <td>STREET</td>\n",
       "      <td>GOODLAND                     AV</td>\n",
       "      <td>(34.1371, -118.4062)</td>\n",
       "    </tr>\n",
       "    <tr>\n",
       "      <th>1</th>\n",
       "      <td>07/06/2019</td>\n",
       "      <td>500</td>\n",
       "      <td>Foothill</td>\n",
       "      <td>1677</td>\n",
       "      <td>45.0</td>\n",
       "      <td>Male</td>\n",
       "      <td>White</td>\n",
       "      <td>STREET</td>\n",
       "      <td>GLENOAKS                     BL</td>\n",
       "      <td>(34.2249, -118.3617)</td>\n",
       "    </tr>\n",
       "    <tr>\n",
       "      <th>2</th>\n",
       "      <td>07/06/2019</td>\n",
       "      <td>1130</td>\n",
       "      <td>West Valley</td>\n",
       "      <td>1028</td>\n",
       "      <td>25.0</td>\n",
       "      <td>Male</td>\n",
       "      <td>Asian</td>\n",
       "      <td>STREET</td>\n",
       "      <td>SHERMAN                      WY</td>\n",
       "      <td>(34.2012, -118.4989)</td>\n",
       "    </tr>\n",
       "    <tr>\n",
       "      <th>3</th>\n",
       "      <td>07/06/2019</td>\n",
       "      <td>1415</td>\n",
       "      <td>Northeast</td>\n",
       "      <td>1153</td>\n",
       "      <td>29.0</td>\n",
       "      <td>Male</td>\n",
       "      <td>Unknown</td>\n",
       "      <td>STREET</td>\n",
       "      <td>LOS FELIZ                    BL</td>\n",
       "      <td>(34.1081, -118.3078)</td>\n",
       "    </tr>\n",
       "    <tr>\n",
       "      <th>4</th>\n",
       "      <td>07/06/2019</td>\n",
       "      <td>1230</td>\n",
       "      <td>Central</td>\n",
       "      <td>192</td>\n",
       "      <td>41.0</td>\n",
       "      <td>Male</td>\n",
       "      <td>Unknown</td>\n",
       "      <td>STREET</td>\n",
       "      <td>GRAND                        AV</td>\n",
       "      <td>(34.0384, -118.2646)</td>\n",
       "    </tr>\n",
       "  </tbody>\n",
       "</table>\n",
       "</div>"
      ],
      "text/plain": [
       "         date  time         area  district  victim_age victim_sex victim_race  \\\n",
       "0  07/06/2019  2355  N Hollywood      1591        99.0       Male     Unknown   \n",
       "1  07/06/2019   500     Foothill      1677        45.0       Male       White   \n",
       "2  07/06/2019  1130  West Valley      1028        25.0       Male       Asian   \n",
       "3  07/06/2019  1415    Northeast      1153        29.0       Male     Unknown   \n",
       "4  07/06/2019  1230      Central       192        41.0       Male     Unknown   \n",
       "\n",
       "  premise                          address              location  \n",
       "0  STREET  GOODLAND                     AV  (34.1371, -118.4062)  \n",
       "1  STREET  GLENOAKS                     BL  (34.2249, -118.3617)  \n",
       "2  STREET  SHERMAN                      WY  (34.2012, -118.4989)  \n",
       "3  STREET  LOS FELIZ                    BL  (34.1081, -118.3078)  \n",
       "4  STREET  GRAND                        AV  (34.0384, -118.2646)  "
      ]
     },
     "execution_count": 415,
     "metadata": {},
     "output_type": "execute_result"
    }
   ],
   "source": [
    "#import modules for the analysis environment\n",
    "import os\n",
    "import matplotlib.pyplot as plta\n",
    "import matplotlib as plt\n",
    "import matplotlib.patches as mpatches\n",
    "import pandas as pd\n",
    "import numpy as np\n",
    "import requests\n",
    "import datetime\n",
    "import ast\n",
    "import gmaps\n",
    "import datetime\n",
    "import scipy.stats as stats\n",
    "# from config import gkey\n",
    "\n",
    "#read cleaned csv file\n",
    "df = pd.read_csv(\"Data/clean_data/clean_data.csv\")\n",
    "df.head()"
   ]
  },
  {
   "cell_type": "markdown",
   "metadata": {},
   "source": [
    "## 2. Victims by Race"
   ]
  },
  {
   "cell_type": "code",
   "execution_count": 389,
   "metadata": {},
   "outputs": [
    {
     "data": {
      "text/html": [
       "<div>\n",
       "<style scoped>\n",
       "    .dataframe tbody tr th:only-of-type {\n",
       "        vertical-align: middle;\n",
       "    }\n",
       "\n",
       "    .dataframe tbody tr th {\n",
       "        vertical-align: top;\n",
       "    }\n",
       "\n",
       "    .dataframe thead th {\n",
       "        text-align: right;\n",
       "    }\n",
       "</style>\n",
       "<table border=\"1\" class=\"dataframe\">\n",
       "  <thead>\n",
       "    <tr style=\"text-align: right;\">\n",
       "      <th></th>\n",
       "      <th>victim_race</th>\n",
       "    </tr>\n",
       "  </thead>\n",
       "  <tbody>\n",
       "    <tr>\n",
       "      <th>Hispanic</th>\n",
       "      <td>156131</td>\n",
       "    </tr>\n",
       "    <tr>\n",
       "      <th>White</th>\n",
       "      <td>101618</td>\n",
       "    </tr>\n",
       "    <tr>\n",
       "      <th>Black</th>\n",
       "      <td>58343</td>\n",
       "    </tr>\n",
       "    <tr>\n",
       "      <th>Asian</th>\n",
       "      <td>23383</td>\n",
       "    </tr>\n",
       "    <tr>\n",
       "      <th>Pacific Islander</th>\n",
       "      <td>442</td>\n",
       "    </tr>\n",
       "    <tr>\n",
       "      <th>American Indian</th>\n",
       "      <td>135</td>\n",
       "    </tr>\n",
       "  </tbody>\n",
       "</table>\n",
       "</div>"
      ],
      "text/plain": [
       "                  victim_race\n",
       "Hispanic               156131\n",
       "White                  101618\n",
       "Black                   58343\n",
       "Asian                   23383\n",
       "Pacific Islander          442\n",
       "American Indian           135"
      ]
     },
     "execution_count": 389,
     "metadata": {},
     "output_type": "execute_result"
    }
   ],
   "source": [
    "# Create DataFrame with the total counts of each ethnicity\n",
    "victim_race_counts = pd.DataFrame(df['victim_race'].value_counts())\n",
    "\n",
    "# Remove Unknown victims from DataFrame\n",
    "updated_victim_race = victim_race_counts.loc[['Hispanic','White','Black',\n",
    "                                              'Asian','Pacific Islander','American Indian'],\n",
    "                                             ['victim_race']]\n",
    "updated_victim_race"
   ]
  },
  {
   "cell_type": "code",
   "execution_count": 380,
   "metadata": {},
   "outputs": [
    {
     "data": {
      "text/html": [
       "<div>\n",
       "<style scoped>\n",
       "    .dataframe tbody tr th:only-of-type {\n",
       "        vertical-align: middle;\n",
       "    }\n",
       "\n",
       "    .dataframe tbody tr th {\n",
       "        vertical-align: top;\n",
       "    }\n",
       "\n",
       "    .dataframe thead th {\n",
       "        text-align: right;\n",
       "    }\n",
       "</style>\n",
       "<table border=\"1\" class=\"dataframe\">\n",
       "  <thead>\n",
       "    <tr style=\"text-align: right;\">\n",
       "      <th></th>\n",
       "      <th>victim_race</th>\n",
       "      <th>crash_population</th>\n",
       "    </tr>\n",
       "  </thead>\n",
       "  <tbody>\n",
       "    <tr>\n",
       "      <th>Hispanic</th>\n",
       "      <td>156131</td>\n",
       "      <td>45.913860</td>\n",
       "    </tr>\n",
       "    <tr>\n",
       "      <th>White</th>\n",
       "      <td>101618</td>\n",
       "      <td>29.883077</td>\n",
       "    </tr>\n",
       "    <tr>\n",
       "      <th>Black</th>\n",
       "      <td>58343</td>\n",
       "      <td>17.157082</td>\n",
       "    </tr>\n",
       "    <tr>\n",
       "      <th>Asian</th>\n",
       "      <td>23383</td>\n",
       "      <td>6.876301</td>\n",
       "    </tr>\n",
       "    <tr>\n",
       "      <th>Pacific Islander</th>\n",
       "      <td>442</td>\n",
       "      <td>0.129980</td>\n",
       "    </tr>\n",
       "    <tr>\n",
       "      <th>American Indian</th>\n",
       "      <td>135</td>\n",
       "      <td>0.039700</td>\n",
       "    </tr>\n",
       "  </tbody>\n",
       "</table>\n",
       "</div>"
      ],
      "text/plain": [
       "                  victim_race  crash_population\n",
       "Hispanic               156131         45.913860\n",
       "White                  101618         29.883077\n",
       "Black                   58343         17.157082\n",
       "Asian                   23383          6.876301\n",
       "Pacific Islander          442          0.129980\n",
       "American Indian           135          0.039700"
      ]
     },
     "execution_count": 380,
     "metadata": {},
     "output_type": "execute_result"
    }
   ],
   "source": [
    "#Calculate the percentage of total crashes per ethinicity \n",
    "percent_victim_race = updated_victim_race[\"victim_race\"]/updated_victim_race[\"victim_race\"].sum()*100\n",
    "\n",
    "# Add a new colum display the calculated percentage\n",
    "updated_victim_race[\"crash_population\"] = percent_victim_race\n",
    "updated_victim_race"
   ]
  },
  {
   "cell_type": "code",
   "execution_count": 388,
   "metadata": {},
   "outputs": [
    {
     "data": {
      "text/html": [
       "<div>\n",
       "<style scoped>\n",
       "    .dataframe tbody tr th:only-of-type {\n",
       "        vertical-align: middle;\n",
       "    }\n",
       "\n",
       "    .dataframe tbody tr th {\n",
       "        vertical-align: top;\n",
       "    }\n",
       "\n",
       "    .dataframe thead th {\n",
       "        text-align: right;\n",
       "    }\n",
       "</style>\n",
       "<table border=\"1\" class=\"dataframe\">\n",
       "  <thead>\n",
       "    <tr style=\"text-align: right;\">\n",
       "      <th></th>\n",
       "      <th>crash_population</th>\n",
       "    </tr>\n",
       "  </thead>\n",
       "  <tbody>\n",
       "    <tr>\n",
       "      <th>Hispanic</th>\n",
       "      <td>45.913860</td>\n",
       "    </tr>\n",
       "    <tr>\n",
       "      <th>White</th>\n",
       "      <td>29.883077</td>\n",
       "    </tr>\n",
       "    <tr>\n",
       "      <th>Black</th>\n",
       "      <td>17.157082</td>\n",
       "    </tr>\n",
       "    <tr>\n",
       "      <th>Asian</th>\n",
       "      <td>6.876301</td>\n",
       "    </tr>\n",
       "    <tr>\n",
       "      <th>Pacific Islander</th>\n",
       "      <td>0.129980</td>\n",
       "    </tr>\n",
       "    <tr>\n",
       "      <th>American Indian</th>\n",
       "      <td>0.039700</td>\n",
       "    </tr>\n",
       "  </tbody>\n",
       "</table>\n",
       "</div>"
      ],
      "text/plain": [
       "                  crash_population\n",
       "Hispanic                 45.913860\n",
       "White                    29.883077\n",
       "Black                    17.157082\n",
       "Asian                     6.876301\n",
       "Pacific Islander          0.129980\n",
       "American Indian           0.039700"
      ]
     },
     "execution_count": 388,
     "metadata": {},
     "output_type": "execute_result"
    }
   ],
   "source": [
    "# Display only the percentage of crashes per ethnicity\n",
    "pct_race_df = pd.DataFrame(updated_victim_race[\"crash_population\"])\n",
    "\n",
    "# Format percentage calculations with two digits and percentage sign\n",
    "pct_race_df.style.format({\"crash_population\":\"{:,.2f}%\"})\n",
    "pct_race_df"
   ]
  },
  {
   "cell_type": "markdown",
   "metadata": {},
   "source": [
    "LA Population Composition by race\n",
    ">- Hispanic: 48.2%\n",
    "- White (non-hispanic): 28.5%\n",
    "- Black: 9.0%\n",
    "- Asian: 11.6%\n",
    "- Pacific Islander: 0.2%\n",
    "- American Indian: 0.4%\n",
    "- Other: 0.6%\n",
    "\n",
    "src: https://statisticalatlas.com/place/California/Los-Angeles/Race-and-Ethnicity "
   ]
  },
  {
   "cell_type": "code",
   "execution_count": 382,
   "metadata": {},
   "outputs": [
    {
     "data": {
      "text/html": [
       "<style  type=\"text/css\" >\n",
       "</style><table id=\"T_333dfd5a_a8e0_11e9_8528_38baf8974950\" ><thead>    <tr>        <th class=\"blank level0\" ></th>        <th class=\"col_heading level0 col0\" >crash_population</th>        <th class=\"col_heading level0 col1\" >LA_Population</th>    </tr></thead><tbody>\n",
       "                <tr>\n",
       "                        <th id=\"T_333dfd5a_a8e0_11e9_8528_38baf8974950level0_row0\" class=\"row_heading level0 row0\" >Hispanic</th>\n",
       "                        <td id=\"T_333dfd5a_a8e0_11e9_8528_38baf8974950row0_col0\" class=\"data row0 col0\" >45.91</td>\n",
       "                        <td id=\"T_333dfd5a_a8e0_11e9_8528_38baf8974950row0_col1\" class=\"data row0 col1\" >48.2</td>\n",
       "            </tr>\n",
       "            <tr>\n",
       "                        <th id=\"T_333dfd5a_a8e0_11e9_8528_38baf8974950level0_row1\" class=\"row_heading level0 row1\" >White</th>\n",
       "                        <td id=\"T_333dfd5a_a8e0_11e9_8528_38baf8974950row1_col0\" class=\"data row1 col0\" >29.88</td>\n",
       "                        <td id=\"T_333dfd5a_a8e0_11e9_8528_38baf8974950row1_col1\" class=\"data row1 col1\" >28.5</td>\n",
       "            </tr>\n",
       "            <tr>\n",
       "                        <th id=\"T_333dfd5a_a8e0_11e9_8528_38baf8974950level0_row2\" class=\"row_heading level0 row2\" >Black</th>\n",
       "                        <td id=\"T_333dfd5a_a8e0_11e9_8528_38baf8974950row2_col0\" class=\"data row2 col0\" >17.16</td>\n",
       "                        <td id=\"T_333dfd5a_a8e0_11e9_8528_38baf8974950row2_col1\" class=\"data row2 col1\" >9.0</td>\n",
       "            </tr>\n",
       "            <tr>\n",
       "                        <th id=\"T_333dfd5a_a8e0_11e9_8528_38baf8974950level0_row3\" class=\"row_heading level0 row3\" >Asian</th>\n",
       "                        <td id=\"T_333dfd5a_a8e0_11e9_8528_38baf8974950row3_col0\" class=\"data row3 col0\" >6.88</td>\n",
       "                        <td id=\"T_333dfd5a_a8e0_11e9_8528_38baf8974950row3_col1\" class=\"data row3 col1\" >11.6</td>\n",
       "            </tr>\n",
       "            <tr>\n",
       "                        <th id=\"T_333dfd5a_a8e0_11e9_8528_38baf8974950level0_row4\" class=\"row_heading level0 row4\" >Pacific Islander</th>\n",
       "                        <td id=\"T_333dfd5a_a8e0_11e9_8528_38baf8974950row4_col0\" class=\"data row4 col0\" >0.13</td>\n",
       "                        <td id=\"T_333dfd5a_a8e0_11e9_8528_38baf8974950row4_col1\" class=\"data row4 col1\" >0.2</td>\n",
       "            </tr>\n",
       "            <tr>\n",
       "                        <th id=\"T_333dfd5a_a8e0_11e9_8528_38baf8974950level0_row5\" class=\"row_heading level0 row5\" >American Indian</th>\n",
       "                        <td id=\"T_333dfd5a_a8e0_11e9_8528_38baf8974950row5_col0\" class=\"data row5 col0\" >0.04</td>\n",
       "                        <td id=\"T_333dfd5a_a8e0_11e9_8528_38baf8974950row5_col1\" class=\"data row5 col1\" >0.4</td>\n",
       "            </tr>\n",
       "    </tbody></table>"
      ],
      "text/plain": [
       "<pandas.io.formats.style.Styler at 0x29761e38518>"
      ]
     },
     "execution_count": 382,
     "metadata": {},
     "output_type": "execute_result"
    }
   ],
   "source": [
    "ethn_dict = {\"Hispanic\":\"48.2\", \n",
    "             \"White\":\"28.5\", \n",
    "             \"Black\":\"9.0\", \n",
    "             \"Asian\":\"11.6\", \n",
    "             \"Pacific Islander\":\"0.2\", \n",
    "             \"American Indian\":\"0.4\"}\n",
    "\n",
    "pct_race_df[\"LA_Population\"] = pd.Series(ethn_dict)\n",
    "multibar = pct_race_df.style.format({\"crash_population\":\"{:,.2f}\"})\n",
    "multibar"
   ]
  },
  {
   "cell_type": "code",
   "execution_count": 376,
   "metadata": {
    "scrolled": true
   },
   "outputs": [
    {
     "data": {
      "image/png": "[encoded data removed]",
      "text/plain": [
       "<Figure size 432x288 with 1 Axes>"
      ]
     },
     "metadata": {
      "needs_background": "light"
     },
     "output_type": "display_data"
    }
   ],
   "source": [
    "xaxis = (\"H\", \"W\", \"B\", \"A\", \"P\", \"I\")\n",
    "crash_pop = (45.91, 29.88, 17.16, 6.88, 0.13, .04)\n",
    "la_pop = (48.2, 28.5, 9, 11.6, .2, .4)\n",
    "\n",
    "ind = np.arange(len(xaxis))\n",
    "width = 0.35\n",
    "\n",
    "plta.bar(ind - width/2, crash_pop, width, color=\"black\", label=\"Crash Population\")\n",
    "plta.bar(ind + width/2, la_pop, width, color=\"gray\", label=\"LA Population\")\n",
    "\n",
    "plta.title(\"Ethnicity by Victim Crash and LA Population\")\n",
    "plta.ylabel(\"Population %\")\n",
    "\n",
    "plta.xticks(ind + width/20, (\"Hispanic\", \"White\", \"Black\", \"Asian\", \"Pacific Islander\", \"American Indian\"), rotation = 40)\n",
    "plta.legend(loc=\"best\")\n",
    "\n",
    "plta.show()"
   ]
  },
  {
   "cell_type": "code",
   "execution_count": 437,
   "metadata": {},
   "outputs": [
    {
     "data": {
      "image/png": "[encoded data removed]",
      "text/plain": [
       "<Figure size 432x288 with 2 Axes>"
      ]
     },
     "metadata": {
      "needs_background": "light"
     },
     "output_type": "display_data"
    }
   ],
   "source": [
    "# Set parameres \n",
    "ratio = [95, 105, 191, 59, 65, 10]\n",
    "xaxis = [\"Hispanic\", \"White\", \"Black\", \"Asian\", \"Pacific Islander\", \"American Indian\"] \n",
    "crash = (45.91, 29.88, 17.16, 6.88, 0.13, .04)\n",
    "la_pop = (48.2, 28.5, 9, 11.6, .2, .4)\n",
    "width = 0.35\n",
    "ind = np.arange(len(xaxis))\n",
    "\n",
    "# \n",
    "crash_data = pd.DataFrame(crash,xaxis)\n",
    "crash_data[1] = la_pop\n",
    "crash_data = crash_data.rename(columns = {0:'crash',1:'population'})\n",
    "\n",
    "# Generate the Plot \n",
    "crash_fig = crash_data.plot(kind='bar', color=[\"black\", \"gray\"], use_index=True)\n",
    "line_data = crash_fig.twinx()\n",
    "line_fig = line_data.plot(ratio, linestyle=':',marker='o',color='red', label='Ratio')\n",
    "\n",
    "plta.legend(loc=\"right\")\n",
    "crash_fig.legend(loc=\"best\")\n",
    "\n",
    "# plta.legend((crash, population, ratio), (\"Crash\", \"Population\", \"Ratio\"))\n",
    "plta.title(\"Ethnicity by Victim Crash and LA Population\")\n",
    "plta.ylabel(\"Ratio %\")\n",
    "crash_fig.tick_params(axis='x', rotation=40)\n",
    "\n",
    "#export\n",
    "# plta.tight_layout()\n",
    "# plta.savefig(os.path.join(\"figures\",\"collision_by_ethnicity.png\"))"
   ]
  },
  {
   "cell_type": "markdown",
   "metadata": {},
   "source": [
    "## 3. Victims collusion by Gender\n",
    "\n",
    "src: https://www.states101.com/gender-ratios/california/los-angeles-county"
   ]
  },
  {
   "cell_type": "code",
   "execution_count": 113,
   "metadata": {
    "scrolled": true
   },
   "outputs": [
    {
     "data": {
      "text/html": [
       "<div>\n",
       "<style scoped>\n",
       "    .dataframe tbody tr th:only-of-type {\n",
       "        vertical-align: middle;\n",
       "    }\n",
       "\n",
       "    .dataframe tbody tr th {\n",
       "        vertical-align: top;\n",
       "    }\n",
       "\n",
       "    .dataframe thead th {\n",
       "        text-align: right;\n",
       "    }\n",
       "</style>\n",
       "<table border=\"1\" class=\"dataframe\">\n",
       "  <thead>\n",
       "    <tr style=\"text-align: right;\">\n",
       "      <th></th>\n",
       "      <th>victim_sex</th>\n",
       "    </tr>\n",
       "  </thead>\n",
       "  <tbody>\n",
       "    <tr>\n",
       "      <th>Male</th>\n",
       "      <td>234600</td>\n",
       "    </tr>\n",
       "    <tr>\n",
       "      <th>Female</th>\n",
       "      <td>165158</td>\n",
       "    </tr>\n",
       "    <tr>\n",
       "      <th>Unknown</th>\n",
       "      <td>963</td>\n",
       "    </tr>\n",
       "  </tbody>\n",
       "</table>\n",
       "</div>"
      ],
      "text/plain": [
       "         victim_sex\n",
       "Male         234600\n",
       "Female       165158\n",
       "Unknown         963"
      ]
     },
     "execution_count": 113,
     "metadata": {},
     "output_type": "execute_result"
    }
   ],
   "source": [
    "# Create DataFrame with the total counts of each ethnicity\n",
    "sex_race_counts = pd.DataFrame(df['victim_sex'].value_counts())\n",
    "sex_race_counts"
   ]
  },
  {
   "cell_type": "code",
   "execution_count": 371,
   "metadata": {
    "scrolled": true
   },
   "outputs": [
    {
     "data": {
      "text/html": [
       "<div>\n",
       "<style scoped>\n",
       "    .dataframe tbody tr th:only-of-type {\n",
       "        vertical-align: middle;\n",
       "    }\n",
       "\n",
       "    .dataframe tbody tr th {\n",
       "        vertical-align: top;\n",
       "    }\n",
       "\n",
       "    .dataframe thead th {\n",
       "        text-align: right;\n",
       "    }\n",
       "</style>\n",
       "<table border=\"1\" class=\"dataframe\">\n",
       "  <thead>\n",
       "    <tr style=\"text-align: right;\">\n",
       "      <th></th>\n",
       "      <th>victim_sex</th>\n",
       "    </tr>\n",
       "  </thead>\n",
       "  <tbody>\n",
       "    <tr>\n",
       "      <th>Male</th>\n",
       "      <td>58.544474</td>\n",
       "    </tr>\n",
       "    <tr>\n",
       "      <th>Female</th>\n",
       "      <td>41.215210</td>\n",
       "    </tr>\n",
       "  </tbody>\n",
       "</table>\n",
       "</div>"
      ],
      "text/plain": [
       "        victim_sex\n",
       "Male     58.544474\n",
       "Female   41.215210"
      ]
     },
     "execution_count": 371,
     "metadata": {},
     "output_type": "execute_result"
    }
   ],
   "source": [
    "sex_pct = sex_race_counts/sex_race_counts.sum()*100\n",
    "sex_pct\n",
    "sex_pct = sex_pct.loc[[\"Male\", \"Female\"]]\n",
    "sex_pct"
   ]
  },
  {
   "cell_type": "code",
   "execution_count": 372,
   "metadata": {},
   "outputs": [
    {
     "data": {
      "text/html": [
       "<div>\n",
       "<style scoped>\n",
       "    .dataframe tbody tr th:only-of-type {\n",
       "        vertical-align: middle;\n",
       "    }\n",
       "\n",
       "    .dataframe tbody tr th {\n",
       "        vertical-align: top;\n",
       "    }\n",
       "\n",
       "    .dataframe thead th {\n",
       "        text-align: right;\n",
       "    }\n",
       "</style>\n",
       "<table border=\"1\" class=\"dataframe\">\n",
       "  <thead>\n",
       "    <tr style=\"text-align: right;\">\n",
       "      <th></th>\n",
       "      <th>victim_sex</th>\n",
       "      <th>pop_pct</th>\n",
       "    </tr>\n",
       "  </thead>\n",
       "  <tbody>\n",
       "    <tr>\n",
       "      <th>Male</th>\n",
       "      <td>58.544474</td>\n",
       "      <td>0.492531</td>\n",
       "    </tr>\n",
       "    <tr>\n",
       "      <th>Female</th>\n",
       "      <td>41.215210</td>\n",
       "      <td>0.507468</td>\n",
       "    </tr>\n",
       "  </tbody>\n",
       "</table>\n",
       "</div>"
      ],
      "text/plain": [
       "        victim_sex   pop_pct\n",
       "Male     58.544474  0.492531\n",
       "Female   41.215210  0.507468"
      ]
     },
     "execution_count": 372,
     "metadata": {},
     "output_type": "execute_result"
    }
   ],
   "source": [
    "gender_pop = {\"Male\": \"0.492531\",\n",
    "              \"Female\": \"0.507468\"}\n",
    "sex_pct[\"pop_pct\"] = pd.Series(gender_pop)\n",
    "sex_pct"
   ]
  },
  {
   "cell_type": "code",
   "execution_count": 547,
   "metadata": {},
   "outputs": [
    {
     "data": {
      "image/png": "[encoded data removed]",
      "text/plain": [
       "<Figure size 432x288 with 1 Axes>"
      ]
     },
     "metadata": {
      "needs_background": "light"
     },
     "output_type": "display_data"
    }
   ],
   "source": [
    "ratio = [118.86, 81.22]\n",
    "xaxis = ['Male', 'Female'] \n",
    "crash = (58.54, 41.22)\n",
    "la_pop = (49.25, 50.75)\n",
    "width = 0.3\n",
    "ind = np.arange(len(xaxis))\n",
    "gender_data = pd.DataFrame(crash,xaxis)\n",
    "gender_data[1] = la_pop\n",
    "gender_data = gender_data.rename(columns = {0:'Crash Population',1:'LA Population'})\n",
    "gender_fig = gender_data.plot(kind='bar', color=[\"black\", \"gray\"], use_index=True)\n",
    "\n",
    "# rects = gender_fig.patches\n",
    "# labels=gender_data.gender_data[1].tolist()\n",
    "# sum_labels = sum(labels)\n",
    "# perc_labels = [round(i/sum_labels*100,2) for i in labels]\n",
    "# perc_labels = ['{:,.2f}%'.format(i) for i in perc_labels]\n",
    "# for rect,label in zip(rects,perc_labels):\n",
    "#       gender_fig.text(rect.get_x()+rect.get_width()/2,rect.get_height(),label,ha='center',va=\n",
    "#               'bottom')\n",
    "        \n",
    "# gender_fig.spines['right'].set_visible(False)\n",
    "# gender_fig.spines['top'].set_visible(False)\n",
    "# gender_fig.spines['left'].set_visible(False)\n",
    "# gender_fig.set_xlabel(\"\")\n",
    "# gender_fig.set_yticks(\"Population\" %)\n",
    "\n",
    "# # fig.set_title('Collision by Victim Age Means')\n",
    "# gender_fig.legend().remove()\n",
    "\n",
    "# rects = gender_fig.patches\n",
    "# labels=gender_data.Population.tolist()\n",
    "# labels=[round(i,0) for i in labels]\n",
    "# sum_labels = sum(labels)\n",
    "# # perc_labels = [round(i/sum_labels*100,2) for i in labels]\n",
    "# # perc_labels = ['{:,.2f}%'.format(i) for i in perc_labels]\n",
    "# for rect,label in zip(rects,labels):\n",
    "#       gender_fig.text(rect.get_x()+rect.get_width()/2,rect.get_height(),label,ha='center',va='bottom')\n",
    "\n",
    "plta.legend(loc=\"center\")\n",
    "gender_fig.legend(loc=\"best\")\n",
    "\n",
    "# plta.legend((crash, population, ratio), (\"Crash\", \"Population\", \"Ratio\"))\n",
    "# plta.title(\"Ethnicity by Victim Crash and LA Population\")\n",
    "plta.ylabel(\"Population %\")\n",
    "gender_fig.tick_params(axis='x', rotation=1)"
   ]
  },
  {
   "cell_type": "code",
   "execution_count": 151,
   "metadata": {},
   "outputs": [
    {
     "name": "stdout",
     "output_type": "stream",
     "text": [
      "0.49253180754010323\n",
      "0.5074681924598968\n",
      "118.86440449885696\n",
      "81.21730703990295\n"
     ]
    }
   ],
   "source": [
    "male_pct = 4982799/10116705\n",
    "print(male_pct)\n",
    "\n",
    "female_pct = 5133906/10116705\n",
    "print(female_pct)\n",
    "\n",
    "male_ratio = .585445/male_pct*100\n",
    "print(male_ratio)\n",
    "\n",
    "female_ratio = (.412152/female_pct)*100\n",
    "print(female_ratio)"
   ]
  },
  {
   "cell_type": "markdown",
   "metadata": {},
   "source": [
    "## 4. Age mean per Ethnicity"
   ]
  },
  {
   "cell_type": "markdown",
   "metadata": {},
   "source": [
    "LA Age Categories\n",
    "\n",
    ">- Children: less than 18 years old\n",
    "- College: from 18 to 21 years old\n",
    "- Younger Adult: from 22 to 39 years old\n",
    "- Older Adult: from 40 to 64 years old\n",
    "- Senior: more than 64 years old\n",
    "\n",
    "src: https://statisticalatlas.com/place/California/Los-Angeles/Age-and-Sex"
   ]
  },
  {
   "cell_type": "code",
   "execution_count": 484,
   "metadata": {
    "scrolled": true
   },
   "outputs": [
    {
     "data": {
      "text/html": [
       "<div>\n",
       "<style scoped>\n",
       "    .dataframe tbody tr th:only-of-type {\n",
       "        vertical-align: middle;\n",
       "    }\n",
       "\n",
       "    .dataframe tbody tr th {\n",
       "        vertical-align: top;\n",
       "    }\n",
       "\n",
       "    .dataframe thead th {\n",
       "        text-align: right;\n",
       "    }\n",
       "</style>\n",
       "<table border=\"1\" class=\"dataframe\">\n",
       "  <thead>\n",
       "    <tr style=\"text-align: right;\">\n",
       "      <th></th>\n",
       "      <th>victim_age</th>\n",
       "    </tr>\n",
       "    <tr>\n",
       "      <th>victim_race</th>\n",
       "      <th></th>\n",
       "    </tr>\n",
       "  </thead>\n",
       "  <tbody>\n",
       "    <tr>\n",
       "      <th>American Indian</th>\n",
       "      <td>39.251852</td>\n",
       "    </tr>\n",
       "    <tr>\n",
       "      <th>Asian</th>\n",
       "      <td>43.144806</td>\n",
       "    </tr>\n",
       "    <tr>\n",
       "      <th>Black</th>\n",
       "      <td>42.442624</td>\n",
       "    </tr>\n",
       "    <tr>\n",
       "      <th>Hispanic</th>\n",
       "      <td>38.550448</td>\n",
       "    </tr>\n",
       "    <tr>\n",
       "      <th>Pacific Islander</th>\n",
       "      <td>43.513575</td>\n",
       "    </tr>\n",
       "    <tr>\n",
       "      <th>White</th>\n",
       "      <td>43.526373</td>\n",
       "    </tr>\n",
       "  </tbody>\n",
       "</table>\n",
       "</div>"
      ],
      "text/plain": [
       "                  victim_age\n",
       "victim_race                 \n",
       "American Indian    39.251852\n",
       "Asian              43.144806\n",
       "Black              42.442624\n",
       "Hispanic           38.550448\n",
       "Pacific Islander   43.513575\n",
       "White              43.526373"
      ]
     },
     "execution_count": 484,
     "metadata": {},
     "output_type": "execute_result"
    }
   ],
   "source": [
    "df1 = df.copy()\n",
    "df1 = df1[['victim_race','victim_age']]\n",
    "df1=df1.groupby(['victim_race'])\n",
    "meandata = pd.DataFrame(df1['victim_age'].mean())\n",
    "meandata = meandata[meandata.index!='Unknown']\n",
    "meandata"
   ]
  },
  {
   "cell_type": "code",
   "execution_count": 491,
   "metadata": {
    "scrolled": true
   },
   "outputs": [
    {
     "data": {
      "image/png": "[encoded data removed]",
      "text/plain": [
       "<Figure size 432x288 with 1 Axes>"
      ]
     },
     "metadata": {
      "needs_background": "light"
     },
     "output_type": "display_data"
    }
   ],
   "source": [
    "\n",
    "fig = meandata.plot(kind='bar', color=\"black\")\n",
    "fig.tick_params(axis='x', rotation=40)\n",
    "fig.spines['right'].set_visible(False)\n",
    "fig.spines['top'].set_visible(False)\n",
    "fig.spines['left'].set_visible(False)\n",
    "fig.set_xlabel(\"\")\n",
    "fig.set_yticks([])\n",
    "\n",
    "# fig.set_title('Collision by Victim Age Means')\n",
    "fig.legend().remove()\n",
    "\n",
    "rects = fig.patches\n",
    "labels=meandata.victim_age.tolist()\n",
    "labels=[round(i,0) for i in labels]\n",
    "sum_labels = sum(labels)\n",
    "# perc_labels = [round(i/sum_labels*100,2) for i in labels]\n",
    "# perc_labels = ['{:,.2f}%'.format(i) for i in perc_labels]\n",
    "for rect,label in zip(rects,labels):\n",
    "      fig.text(rect.get_x()+rect.get_width()/2,rect.get_height(),label,ha='center',va='bottom')\n",
    "        "
   ]
  },
  {
   "cell_type": "code",
   "execution_count": 500,
   "metadata": {},
   "outputs": [
    {
     "data": {
      "text/html": [
       "<div>\n",
       "<style scoped>\n",
       "    .dataframe tbody tr th:only-of-type {\n",
       "        vertical-align: middle;\n",
       "    }\n",
       "\n",
       "    .dataframe tbody tr th {\n",
       "        vertical-align: top;\n",
       "    }\n",
       "\n",
       "    .dataframe thead th {\n",
       "        text-align: right;\n",
       "    }\n",
       "</style>\n",
       "<table border=\"1\" class=\"dataframe\">\n",
       "  <thead>\n",
       "    <tr style=\"text-align: right;\">\n",
       "      <th></th>\n",
       "      <th>victim_race</th>\n",
       "    </tr>\n",
       "  </thead>\n",
       "  <tbody>\n",
       "    <tr>\n",
       "      <th>Hispanic</th>\n",
       "      <td>156131</td>\n",
       "    </tr>\n",
       "    <tr>\n",
       "      <th>White</th>\n",
       "      <td>101618</td>\n",
       "    </tr>\n",
       "    <tr>\n",
       "      <th>Black</th>\n",
       "      <td>58343</td>\n",
       "    </tr>\n",
       "    <tr>\n",
       "      <th>Asian</th>\n",
       "      <td>23383</td>\n",
       "    </tr>\n",
       "    <tr>\n",
       "      <th>Pacific Islander</th>\n",
       "      <td>442</td>\n",
       "    </tr>\n",
       "    <tr>\n",
       "      <th>American Indian</th>\n",
       "      <td>135</td>\n",
       "    </tr>\n",
       "  </tbody>\n",
       "</table>\n",
       "</div>"
      ],
      "text/plain": [
       "                  victim_race\n",
       "Hispanic               156131\n",
       "White                  101618\n",
       "Black                   58343\n",
       "Asian                   23383\n",
       "Pacific Islander          442\n",
       "American Indian           135"
      ]
     },
     "execution_count": 500,
     "metadata": {},
     "output_type": "execute_result"
    }
   ],
   "source": [
    "race_data\n",
    "race_data = race_data[race_data.index!='Unknown']\n",
    "race_data"
   ]
  },
  {
   "cell_type": "code",
   "execution_count": 503,
   "metadata": {},
   "outputs": [
    {
     "data": {
      "text/plain": [
       "<matplotlib.legend.Legend at 0x297688cf9e8>"
      ]
     },
     "execution_count": 503,
     "metadata": {},
     "output_type": "execute_result"
    },
    {
     "data": {
      "image/png": "[encoded data removed]",
      "text/plain": [
       "<Figure size 432x288 with 1 Axes>"
      ]
     },
     "metadata": {
      "needs_background": "light"
     },
     "output_type": "display_data"
    }
   ],
   "source": [
    "#get an overview of victim in race distribution\n",
    "df['victim_race'].value_counts()\n",
    "\n",
    "#bar graph\n",
    "race_data = pd.DataFrame(df['victim_race'].value_counts())\n",
    "race_data = race_data[race_data.index!='Unknown']\n",
    "\n",
    "fig = race_data.plot(kind='bar',color='black')\n",
    "fig.set_xlabel('')\n",
    "fig.set_yticks([])\n",
    "# fig.set_title('Collision By Ethnicity')\n",
    "rects = fig.patches\n",
    "labels=race_data.victim_race.tolist()\n",
    "sum_labels = sum(labels)\n",
    "perc_labels = [round(i/sum_labels*100,2) for i in labels]\n",
    "perc_labels = ['{:,.2f}%'.format(i) for i in perc_labels]\n",
    "for rect,label in zip(rects,perc_labels):\n",
    "      fig.text(rect.get_x()+rect.get_width()/2,rect.get_height(),label,ha='center',va=\n",
    "              'bottom')\n",
    "fig.spines['right'].set_visible(False)\n",
    "fig.spines['top'].set_visible(False)\n",
    "fig.spines['left'].set_visible(False)\n",
    "fig.tick_params(axis='x', rotation=40)\n",
    "fig.legend([\"Victim's Ethnicity\"])"
   ]
  },
  {
   "cell_type": "code",
   "execution_count": 512,
   "metadata": {},
   "outputs": [
    {
     "ename": "IndexingError",
     "evalue": "Too many indexers",
     "output_type": "error",
     "traceback": [
      "\u001b[1;31m---------------------------------------------------------------------------\u001b[0m",
      "\u001b[1;31mIndexingError\u001b[0m                             Traceback (most recent call last)",
      "\u001b[1;32m<ipython-input-512-2fde8d45020e>\u001b[0m in \u001b[0;36m<module>\u001b[1;34m\u001b[0m\n\u001b[0;32m      1\u001b[0m \u001b[0mdf1\u001b[0m \u001b[1;33m=\u001b[0m \u001b[0mdf\u001b[0m\u001b[1;33m.\u001b[0m\u001b[0mcopy\u001b[0m\u001b[1;33m(\u001b[0m\u001b[1;33m)\u001b[0m\u001b[1;33m\u001b[0m\u001b[1;33m\u001b[0m\u001b[0m\n\u001b[0;32m      2\u001b[0m \u001b[0mdf1\u001b[0m \u001b[1;33m=\u001b[0m \u001b[0mpd\u001b[0m\u001b[1;33m.\u001b[0m\u001b[0mDataFrame\u001b[0m\u001b[1;33m(\u001b[0m\u001b[0mdf\u001b[0m\u001b[1;33m[\u001b[0m\u001b[1;34m\"victim_race\"\u001b[0m\u001b[1;33m]\u001b[0m\u001b[1;33m)\u001b[0m\u001b[1;33m\u001b[0m\u001b[1;33m\u001b[0m\u001b[0m\n\u001b[1;32m----> 3\u001b[1;33m \u001b[0mdf2\u001b[0m \u001b[1;33m=\u001b[0m \u001b[0mdf1\u001b[0m\u001b[1;33m.\u001b[0m\u001b[0mloc\u001b[0m\u001b[1;33m[\u001b[0m\u001b[1;34m\"Hispanic\"\u001b[0m\u001b[1;33m,\u001b[0m \u001b[1;34m\"White\"\u001b[0m\u001b[1;33m,\u001b[0m \u001b[1;34m\"Black\"\u001b[0m\u001b[1;33m,\u001b[0m \u001b[1;34m\"Asian\"\u001b[0m\u001b[1;33m,\u001b[0m \u001b[1;34m\"Pacific Islander\"\u001b[0m\u001b[1;33m,\u001b[0m \u001b[1;34m\"American Indian\"\u001b[0m\u001b[1;33m]\u001b[0m\u001b[1;33m\u001b[0m\u001b[1;33m\u001b[0m\u001b[0m\n\u001b[0m\u001b[0;32m      4\u001b[0m \u001b[0mdf2\u001b[0m \u001b[1;33m=\u001b[0m \u001b[0mdf2\u001b[0m\u001b[1;33m[\u001b[0m\u001b[1;33m[\u001b[0m\u001b[1;34m'victim_race'\u001b[0m\u001b[1;33m,\u001b[0m\u001b[1;34m'victim_age'\u001b[0m\u001b[1;33m]\u001b[0m\u001b[1;33m]\u001b[0m\u001b[1;33m\u001b[0m\u001b[1;33m\u001b[0m\u001b[0m\n\u001b[0;32m      5\u001b[0m \u001b[1;31m# df1=df1.groupby(['victim_race']).sort_values(by='victim_race')\u001b[0m\u001b[1;33m\u001b[0m\u001b[1;33m\u001b[0m\u001b[1;33m\u001b[0m\u001b[0m\n",
      "\u001b[1;32m~\\Anaconda3\\lib\\site-packages\\pandas\\core\\indexing.py\u001b[0m in \u001b[0;36m__getitem__\u001b[1;34m(self, key)\u001b[0m\n\u001b[0;32m   1492\u001b[0m             \u001b[1;32mexcept\u001b[0m \u001b[1;33m(\u001b[0m\u001b[0mKeyError\u001b[0m\u001b[1;33m,\u001b[0m \u001b[0mIndexError\u001b[0m\u001b[1;33m,\u001b[0m \u001b[0mAttributeError\u001b[0m\u001b[1;33m)\u001b[0m\u001b[1;33m:\u001b[0m\u001b[1;33m\u001b[0m\u001b[1;33m\u001b[0m\u001b[0m\n\u001b[0;32m   1493\u001b[0m                 \u001b[1;32mpass\u001b[0m\u001b[1;33m\u001b[0m\u001b[1;33m\u001b[0m\u001b[0m\n\u001b[1;32m-> 1494\u001b[1;33m             \u001b[1;32mreturn\u001b[0m \u001b[0mself\u001b[0m\u001b[1;33m.\u001b[0m\u001b[0m_getitem_tuple\u001b[0m\u001b[1;33m(\u001b[0m\u001b[0mkey\u001b[0m\u001b[1;33m)\u001b[0m\u001b[1;33m\u001b[0m\u001b[1;33m\u001b[0m\u001b[0m\n\u001b[0m\u001b[0;32m   1495\u001b[0m         \u001b[1;32melse\u001b[0m\u001b[1;33m:\u001b[0m\u001b[1;33m\u001b[0m\u001b[1;33m\u001b[0m\u001b[0m\n\u001b[0;32m   1496\u001b[0m             \u001b[1;31m# we by definition only have the 0th axis\u001b[0m\u001b[1;33m\u001b[0m\u001b[1;33m\u001b[0m\u001b[1;33m\u001b[0m\u001b[0m\n",
      "\u001b[1;32m~\\Anaconda3\\lib\\site-packages\\pandas\\core\\indexing.py\u001b[0m in \u001b[0;36m_getitem_tuple\u001b[1;34m(self, tup)\u001b[0m\n\u001b[0;32m    871\u001b[0m \u001b[1;33m\u001b[0m\u001b[0m\n\u001b[0;32m    872\u001b[0m         \u001b[1;31m# no multi-index, so validate all of the indexers\u001b[0m\u001b[1;33m\u001b[0m\u001b[1;33m\u001b[0m\u001b[1;33m\u001b[0m\u001b[0m\n\u001b[1;32m--> 873\u001b[1;33m         \u001b[0mself\u001b[0m\u001b[1;33m.\u001b[0m\u001b[0m_has_valid_tuple\u001b[0m\u001b[1;33m(\u001b[0m\u001b[0mtup\u001b[0m\u001b[1;33m)\u001b[0m\u001b[1;33m\u001b[0m\u001b[1;33m\u001b[0m\u001b[0m\n\u001b[0m\u001b[0;32m    874\u001b[0m \u001b[1;33m\u001b[0m\u001b[0m\n\u001b[0;32m    875\u001b[0m         \u001b[1;31m# ugly hack for GH #836\u001b[0m\u001b[1;33m\u001b[0m\u001b[1;33m\u001b[0m\u001b[1;33m\u001b[0m\u001b[0m\n",
      "\u001b[1;32m~\\Anaconda3\\lib\\site-packages\\pandas\\core\\indexing.py\u001b[0m in \u001b[0;36m_has_valid_tuple\u001b[1;34m(self, key)\u001b[0m\n\u001b[0;32m    219\u001b[0m         \u001b[1;32mfor\u001b[0m \u001b[0mi\u001b[0m\u001b[1;33m,\u001b[0m \u001b[0mk\u001b[0m \u001b[1;32min\u001b[0m \u001b[0menumerate\u001b[0m\u001b[1;33m(\u001b[0m\u001b[0mkey\u001b[0m\u001b[1;33m)\u001b[0m\u001b[1;33m:\u001b[0m\u001b[1;33m\u001b[0m\u001b[1;33m\u001b[0m\u001b[0m\n\u001b[0;32m    220\u001b[0m             \u001b[1;32mif\u001b[0m \u001b[0mi\u001b[0m \u001b[1;33m>=\u001b[0m \u001b[0mself\u001b[0m\u001b[1;33m.\u001b[0m\u001b[0mobj\u001b[0m\u001b[1;33m.\u001b[0m\u001b[0mndim\u001b[0m\u001b[1;33m:\u001b[0m\u001b[1;33m\u001b[0m\u001b[1;33m\u001b[0m\u001b[0m\n\u001b[1;32m--> 221\u001b[1;33m                 \u001b[1;32mraise\u001b[0m \u001b[0mIndexingError\u001b[0m\u001b[1;33m(\u001b[0m\u001b[1;34m'Too many indexers'\u001b[0m\u001b[1;33m)\u001b[0m\u001b[1;33m\u001b[0m\u001b[1;33m\u001b[0m\u001b[0m\n\u001b[0m\u001b[0;32m    222\u001b[0m             \u001b[1;32mtry\u001b[0m\u001b[1;33m:\u001b[0m\u001b[1;33m\u001b[0m\u001b[1;33m\u001b[0m\u001b[0m\n\u001b[0;32m    223\u001b[0m                 \u001b[0mself\u001b[0m\u001b[1;33m.\u001b[0m\u001b[0m_validate_key\u001b[0m\u001b[1;33m(\u001b[0m\u001b[0mk\u001b[0m\u001b[1;33m,\u001b[0m \u001b[0mi\u001b[0m\u001b[1;33m)\u001b[0m\u001b[1;33m\u001b[0m\u001b[1;33m\u001b[0m\u001b[0m\n",
      "\u001b[1;31mIndexingError\u001b[0m: Too many indexers"
     ]
    }
   ],
   "source": [
    "df1 = df.copy()\n",
    "df1 = pd.DataFrame(df[\"victim_race\"])\n",
    "df2 = df1.loc[\"Hispanic\", \"White\", \"Black\", \"Asian\", \"Pacific Islander\", \"American Indian\"]\n",
    "df2 = df2[['victim_race','victim_age']]\n",
    "# df1=df1.groupby(['victim_race']).sort_values(by='victim_race')\n",
    "# meandata = pd.DataFrame(df1['victim_age'].mean())\n",
    "# meandata.plot(kind='bar')\n",
    "df2.head()\n",
    "df2.boxplot('victim_age',by='victim_race', figsize=(20, 10))"
   ]
  },
  {
   "cell_type": "code",
   "execution_count": 504,
   "metadata": {},
   "outputs": [
    {
     "data": {
      "text/plain": [
       "<pandas.core.groupby.generic.DataFrameGroupBy object at 0x000002976110A3C8>"
      ]
     },
     "execution_count": 504,
     "metadata": {},
     "output_type": "execute_result"
    }
   ],
   "source": [
    "df1"
   ]
  },
  {
   "cell_type": "code",
   "execution_count": 535,
   "metadata": {
    "scrolled": true
   },
   "outputs": [
    {
     "data": {
      "text/plain": [
       "Text(0, 0.5, 'Age')"
      ]
     },
     "execution_count": 535,
     "metadata": {},
     "output_type": "execute_result"
    },
    {
     "data": {
      "image/png": "[encoded data removed]",
      "text/plain": [
       "<Figure size 720x360 with 1 Axes>"
      ]
     },
     "metadata": {
      "needs_background": "light"
     },
     "output_type": "display_data"
    }
   ],
   "source": [
    "\n",
    "df1 = df.copy()\n",
    "df1 = df1[['victim_race','victim_age']]\n",
    "df1 = df1[df1['victim_race']!='Unknown']\n",
    "\n",
    "# df1=df1.groupby(['victim_race']).sort_values(by='victim_race')\n",
    "# meandata = pd.DataFrame(df1['victim_age'].mean())\n",
    "# meandata.plot(kind='bar')\n",
    "df1.head()\n",
    "fig = df1.boxplot('victim_age',by='victim_race', figsize=(10, 5))\n",
    "fig.set_xlabel(\"Victim Race\")\n",
    "fig.set_ylabel(\"Age\")\n"
   ]
  },
  {
   "cell_type": "code",
   "execution_count": 508,
   "metadata": {},
   "outputs": [
    {
     "data": {
      "text/plain": [
       "0          Unknown\n",
       "1            White\n",
       "2            Asian\n",
       "3          Unknown\n",
       "4          Unknown\n",
       "5            White\n",
       "6         Hispanic\n",
       "7            White\n",
       "8         Hispanic\n",
       "9         Hispanic\n",
       "10        Hispanic\n",
       "11         Unknown\n",
       "12        Hispanic\n",
       "13           White\n",
       "14        Hispanic\n",
       "15        Hispanic\n",
       "16           White\n",
       "17        Hispanic\n",
       "18        Hispanic\n",
       "19        Hispanic\n",
       "20           Black\n",
       "21           Black\n",
       "22           White\n",
       "23        Hispanic\n",
       "24        Hispanic\n",
       "25           White\n",
       "26        Hispanic\n",
       "27        Hispanic\n",
       "28        Hispanic\n",
       "29        Hispanic\n",
       "            ...   \n",
       "400691       White\n",
       "400692       Black\n",
       "400693    Hispanic\n",
       "400694    Hispanic\n",
       "400695       White\n",
       "400696    Hispanic\n",
       "400697    Hispanic\n",
       "400698    Hispanic\n",
       "400699    Hispanic\n",
       "400700       White\n",
       "400701    Hispanic\n",
       "400702    Hispanic\n",
       "400703       Asian\n",
       "400704       White\n",
       "400705    Hispanic\n",
       "400706     Unknown\n",
       "400707    Hispanic\n",
       "400708       White\n",
       "400709       White\n",
       "400710       Black\n",
       "400711    Hispanic\n",
       "400712    Hispanic\n",
       "400713       Black\n",
       "400714    Hispanic\n",
       "400715       Black\n",
       "400716       Asian\n",
       "400717     Unknown\n",
       "400718       White\n",
       "400719    Hispanic\n",
       "400720     Unknown\n",
       "Name: victim_race, Length: 400721, dtype: object"
      ]
     },
     "execution_count": 508,
     "metadata": {},
     "output_type": "execute_result"
    }
   ],
   "source": [
    "df1[\"victim_race\"]"
   ]
  },
  {
   "cell_type": "code",
   "execution_count": 413,
   "metadata": {},
   "outputs": [],
   "source": [
    "# Extract individual groups\n",
    "Hispanic = df1[df1[\"victim_race\"] == \"Hispanic\"][\"victim_age\"]\n",
    "White =  df1[df1[\"victim_race\"] == \"White\"][\"victim_age\"]\n",
    "Black = df1[df1[\"victim_race\"] == \"Black\"][\"victim_age\"]\n",
    "Asian = df1[df1[\"victim_race\"] == \"Asian\"][\"victim_age\"]\n",
    "PacificIsl = df1[df1[\"victim_race\"] == \"Pacific Islander\"][\"victim_age\"]\n",
    "AmericanInd = df1[df1[\"victim_race\"] == \"American Indian\"][\"victim_age\"]"
   ]
  },
  {
   "cell_type": "code",
   "execution_count": 416,
   "metadata": {},
   "outputs": [
    {
     "data": {
      "text/plain": [
       "F_onewayResult(statistic=1566.0672656810764, pvalue=0.0)"
      ]
     },
     "execution_count": 416,
     "metadata": {},
     "output_type": "execute_result"
    }
   ],
   "source": [
    "# Perform the ANOVA\n",
    "stats.f_oneway(Hispanic, White, Black, Asian, PacificIsl, AmericanInd)"
   ]
  },
  {
   "cell_type": "code",
   "execution_count": 384,
   "metadata": {
    "scrolled": true
   },
   "outputs": [
    {
     "name": "stdout",
     "output_type": "stream",
     "text": [
      "                                      victim_age\n",
      "Age Category                                    \n",
      "Children ( < 18 years old )            17.578563\n",
      "College ( 18 to 21 years old )         20.504053\n",
      "Younger Adult ( 22 to 39 years old )   29.902646\n",
      "Older Adult ( 40 to 64 years old )     50.168594\n",
      "Senior ( > 64 years old )              76.831921\n"
     ]
    },
    {
     "data": {
      "text/html": [
       "<div>\n",
       "<style scoped>\n",
       "    .dataframe tbody tr th:only-of-type {\n",
       "        vertical-align: middle;\n",
       "    }\n",
       "\n",
       "    .dataframe tbody tr th {\n",
       "        vertical-align: top;\n",
       "    }\n",
       "\n",
       "    .dataframe thead th {\n",
       "        text-align: right;\n",
       "    }\n",
       "</style>\n",
       "<table border=\"1\" class=\"dataframe\">\n",
       "  <thead>\n",
       "    <tr style=\"text-align: right;\">\n",
       "      <th></th>\n",
       "      <th>age_count</th>\n",
       "      <th>age_mean</th>\n",
       "    </tr>\n",
       "    <tr>\n",
       "      <th>Age Category</th>\n",
       "      <th></th>\n",
       "      <th></th>\n",
       "    </tr>\n",
       "  </thead>\n",
       "  <tbody>\n",
       "    <tr>\n",
       "      <th>Children ( &lt; 18 years old )</th>\n",
       "      <td>821</td>\n",
       "      <td>17.578563</td>\n",
       "    </tr>\n",
       "    <tr>\n",
       "      <th>College ( 18 to 21 years old )</th>\n",
       "      <td>18256</td>\n",
       "      <td>20.504053</td>\n",
       "    </tr>\n",
       "    <tr>\n",
       "      <th>Younger Adult ( 22 to 39 years old )</th>\n",
       "      <td>186505</td>\n",
       "      <td>29.902646</td>\n",
       "    </tr>\n",
       "    <tr>\n",
       "      <th>Older Adult ( 40 to 64 years old )</th>\n",
       "      <td>161744</td>\n",
       "      <td>50.168594</td>\n",
       "    </tr>\n",
       "    <tr>\n",
       "      <th>Senior ( &gt; 64 years old )</th>\n",
       "      <td>33395</td>\n",
       "      <td>76.831921</td>\n",
       "    </tr>\n",
       "  </tbody>\n",
       "</table>\n",
       "</div>"
      ],
      "text/plain": [
       "                                      age_count   age_mean\n",
       "Age Category                                              \n",
       "Children ( < 18 years old )                 821  17.578563\n",
       "College ( 18 to 21 years old )            18256  20.504053\n",
       "Younger Adult ( 22 to 39 years old )     186505  29.902646\n",
       "Older Adult ( 40 to 64 years old )       161744  50.168594\n",
       "Senior ( > 64 years old )                 33395  76.831921"
      ]
     },
     "execution_count": 384,
     "metadata": {},
     "output_type": "execute_result"
    }
   ],
   "source": [
    "#create bins to extract age range\n",
    "bins = [0,19,22,40,65, float(\"inf\")]\n",
    "age = [\"Children ( < 18 years old )\",\n",
    "       \"College ( 18 to 21 years old )\",\n",
    "       \"Younger Adult ( 22 to 39 years old )\",\n",
    "       \"Older Adult ( 40 to 64 years old )\",\n",
    "       \"Senior ( > 64 years old )\"]\n",
    "\n",
    "df['Age Category'] = pd.cut(df['victim_age'],bins, right=False, labels=age)\n",
    "\n",
    "age_group = df.groupby(\"Age Category\")\n",
    "print(age_group[\"victim_race\", \"victim_age\"].mean())\n",
    "\n",
    "age_count[\"age_count\"] = age_group[[\"victim_age\"]].count()\n",
    "age_count[\"age_mean\"] = age_group[\"victim_age\"].mean()\n",
    "age_df = age_count[[\"age_count\",\"age_mean\"]]\n",
    "age_df"
   ]
  },
  {
   "cell_type": "code",
   "execution_count": null,
   "metadata": {},
   "outputs": [],
   "source": []
  }
 ],
 "metadata": {
  "celltoolbar": "Slideshow",
  "kernelspec": {
   "display_name": "Python 3",
   "language": "python",
   "name": "python3"
  },
  "language_info": {
   "codemirror_mode": {
    "name": "ipython",
    "version": 3
   },
   "file_extension": ".py",
   "mimetype": "text/x-python",
   "name": "python",
   "nbconvert_exporter": "python",
   "pygments_lexer": "ipython3",
   "version": "3.7.3"
  }
 },
 "nbformat": 4,
 "nbformat_minor": 2
}
