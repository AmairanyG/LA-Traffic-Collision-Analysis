{
 "cells": [
  {
   "cell_type": "code",
   "execution_count": 307,
   "metadata": {
    "scrolled": false
   },
   "outputs": [
    {
     "data": {
      "text/html": [
       "<div>\n",
       "<style scoped>\n",
       "    .dataframe tbody tr th:only-of-type {\n",
       "        vertical-align: middle;\n",
       "    }\n",
       "\n",
       "    .dataframe tbody tr th {\n",
       "        vertical-align: top;\n",
       "    }\n",
       "\n",
       "    .dataframe thead th {\n",
       "        text-align: right;\n",
       "    }\n",
       "</style>\n",
       "<table border=\"1\" class=\"dataframe\">\n",
       "  <thead>\n",
       "    <tr style=\"text-align: right;\">\n",
       "      <th></th>\n",
       "      <th>date</th>\n",
       "      <th>time</th>\n",
       "      <th>area</th>\n",
       "      <th>district</th>\n",
       "      <th>victim_age</th>\n",
       "      <th>victim_sex</th>\n",
       "      <th>victim_race</th>\n",
       "      <th>premise</th>\n",
       "      <th>address</th>\n",
       "      <th>location</th>\n",
       "    </tr>\n",
       "  </thead>\n",
       "  <tbody>\n",
       "    <tr>\n",
       "      <th>0</th>\n",
       "      <td>07/06/2019</td>\n",
       "      <td>2355</td>\n",
       "      <td>N Hollywood</td>\n",
       "      <td>1591</td>\n",
       "      <td>99.0</td>\n",
       "      <td>Male</td>\n",
       "      <td>Unknown</td>\n",
       "      <td>STREET</td>\n",
       "      <td>GOODLAND                     AV</td>\n",
       "      <td>(34.1371, -118.4062)</td>\n",
       "    </tr>\n",
       "    <tr>\n",
       "      <th>1</th>\n",
       "      <td>07/06/2019</td>\n",
       "      <td>500</td>\n",
       "      <td>Foothill</td>\n",
       "      <td>1677</td>\n",
       "      <td>45.0</td>\n",
       "      <td>Male</td>\n",
       "      <td>White</td>\n",
       "      <td>STREET</td>\n",
       "      <td>GLENOAKS                     BL</td>\n",
       "      <td>(34.2249, -118.3617)</td>\n",
       "    </tr>\n",
       "    <tr>\n",
       "      <th>2</th>\n",
       "      <td>07/06/2019</td>\n",
       "      <td>1130</td>\n",
       "      <td>West Valley</td>\n",
       "      <td>1028</td>\n",
       "      <td>25.0</td>\n",
       "      <td>Male</td>\n",
       "      <td>Asian</td>\n",
       "      <td>STREET</td>\n",
       "      <td>SHERMAN                      WY</td>\n",
       "      <td>(34.2012, -118.4989)</td>\n",
       "    </tr>\n",
       "    <tr>\n",
       "      <th>3</th>\n",
       "      <td>07/06/2019</td>\n",
       "      <td>1415</td>\n",
       "      <td>Northeast</td>\n",
       "      <td>1153</td>\n",
       "      <td>29.0</td>\n",
       "      <td>Male</td>\n",
       "      <td>Unknown</td>\n",
       "      <td>STREET</td>\n",
       "      <td>LOS FELIZ                    BL</td>\n",
       "      <td>(34.1081, -118.3078)</td>\n",
       "    </tr>\n",
       "    <tr>\n",
       "      <th>4</th>\n",
       "      <td>07/06/2019</td>\n",
       "      <td>1230</td>\n",
       "      <td>Central</td>\n",
       "      <td>192</td>\n",
       "      <td>41.0</td>\n",
       "      <td>Male</td>\n",
       "      <td>Unknown</td>\n",
       "      <td>STREET</td>\n",
       "      <td>GRAND                        AV</td>\n",
       "      <td>(34.0384, -118.2646)</td>\n",
       "    </tr>\n",
       "  </tbody>\n",
       "</table>\n",
       "</div>"
      ],
      "text/plain": [
       "         date  time         area  district  victim_age victim_sex victim_race  \\\n",
       "0  07/06/2019  2355  N Hollywood      1591        99.0       Male     Unknown   \n",
       "1  07/06/2019   500     Foothill      1677        45.0       Male       White   \n",
       "2  07/06/2019  1130  West Valley      1028        25.0       Male       Asian   \n",
       "3  07/06/2019  1415    Northeast      1153        29.0       Male     Unknown   \n",
       "4  07/06/2019  1230      Central       192        41.0       Male     Unknown   \n",
       "\n",
       "  premise                          address              location  \n",
       "0  STREET  GOODLAND                     AV  (34.1371, -118.4062)  \n",
       "1  STREET  GLENOAKS                     BL  (34.2249, -118.3617)  \n",
       "2  STREET  SHERMAN                      WY  (34.2012, -118.4989)  \n",
       "3  STREET  LOS FELIZ                    BL  (34.1081, -118.3078)  \n",
       "4  STREET  GRAND                        AV  (34.0384, -118.2646)  "
      ]
     },
     "execution_count": 307,
     "metadata": {},
     "output_type": "execute_result"
    }
   ],
   "source": [
    "#import modules for the analysis environment\n",
    "import os\n",
    "import matplotlib.pyplot as plta\n",
    "import pandas as pd\n",
    "import numpy as np\n",
    "import requests\n",
    "import datetime\n",
    "import ast\n",
    "import gmaps\n",
    "import datetime\n",
    "# from config import gkey\n",
    "\n",
    "#read cleaned csv file\n",
    "df = pd.read_csv(\"Data/clean_data/clean_data.csv\")\n",
    "df.head()"
   ]
  },
  {
   "cell_type": "code",
   "execution_count": 183,
   "metadata": {
    "scrolled": false
   },
   "outputs": [
    {
     "data": {
      "text/html": [
       "<div>\n",
       "<style scoped>\n",
       "    .dataframe tbody tr th:only-of-type {\n",
       "        vertical-align: middle;\n",
       "    }\n",
       "\n",
       "    .dataframe tbody tr th {\n",
       "        vertical-align: top;\n",
       "    }\n",
       "\n",
       "    .dataframe thead th {\n",
       "        text-align: right;\n",
       "    }\n",
       "</style>\n",
       "<table border=\"1\" class=\"dataframe\">\n",
       "  <thead>\n",
       "    <tr style=\"text-align: right;\">\n",
       "      <th></th>\n",
       "      <th>victim_race</th>\n",
       "    </tr>\n",
       "  </thead>\n",
       "  <tbody>\n",
       "    <tr>\n",
       "      <th>Hispanic</th>\n",
       "      <td>156131</td>\n",
       "    </tr>\n",
       "    <tr>\n",
       "      <th>White</th>\n",
       "      <td>101618</td>\n",
       "    </tr>\n",
       "    <tr>\n",
       "      <th>Unknown</th>\n",
       "      <td>60669</td>\n",
       "    </tr>\n",
       "    <tr>\n",
       "      <th>Black</th>\n",
       "      <td>58343</td>\n",
       "    </tr>\n",
       "    <tr>\n",
       "      <th>Asian</th>\n",
       "      <td>23383</td>\n",
       "    </tr>\n",
       "    <tr>\n",
       "      <th>Pacific Islander</th>\n",
       "      <td>442</td>\n",
       "    </tr>\n",
       "    <tr>\n",
       "      <th>American Indian</th>\n",
       "      <td>135</td>\n",
       "    </tr>\n",
       "  </tbody>\n",
       "</table>\n",
       "</div>"
      ],
      "text/plain": [
       "                  victim_race\n",
       "Hispanic               156131\n",
       "White                  101618\n",
       "Unknown                 60669\n",
       "Black                   58343\n",
       "Asian                   23383\n",
       "Pacific Islander          442\n",
       "American Indian           135"
      ]
     },
     "execution_count": 183,
     "metadata": {},
     "output_type": "execute_result"
    }
   ],
   "source": [
    "# Create DataFrame with the total counts of each ethnicity\n",
    "victim_race_counts = pd.DataFrame(df['victim_race'].value_counts())\n",
    "victim_race_counts"
   ]
  },
  {
   "cell_type": "code",
   "execution_count": 270,
   "metadata": {},
   "outputs": [
    {
     "data": {
      "text/html": [
       "<div>\n",
       "<style scoped>\n",
       "    .dataframe tbody tr th:only-of-type {\n",
       "        vertical-align: middle;\n",
       "    }\n",
       "\n",
       "    .dataframe tbody tr th {\n",
       "        vertical-align: top;\n",
       "    }\n",
       "\n",
       "    .dataframe thead th {\n",
       "        text-align: right;\n",
       "    }\n",
       "</style>\n",
       "<table border=\"1\" class=\"dataframe\">\n",
       "  <thead>\n",
       "    <tr style=\"text-align: right;\">\n",
       "      <th></th>\n",
       "      <th>victim_race</th>\n",
       "    </tr>\n",
       "  </thead>\n",
       "  <tbody>\n",
       "    <tr>\n",
       "      <th>Hispanic</th>\n",
       "      <td>156131</td>\n",
       "    </tr>\n",
       "    <tr>\n",
       "      <th>White</th>\n",
       "      <td>101618</td>\n",
       "    </tr>\n",
       "    <tr>\n",
       "      <th>Black</th>\n",
       "      <td>58343</td>\n",
       "    </tr>\n",
       "    <tr>\n",
       "      <th>Asian</th>\n",
       "      <td>23383</td>\n",
       "    </tr>\n",
       "    <tr>\n",
       "      <th>Pacific Islander</th>\n",
       "      <td>442</td>\n",
       "    </tr>\n",
       "    <tr>\n",
       "      <th>American Indian</th>\n",
       "      <td>135</td>\n",
       "    </tr>\n",
       "  </tbody>\n",
       "</table>\n",
       "</div>"
      ],
      "text/plain": [
       "                  victim_race\n",
       "Hispanic               156131\n",
       "White                  101618\n",
       "Black                   58343\n",
       "Asian                   23383\n",
       "Pacific Islander          442\n",
       "American Indian           135"
      ]
     },
     "execution_count": 270,
     "metadata": {},
     "output_type": "execute_result"
    }
   ],
   "source": [
    "# Remove Unknown victims from DataFrame\n",
    "updated_victim_race = victim_race_counts.loc[['Hispanic','White','Black',\n",
    "                                              'Asian','Pacific Islander','American Indian'],\n",
    "                                             ['victim_race']]\n",
    "updated_victim_race"
   ]
  },
  {
   "cell_type": "code",
   "execution_count": 271,
   "metadata": {},
   "outputs": [
    {
     "data": {
      "text/html": [
       "<div>\n",
       "<style scoped>\n",
       "    .dataframe tbody tr th:only-of-type {\n",
       "        vertical-align: middle;\n",
       "    }\n",
       "\n",
       "    .dataframe tbody tr th {\n",
       "        vertical-align: top;\n",
       "    }\n",
       "\n",
       "    .dataframe thead th {\n",
       "        text-align: right;\n",
       "    }\n",
       "</style>\n",
       "<table border=\"1\" class=\"dataframe\">\n",
       "  <thead>\n",
       "    <tr style=\"text-align: right;\">\n",
       "      <th></th>\n",
       "      <th>victim_race</th>\n",
       "      <th>crash_population</th>\n",
       "    </tr>\n",
       "  </thead>\n",
       "  <tbody>\n",
       "    <tr>\n",
       "      <th>Hispanic</th>\n",
       "      <td>156131</td>\n",
       "      <td>45.913860</td>\n",
       "    </tr>\n",
       "    <tr>\n",
       "      <th>White</th>\n",
       "      <td>101618</td>\n",
       "      <td>29.883077</td>\n",
       "    </tr>\n",
       "    <tr>\n",
       "      <th>Black</th>\n",
       "      <td>58343</td>\n",
       "      <td>17.157082</td>\n",
       "    </tr>\n",
       "    <tr>\n",
       "      <th>Asian</th>\n",
       "      <td>23383</td>\n",
       "      <td>6.876301</td>\n",
       "    </tr>\n",
       "    <tr>\n",
       "      <th>Pacific Islander</th>\n",
       "      <td>442</td>\n",
       "      <td>0.129980</td>\n",
       "    </tr>\n",
       "    <tr>\n",
       "      <th>American Indian</th>\n",
       "      <td>135</td>\n",
       "      <td>0.039700</td>\n",
       "    </tr>\n",
       "  </tbody>\n",
       "</table>\n",
       "</div>"
      ],
      "text/plain": [
       "                  victim_race  crash_population\n",
       "Hispanic               156131         45.913860\n",
       "White                  101618         29.883077\n",
       "Black                   58343         17.157082\n",
       "Asian                   23383          6.876301\n",
       "Pacific Islander          442          0.129980\n",
       "American Indian           135          0.039700"
      ]
     },
     "execution_count": 271,
     "metadata": {},
     "output_type": "execute_result"
    }
   ],
   "source": [
    "#Calculate the percentage of total crashes per ethinicity \n",
    "percent_victim_race = updated_victim_race[\"victim_race\"]/updated_victim_race[\"victim_race\"].sum()*100\n",
    "\n",
    "# Add a new colum display the calculated percentage\n",
    "updated_victim_race[\"crash_population\"] = percent_victim_race\n",
    "updated_victim_race"
   ]
  },
  {
   "cell_type": "code",
   "execution_count": 303,
   "metadata": {
    "scrolled": false
   },
   "outputs": [
    {
     "data": {
      "text/html": [
       "<div>\n",
       "<style scoped>\n",
       "    .dataframe tbody tr th:only-of-type {\n",
       "        vertical-align: middle;\n",
       "    }\n",
       "\n",
       "    .dataframe tbody tr th {\n",
       "        vertical-align: top;\n",
       "    }\n",
       "\n",
       "    .dataframe thead th {\n",
       "        text-align: right;\n",
       "    }\n",
       "</style>\n",
       "<table border=\"1\" class=\"dataframe\">\n",
       "  <thead>\n",
       "    <tr style=\"text-align: right;\">\n",
       "      <th></th>\n",
       "      <th>crash_population</th>\n",
       "    </tr>\n",
       "  </thead>\n",
       "  <tbody>\n",
       "    <tr>\n",
       "      <th>Hispanic</th>\n",
       "      <td>45.913860</td>\n",
       "    </tr>\n",
       "    <tr>\n",
       "      <th>White</th>\n",
       "      <td>29.883077</td>\n",
       "    </tr>\n",
       "    <tr>\n",
       "      <th>Black</th>\n",
       "      <td>17.157082</td>\n",
       "    </tr>\n",
       "    <tr>\n",
       "      <th>Asian</th>\n",
       "      <td>6.876301</td>\n",
       "    </tr>\n",
       "    <tr>\n",
       "      <th>Pacific Islander</th>\n",
       "      <td>0.129980</td>\n",
       "    </tr>\n",
       "    <tr>\n",
       "      <th>American Indian</th>\n",
       "      <td>0.039700</td>\n",
       "    </tr>\n",
       "  </tbody>\n",
       "</table>\n",
       "</div>"
      ],
      "text/plain": [
       "                  crash_population\n",
       "Hispanic                 45.913860\n",
       "White                    29.883077\n",
       "Black                    17.157082\n",
       "Asian                     6.876301\n",
       "Pacific Islander          0.129980\n",
       "American Indian           0.039700"
      ]
     },
     "execution_count": 303,
     "metadata": {},
     "output_type": "execute_result"
    }
   ],
   "source": [
    "# Display only the percentage of crashes per ethnicity\n",
    "pct_race_df = pd.DataFrame(updated_victim_race[\"crash_population\"])\n",
    "\n",
    "# Format percentage calculations with two digits and percentage sign\n",
    "# pct_race_df.style.format({\"crash_population\":\"{:,.2f}%\"})\n",
    "pct_race_df"
   ]
  },
  {
   "cell_type": "markdown",
   "metadata": {},
   "source": [
    "LA Population Composition by race\n",
    ">- Hispanic: 48.2%\n",
    "- White (non-hispanic): 28.5%\n",
    "- Black: 9.0%\n",
    "- Asian: 11.6%\n",
    "- Pacific Islander: 0.2%\n",
    "- American Indian: 0.4%\n",
    "- Other: 0.6%\n",
    "\n",
    "src: https://statisticalatlas.com/place/California/Los-Angeles/Race-and-Ethnicity "
   ]
  },
  {
   "cell_type": "code",
   "execution_count": 301,
   "metadata": {
    "scrolled": true
   },
   "outputs": [
    {
     "data": {
      "text/html": [
       "<style  type=\"text/css\" >\n",
       "</style><table id=\"T_a50f8ada_a785_11e9_b66b_38baf8974950\" ><thead>    <tr>        <th class=\"blank level0\" ></th>        <th class=\"col_heading level0 col0\" >crash_population</th>        <th class=\"col_heading level0 col1\" >LA_Population</th>    </tr></thead><tbody>\n",
       "                <tr>\n",
       "                        <th id=\"T_a50f8ada_a785_11e9_b66b_38baf8974950level0_row0\" class=\"row_heading level0 row0\" >Hispanic</th>\n",
       "                        <td id=\"T_a50f8ada_a785_11e9_b66b_38baf8974950row0_col0\" class=\"data row0 col0\" >45.91</td>\n",
       "                        <td id=\"T_a50f8ada_a785_11e9_b66b_38baf8974950row0_col1\" class=\"data row0 col1\" >48.2</td>\n",
       "            </tr>\n",
       "            <tr>\n",
       "                        <th id=\"T_a50f8ada_a785_11e9_b66b_38baf8974950level0_row1\" class=\"row_heading level0 row1\" >White</th>\n",
       "                        <td id=\"T_a50f8ada_a785_11e9_b66b_38baf8974950row1_col0\" class=\"data row1 col0\" >29.88</td>\n",
       "                        <td id=\"T_a50f8ada_a785_11e9_b66b_38baf8974950row1_col1\" class=\"data row1 col1\" >28.5</td>\n",
       "            </tr>\n",
       "            <tr>\n",
       "                        <th id=\"T_a50f8ada_a785_11e9_b66b_38baf8974950level0_row2\" class=\"row_heading level0 row2\" >Black</th>\n",
       "                        <td id=\"T_a50f8ada_a785_11e9_b66b_38baf8974950row2_col0\" class=\"data row2 col0\" >17.16</td>\n",
       "                        <td id=\"T_a50f8ada_a785_11e9_b66b_38baf8974950row2_col1\" class=\"data row2 col1\" >9.0</td>\n",
       "            </tr>\n",
       "            <tr>\n",
       "                        <th id=\"T_a50f8ada_a785_11e9_b66b_38baf8974950level0_row3\" class=\"row_heading level0 row3\" >Asian</th>\n",
       "                        <td id=\"T_a50f8ada_a785_11e9_b66b_38baf8974950row3_col0\" class=\"data row3 col0\" >6.88</td>\n",
       "                        <td id=\"T_a50f8ada_a785_11e9_b66b_38baf8974950row3_col1\" class=\"data row3 col1\" >11.6</td>\n",
       "            </tr>\n",
       "            <tr>\n",
       "                        <th id=\"T_a50f8ada_a785_11e9_b66b_38baf8974950level0_row4\" class=\"row_heading level0 row4\" >Pacific Islander</th>\n",
       "                        <td id=\"T_a50f8ada_a785_11e9_b66b_38baf8974950row4_col0\" class=\"data row4 col0\" >0.13</td>\n",
       "                        <td id=\"T_a50f8ada_a785_11e9_b66b_38baf8974950row4_col1\" class=\"data row4 col1\" >0.2</td>\n",
       "            </tr>\n",
       "            <tr>\n",
       "                        <th id=\"T_a50f8ada_a785_11e9_b66b_38baf8974950level0_row5\" class=\"row_heading level0 row5\" >American Indian</th>\n",
       "                        <td id=\"T_a50f8ada_a785_11e9_b66b_38baf8974950row5_col0\" class=\"data row5 col0\" >0.04</td>\n",
       "                        <td id=\"T_a50f8ada_a785_11e9_b66b_38baf8974950row5_col1\" class=\"data row5 col1\" >0.4</td>\n",
       "            </tr>\n",
       "    </tbody></table>"
      ],
      "text/plain": [
       "<pandas.io.formats.style.Styler at 0x220b0eb30b8>"
      ]
     },
     "execution_count": 301,
     "metadata": {},
     "output_type": "execute_result"
    }
   ],
   "source": [
    "ethn_dict = {\"Hispanic\":\"48.2\", \n",
    "             \"White\":\"28.5\", \n",
    "             \"Black\":\"9.0\", \n",
    "             \"Asian\":\"11.6\", \n",
    "             \"Pacific Islander\":\"0.2\", \n",
    "             \"American Indian\":\"0.4\"}\n",
    "\n",
    "pct_race_df[\"LA_Population\"] = pd.Series(ethn_dict)\n",
    "multibar = pct_race_df.style.format({\"crash_population\":\"{:,.2f}\"})\n",
    "multibar"
   ]
  },
  {
   "cell_type": "code",
   "execution_count": 375,
   "metadata": {
    "scrolled": true
   },
   "outputs": [
    {
     "data": {
      "text/html": [
       "<div>\n",
       "<style scoped>\n",
       "    .dataframe tbody tr th:only-of-type {\n",
       "        vertical-align: middle;\n",
       "    }\n",
       "\n",
       "    .dataframe tbody tr th {\n",
       "        vertical-align: top;\n",
       "    }\n",
       "\n",
       "    .dataframe thead th {\n",
       "        text-align: right;\n",
       "    }\n",
       "</style>\n",
       "<table border=\"1\" class=\"dataframe\">\n",
       "  <thead>\n",
       "    <tr style=\"text-align: right;\">\n",
       "      <th></th>\n",
       "      <th>crash_population</th>\n",
       "    </tr>\n",
       "  </thead>\n",
       "  <tbody>\n",
       "    <tr>\n",
       "      <th>Hispanic</th>\n",
       "      <td>45.913860</td>\n",
       "    </tr>\n",
       "    <tr>\n",
       "      <th>White</th>\n",
       "      <td>29.883077</td>\n",
       "    </tr>\n",
       "    <tr>\n",
       "      <th>Black</th>\n",
       "      <td>17.157082</td>\n",
       "    </tr>\n",
       "    <tr>\n",
       "      <th>Asian</th>\n",
       "      <td>6.876301</td>\n",
       "    </tr>\n",
       "    <tr>\n",
       "      <th>Pacific Islander</th>\n",
       "      <td>0.129980</td>\n",
       "    </tr>\n",
       "    <tr>\n",
       "      <th>American Indian</th>\n",
       "      <td>0.039700</td>\n",
       "    </tr>\n",
       "  </tbody>\n",
       "</table>\n",
       "</div>"
      ],
      "text/plain": [
       "                  crash_population\n",
       "Hispanic                 45.913860\n",
       "White                    29.883077\n",
       "Black                    17.157082\n",
       "Asian                     6.876301\n",
       "Pacific Islander          0.129980\n",
       "American Indian           0.039700"
      ]
     },
     "execution_count": 375,
     "metadata": {},
     "output_type": "execute_result"
    }
   ],
   "source": [
    "pct_race_df"
   ]
  },
  {
   "cell_type": "code",
   "execution_count": 376,
   "metadata": {},
   "outputs": [
    {
     "data": {
      "text/html": [
       "<style  type=\"text/css\" >\n",
       "</style><table id=\"T_cba6abb4_a793_11e9_9607_38baf8974950\" ><thead>    <tr>        <th class=\"blank level0\" ></th>        <th class=\"col_heading level0 col0\" >crash_population</th>        <th class=\"col_heading level0 col1\" >LA_Population</th>    </tr></thead><tbody>\n",
       "                <tr>\n",
       "                        <th id=\"T_cba6abb4_a793_11e9_9607_38baf8974950level0_row0\" class=\"row_heading level0 row0\" >Hispanic</th>\n",
       "                        <td id=\"T_cba6abb4_a793_11e9_9607_38baf8974950row0_col0\" class=\"data row0 col0\" >45.91</td>\n",
       "                        <td id=\"T_cba6abb4_a793_11e9_9607_38baf8974950row0_col1\" class=\"data row0 col1\" >48.2</td>\n",
       "            </tr>\n",
       "            <tr>\n",
       "                        <th id=\"T_cba6abb4_a793_11e9_9607_38baf8974950level0_row1\" class=\"row_heading level0 row1\" >White</th>\n",
       "                        <td id=\"T_cba6abb4_a793_11e9_9607_38baf8974950row1_col0\" class=\"data row1 col0\" >29.88</td>\n",
       "                        <td id=\"T_cba6abb4_a793_11e9_9607_38baf8974950row1_col1\" class=\"data row1 col1\" >28.5</td>\n",
       "            </tr>\n",
       "            <tr>\n",
       "                        <th id=\"T_cba6abb4_a793_11e9_9607_38baf8974950level0_row2\" class=\"row_heading level0 row2\" >Black</th>\n",
       "                        <td id=\"T_cba6abb4_a793_11e9_9607_38baf8974950row2_col0\" class=\"data row2 col0\" >17.16</td>\n",
       "                        <td id=\"T_cba6abb4_a793_11e9_9607_38baf8974950row2_col1\" class=\"data row2 col1\" >9.0</td>\n",
       "            </tr>\n",
       "            <tr>\n",
       "                        <th id=\"T_cba6abb4_a793_11e9_9607_38baf8974950level0_row3\" class=\"row_heading level0 row3\" >Asian</th>\n",
       "                        <td id=\"T_cba6abb4_a793_11e9_9607_38baf8974950row3_col0\" class=\"data row3 col0\" >6.88</td>\n",
       "                        <td id=\"T_cba6abb4_a793_11e9_9607_38baf8974950row3_col1\" class=\"data row3 col1\" >11.6</td>\n",
       "            </tr>\n",
       "            <tr>\n",
       "                        <th id=\"T_cba6abb4_a793_11e9_9607_38baf8974950level0_row4\" class=\"row_heading level0 row4\" >Pacific Islander</th>\n",
       "                        <td id=\"T_cba6abb4_a793_11e9_9607_38baf8974950row4_col0\" class=\"data row4 col0\" >0.13</td>\n",
       "                        <td id=\"T_cba6abb4_a793_11e9_9607_38baf8974950row4_col1\" class=\"data row4 col1\" >0.2</td>\n",
       "            </tr>\n",
       "            <tr>\n",
       "                        <th id=\"T_cba6abb4_a793_11e9_9607_38baf8974950level0_row5\" class=\"row_heading level0 row5\" >American Indian</th>\n",
       "                        <td id=\"T_cba6abb4_a793_11e9_9607_38baf8974950row5_col0\" class=\"data row5 col0\" >0.04</td>\n",
       "                        <td id=\"T_cba6abb4_a793_11e9_9607_38baf8974950row5_col1\" class=\"data row5 col1\" >0.4</td>\n",
       "            </tr>\n",
       "    </tbody></table>"
      ],
      "text/plain": [
       "<pandas.io.formats.style.Styler at 0x220b0eb30b8>"
      ]
     },
     "execution_count": 376,
     "metadata": {},
     "output_type": "execute_result"
    }
   ],
   "source": [
    "la_population = multibar[[\"LA_Population\"]]"
   ]
  },
  {
   "cell_type": "code",
   "execution_count": 386,
   "metadata": {},
   "outputs": [
    {
     "ename": "TypeError",
     "evalue": "'Styler' object is not subscriptable",
     "output_type": "error",
     "traceback": [
      "\u001b[1;31m---------------------------------------------------------------------------\u001b[0m",
      "\u001b[1;31mTypeError\u001b[0m                                 Traceback (most recent call last)",
      "\u001b[1;32m<ipython-input-386-6a13ff788463>\u001b[0m in \u001b[0;36m<module>\u001b[1;34m\u001b[0m\n\u001b[1;32m----> 1\u001b[1;33m \u001b[0mpd\u001b[0m\u001b[1;33m.\u001b[0m\u001b[0mDataFrame\u001b[0m\u001b[1;33m(\u001b[0m\u001b[0mmultibar\u001b[0m\u001b[1;33m[\u001b[0m\u001b[1;34m\"LA_Population\"\u001b[0m\u001b[1;33m]\u001b[0m\u001b[1;33m)\u001b[0m\u001b[1;33m\u001b[0m\u001b[1;33m\u001b[0m\u001b[0m\n\u001b[0m",
      "\u001b[1;31mTypeError\u001b[0m: 'Styler' object is not subscriptable"
     ]
    }
   ],
   "source": [
    "pd.DataFrame(multibar[\"LA_Population\"])"
   ]
  },
  {
   "cell_type": "code",
   "execution_count": 388,
   "metadata": {},
   "outputs": [
    {
     "data": {
      "image/png": "[encoded data removed]",
      "text/plain": [
       "<Figure size 432x288 with 1 Axes>"
      ]
     },
     "metadata": {
      "needs_background": "light"
     },
     "output_type": "display_data"
    }
   ],
   "source": [
    "xaxis = (\"H\", \"W\", \"B\", \"A\", \"P\", \"I\")\n",
    "crash_pop = (45.91, 29.88, 17.16, 6.88, 0.13, .04)\n",
    "la_pop = (48.2, 28.5, 9, 11.6, .2, .4)\n",
    "\n",
    "ind = np.arange(len(xaxis))\n",
    "width = 0.35\n",
    "\n",
    "plta.bar(ind - width/2, crash_pop, width, color=\"black\", label=\"Crash Population\")\n",
    "plta.bar(ind + width/2, la_pop, width, color=\"b\", label=\"LA Population\")\n",
    "\n",
    "plta.title(\"Ethnicity by Victim Crash and LA Population\")\n",
    "plta.ylabel(\"Population %\")\n",
    "\n",
    "plta.xticks(ind + width/2, (\"Hispanic\", \"White\", \"Black\", \"Asian\", \"Pacific Islander\", \"American Indian\"), rotation = 40)\n",
    "plta.legend(loc=\"best\")\n",
    "plta.show()\n"
   ]
  },
  {
   "cell_type": "code",
   "execution_count": 369,
   "metadata": {},
   "outputs": [
    {
     "data": {
      "image/png": "[encoded data removed]",
      "text/plain": [
       "<Figure size 432x288 with 1 Axes>"
      ]
     },
     "metadata": {
      "needs_background": "light"
     },
     "output_type": "display_data"
    }
   ],
   "source": [
    "xaxis = (\"H\", \"W\", \"B\", \"A\", \"P\", \"I\")\n",
    "crash_pop = (45.91, 29.88, 17.16, 6.88, 0.13, .04)\n",
    "la_pop = (48.2, 28.5, 9, 11.6, .2, .4)\n",
    "\n",
    "ind = np.arange(len(xaxis))\n",
    "width = 0.35\n",
    "\n",
    "plta.bar(ind - width/2, crash_pop, width, color=\"black\", label=\"Crash Population\")\n",
    "plta.bar(ind + width/2, la_pop, width, color=\"b\", label=\"LA Population\")\n",
    "\n",
    "plta.title(\"Ethnicity by Victim Crash and LA Population\")\n",
    "plta.ylabel(\"Population %\")\n",
    "\n",
    "plta.xticks(ind + width/20, (\"Hispanic\", \"White\", \"Black\", \"Asian\", \"Pacific Islander\", \"American Indian\"), rotation = 40)\n",
    "plta.legend(loc=\"best\")\n",
    "\n",
    "# Use functions to label the percentages of changes\n",
    "def autolabel(bars):\n",
    "    for bar in bars:\n",
    "        height = bar.get_height()\n",
    "            label_position = 60\n",
    "        else:\n",
    "            label_position = -7\n",
    "        plt.text(bar.get_x() + bar.get_width()/2., \n",
    "                 label_position,\n",
    "                 \"%d\" % int(height)+\"%\",\n",
    "                 color='white',\n",
    "                 ha=\"center\",va=\"bottom\")\n",
    "\n",
    "# Call functions to implement the function calls\n",
    "autolabel(change_bar)\n",
    "\n",
    "rects = fig.patches\n",
    "labels=race_data.victim_race.tolist()\n",
    "sum_labels = sum(labels)\n",
    "perc_labels = [round(i/sum_labels*100,2) for i in labels]\n",
    "perc_labels = ['{:,.2f}%'.format(i) for i in perc_labels]\n",
    "for rect,label in zip(rects,perc_labels):\n",
    "      fig.text(rect.get_x()+rect.get_width()/2,rect.get_height(),label,ha='center',va=\n",
    "              'bottom')\n",
    "fig.spines['right'].set_visible(False)\n",
    "fig.spines['top'].set_visible(False)\n",
    "fig.spines['left'].set_visible(False)\n",
    "fig.tick_params(axis='x', rotation=40)\n",
    "plta.show()\n"
   ]
  },
  {
   "cell_type": "code",
   "execution_count": 372,
   "metadata": {},
   "outputs": [
    {
     "data": {
      "image/png": "[encoded data removed]",
      "text/plain": [
       "<Figure size 432x288 with 1 Axes>"
      ]
     },
     "metadata": {
      "needs_background": "light"
     },
     "output_type": "display_data"
    }
   ],
   "source": [
    "#get an overview of victim in race distribution\n",
    "df['victim_race'].value_counts()\n",
    "#bar graph\n",
    "race_data = pd.DataFrame(df['victim_race'].value_counts())\n",
    "fig = race_data.plot(kind='bar',color='black')\n",
    "fig.set_xlabel('Ethnicity')\n",
    "fig.set_yticks([])\n",
    "fig.set_title('Collision By Ethnicity')\n",
    "rects = fig.patches\n",
    "labels=race_data.victim_race.tolist()\n",
    "sum_labels = sum(labels)\n",
    "perc_labels = [round(i/sum_labels*100,2) for i in labels]\n",
    "perc_labels = ['{:,.2f}%'.format(i) for i in perc_labels]\n",
    "for rect,label in zip(rects,perc_labels):\n",
    "      fig.text(rect.get_x()+rect.get_width()/2,rect.get_height(),label,ha='center',va=\n",
    "              'bottom')\n",
    "fig.spines['right'].set_visible(False)\n",
    "fig.spines['top'].set_visible(False)\n",
    "fig.spines['left'].set_visible(False)\n",
    "fig.tick_params(axis='x', rotation=40)\n",
    "#export\n",
    "plta.tight_layout()\n",
    "plta.savefig(os.path.join(\"figures\",\"collision_by_ethnicity.png\"))"
   ]
  },
  {
   "cell_type": "code",
   "execution_count": 285,
   "metadata": {},
   "outputs": [
    {
     "data": {
      "image/png": "[encoded data removed]",
      "text/plain": [
       "<Figure size 432x288 with 1 Axes>"
      ]
     },
     "metadata": {
      "needs_background": "light"
     },
     "output_type": "display_data"
    }
   ],
   "source": [
    "fig = pct_race_df.plot(kind=\"bar\", color=\"black\")\n",
    "indices = [\"Hispanic\", \"White\", \"Black\", \"Asian\", \"Pacific Islander\", \"American Indian\"]\n",
    "crash_population = pct_race_df[\"crash_population\"]\n",
    "LA_population = pct_race_df[\"LA_population\"]\n",
    "\n",
    "ax.bar()\n",
    "fig.set_ylabel(\"victim_race\")\n",
    "fig.set_xlabel(\"Ethnicity\")\n",
    "fig.xticks = (\"crash_population\", \"LA_population\")"
   ]
  },
  {
   "cell_type": "code",
   "execution_count": 89,
   "metadata": {},
   "outputs": [
    {
     "data": {
      "image/png": "[encoded data removed]",
      "text/plain": [
       "<Figure size 432x288 with 1 Axes>"
      ]
     },
     "metadata": {
      "needs_background": "light"
     },
     "output_type": "display_data"
    }
   ],
   "source": [
    "#get an overview of victim in race distribution\n",
    "df[\"victim_race\"].value_counts()\n",
    "#bar graph\n",
    "race_data = pd.DataFrame(df[\"victim_race\"].value_counts())\n",
    "fig = race_data.plot(kind=\"bar\", color=\"black\")\n",
    "fig.set_xlabel('Ethnicity')\n",
    "fig.set_title('Collision Per Ethnicity')\n",
    "labels=race_data.victim_race.tolist()\n",
    "sum_labels = sum(labels)\n",
    "perc_labels = [round(i/sum_labels*100,2) for i in labels]\n",
    "perc_labels = ['{:,.2f}%'.format(i) for i in perc_labels]\n"
   ]
  },
  {
   "cell_type": "markdown",
   "metadata": {},
   "source": [
    "## Do Asian Crash More Than Average?"
   ]
  },
  {
   "cell_type": "code",
   "execution_count": 6,
   "metadata": {},
   "outputs": [
    {
     "data": {
      "text/plain": [
       "Text(0.5, 1.0, 'Collision Per Ethnicity')"
      ]
     },
     "execution_count": 6,
     "metadata": {},
     "output_type": "execute_result"
    },
    {
     "data": {
      "image/png": "[encoded data removed]",
      "text/plain": [
       "<Figure size 432x288 with 1 Axes>"
      ]
     },
     "metadata": {
      "needs_background": "light"
     },
     "output_type": "display_data"
    }
   ],
   "source": [
    "#get an overview of victim in race distribution\n",
    "df[\"victim_race\"].value_counts()\n",
    "#bar graph\n",
    "race_data = pd.DataFrame(df[\"victim_race\"].value_counts())\n",
    "fig = race_data.plot(kind=\"bar\", color=\"black\")\n",
    "fig.set_xlabel('Ethnicity')\n",
    "fig.set_title('Collision Per Ethnicity')\n",
    "labels=race_data.victim_race.tolist()\n",
    "sum_labels = sum(labels)\n",
    "perc_labels = [round(i/sum_labels*100,2) for i in labels]\n",
    "perc_labels = ['{:,.2f}%'.format(i) for i in perc_labels]\n"
   ]
  },
  {
   "cell_type": "markdown",
   "metadata": {},
   "source": [
    "## How Many Car Accidents Per Month?"
   ]
  },
  {
   "cell_type": "code",
   "execution_count": 162,
   "metadata": {},
   "outputs": [
    {
     "data": {
      "image/png": "[encoded data removed]",
      "text/plain": [
       "<Figure size 432x288 with 1 Axes>"
      ]
     },
     "metadata": {
      "needs_background": "light"
     },
     "output_type": "display_data"
    }
   ],
   "source": [
    "df1= df.copy()\n",
    "# #map the month column to make it look neat\n",
    "month_description = {1:'January', 2:'February', 3:'Unknown',4:'April', 5:'May', 6:'June',\n",
    "                      7:'July', 8:'August', 9:'September',10:'October', 11:'November', 12:'December'}\n",
    "df1.month = df.month.map(month_description)\n",
    "df1.head()\n",
    "\n",
    "month_data = pd.DataFrame(df.month.value_counts())\n",
    "month_data= month_data.sort_index()\n",
    "fig_month = month_data.plot(kind='bar')"
   ]
  },
  {
   "cell_type": "markdown",
   "metadata": {},
   "source": [
    "## Calendar Heatmap"
   ]
  },
  {
   "cell_type": "markdown",
   "metadata": {},
   "source": [
    "## Google Heatmap"
   ]
  },
  {
   "cell_type": "code",
   "execution_count": 86,
   "metadata": {},
   "outputs": [
    {
     "name": "stdout",
     "output_type": "stream",
     "text": [
      "Requirement already satisfied: gmaps in c:\\users\\shan\\anaconda3\\lib\\site-packages (0.8.4)\n",
      "Requirement already satisfied: ipython>=5.3.0 in c:\\users\\shan\\anaconda3\\lib\\site-packages (from gmaps) (7.4.0)\n",
      "Requirement already satisfied: traitlets>=4.3.0 in c:\\users\\shan\\anaconda3\\lib\\site-packages (from gmaps) (4.3.2)\n",
      "Requirement already satisfied: six in c:\\users\\shan\\anaconda3\\lib\\site-packages (from gmaps) (1.12.0)\n",
      "Requirement already satisfied: ipywidgets>=7.0.0 in c:\\users\\shan\\anaconda3\\lib\\site-packages (from gmaps) (7.4.2)\n",
      "Requirement already satisfied: geojson>=2.0.0 in c:\\users\\shan\\anaconda3\\lib\\site-packages (from gmaps) (2.4.1)\n",
      "Requirement already satisfied: pygments in c:\\users\\shan\\anaconda3\\lib\\site-packages (from ipython>=5.3.0->gmaps) (2.3.1)\n",
      "Requirement already satisfied: backcall in c:\\users\\shan\\anaconda3\\lib\\site-packages (from ipython>=5.3.0->gmaps) (0.1.0)\n",
      "Requirement already satisfied: colorama; sys_platform == \"win32\" in c:\\users\\shan\\anaconda3\\lib\\site-packages (from ipython>=5.3.0->gmaps) (0.4.1)\n",
      "Requirement already satisfied: prompt-toolkit<2.1.0,>=2.0.0 in c:\\users\\shan\\anaconda3\\lib\\site-packages (from ipython>=5.3.0->gmaps) (2.0.9)\n",
      "Requirement already satisfied: pickleshare in c:\\users\\shan\\anaconda3\\lib\\site-packages (from ipython>=5.3.0->gmaps) (0.7.5)\n",
      "Requirement already satisfied: setuptools>=18.5 in c:\\users\\shan\\anaconda3\\lib\\site-packages (from ipython>=5.3.0->gmaps) (40.8.0)\n",
      "Requirement already satisfied: jedi>=0.10 in c:\\users\\shan\\anaconda3\\lib\\site-packages (from ipython>=5.3.0->gmaps) (0.13.3)\n",
      "Requirement already satisfied: decorator in c:\\users\\shan\\anaconda3\\lib\\site-packages (from ipython>=5.3.0->gmaps) (4.4.0)\n",
      "Requirement already satisfied: ipython-genutils in c:\\users\\shan\\anaconda3\\lib\\site-packages (from traitlets>=4.3.0->gmaps) (0.2.0)\n",
      "Requirement already satisfied: nbformat>=4.2.0 in c:\\users\\shan\\anaconda3\\lib\\site-packages (from ipywidgets>=7.0.0->gmaps) (4.4.0)\n",
      "Requirement already satisfied: ipykernel>=4.5.1 in c:\\users\\shan\\anaconda3\\lib\\site-packages (from ipywidgets>=7.0.0->gmaps) (5.1.0)\n",
      "Requirement already satisfied: widgetsnbextension~=3.4.0 in c:\\users\\shan\\anaconda3\\lib\\site-packages (from ipywidgets>=7.0.0->gmaps) (3.4.2)\n",
      "Requirement already satisfied: wcwidth in c:\\users\\shan\\anaconda3\\lib\\site-packages (from prompt-toolkit<2.1.0,>=2.0.0->ipython>=5.3.0->gmaps) (0.1.7)\n",
      "Requirement already satisfied: parso>=0.3.0 in c:\\users\\shan\\anaconda3\\lib\\site-packages (from jedi>=0.10->ipython>=5.3.0->gmaps) (0.3.4)\n",
      "Requirement already satisfied: jsonschema!=2.5.0,>=2.4 in c:\\users\\shan\\anaconda3\\lib\\site-packages (from nbformat>=4.2.0->ipywidgets>=7.0.0->gmaps) (3.0.1)\n",
      "Requirement already satisfied: jupyter-core in c:\\users\\shan\\anaconda3\\lib\\site-packages (from nbformat>=4.2.0->ipywidgets>=7.0.0->gmaps) (4.4.0)\n",
      "Requirement already satisfied: tornado>=4.2 in c:\\users\\shan\\anaconda3\\lib\\site-packages (from ipykernel>=4.5.1->ipywidgets>=7.0.0->gmaps) (6.0.2)\n",
      "Requirement already satisfied: jupyter-client in c:\\users\\shan\\anaconda3\\lib\\site-packages (from ipykernel>=4.5.1->ipywidgets>=7.0.0->gmaps) (5.2.4)\n",
      "Requirement already satisfied: notebook>=4.4.1 in c:\\users\\shan\\anaconda3\\lib\\site-packages (from widgetsnbextension~=3.4.0->ipywidgets>=7.0.0->gmaps) (5.7.8)\n",
      "Requirement already satisfied: attrs>=17.4.0 in c:\\users\\shan\\anaconda3\\lib\\site-packages (from jsonschema!=2.5.0,>=2.4->nbformat>=4.2.0->ipywidgets>=7.0.0->gmaps) (19.1.0)\n",
      "Requirement already satisfied: pyrsistent>=0.14.0 in c:\\users\\shan\\anaconda3\\lib\\site-packages (from jsonschema!=2.5.0,>=2.4->nbformat>=4.2.0->ipywidgets>=7.0.0->gmaps) (0.14.11)\n",
      "Requirement already satisfied: python-dateutil>=2.1 in c:\\users\\shan\\anaconda3\\lib\\site-packages (from jupyter-client->ipykernel>=4.5.1->ipywidgets>=7.0.0->gmaps) (2.8.0)\n",
      "Requirement already satisfied: pyzmq>=13 in c:\\users\\shan\\anaconda3\\lib\\site-packages (from jupyter-client->ipykernel>=4.5.1->ipywidgets>=7.0.0->gmaps) (18.0.0)\n",
      "Requirement already satisfied: terminado>=0.8.1 in c:\\users\\shan\\anaconda3\\lib\\site-packages (from notebook>=4.4.1->widgetsnbextension~=3.4.0->ipywidgets>=7.0.0->gmaps) (0.8.1)\n",
      "Requirement already satisfied: jinja2 in c:\\users\\shan\\anaconda3\\lib\\site-packages (from notebook>=4.4.1->widgetsnbextension~=3.4.0->ipywidgets>=7.0.0->gmaps) (2.10)\n",
      "Requirement already satisfied: Send2Trash in c:\\users\\shan\\anaconda3\\lib\\site-packages (from notebook>=4.4.1->widgetsnbextension~=3.4.0->ipywidgets>=7.0.0->gmaps) (1.5.0)\n",
      "Requirement already satisfied: nbconvert in c:\\users\\shan\\anaconda3\\lib\\site-packages (from notebook>=4.4.1->widgetsnbextension~=3.4.0->ipywidgets>=7.0.0->gmaps) (5.4.1)\n",
      "Requirement already satisfied: prometheus-client in c:\\users\\shan\\anaconda3\\lib\\site-packages (from notebook>=4.4.1->widgetsnbextension~=3.4.0->ipywidgets>=7.0.0->gmaps) (0.6.0)\n",
      "Requirement already satisfied: MarkupSafe>=0.23 in c:\\users\\shan\\anaconda3\\lib\\site-packages (from jinja2->notebook>=4.4.1->widgetsnbextension~=3.4.0->ipywidgets>=7.0.0->gmaps) (1.1.1)\n",
      "Requirement already satisfied: mistune>=0.8.1 in c:\\users\\shan\\anaconda3\\lib\\site-packages (from nbconvert->notebook>=4.4.1->widgetsnbextension~=3.4.0->ipywidgets>=7.0.0->gmaps) (0.8.4)\n",
      "Requirement already satisfied: entrypoints>=0.2.2 in c:\\users\\shan\\anaconda3\\lib\\site-packages (from nbconvert->notebook>=4.4.1->widgetsnbextension~=3.4.0->ipywidgets>=7.0.0->gmaps) (0.3)\n",
      "Requirement already satisfied: bleach in c:\\users\\shan\\anaconda3\\lib\\site-packages (from nbconvert->notebook>=4.4.1->widgetsnbextension~=3.4.0->ipywidgets>=7.0.0->gmaps) (3.1.0)\n",
      "Requirement already satisfied: pandocfilters>=1.4.1 in c:\\users\\shan\\anaconda3\\lib\\site-packages (from nbconvert->notebook>=4.4.1->widgetsnbextension~=3.4.0->ipywidgets>=7.0.0->gmaps) (1.4.2)\n",
      "Requirement already satisfied: testpath in c:\\users\\shan\\anaconda3\\lib\\site-packages (from nbconvert->notebook>=4.4.1->widgetsnbextension~=3.4.0->ipywidgets>=7.0.0->gmaps) (0.4.2)\n",
      "Requirement already satisfied: defusedxml in c:\\users\\shan\\anaconda3\\lib\\site-packages (from nbconvert->notebook>=4.4.1->widgetsnbextension~=3.4.0->ipywidgets>=7.0.0->gmaps) (0.5.0)\n",
      "Requirement already satisfied: webencodings in c:\\users\\shan\\anaconda3\\lib\\site-packages (from bleach->nbconvert->notebook>=4.4.1->widgetsnbextension~=3.4.0->ipywidgets>=7.0.0->gmaps) (0.5.1)\n"
     ]
    }
   ],
   "source": [
    "!pip install gmaps"
   ]
  },
  {
   "cell_type": "code",
   "execution_count": 92,
   "metadata": {},
   "outputs": [
    {
     "data": {
      "application/vnd.jupyter.widget-view+json": {
       "model_id": "f23b2fa4c44849e383bc259fcc50652c",
       "version_major": 2,
       "version_minor": 0
      },
      "text/plain": [
       "Figure(layout=FigureLayout(height='420px'))"
      ]
     },
     "metadata": {},
     "output_type": "display_data"
    }
   ],
   "source": [
    "# gmaps.configure(api_key=gkey)\n",
    "# location = df[['lat','lon']].astype(float)\n",
    "# fig = gmaps.figure()\n",
    "\n",
    "# layer = gmaps.symbol_layer(\n",
    "#     location, fill_color='rgba(0, 150, 0, 0.4)',\n",
    "#     stroke_color='rgba(0, 0, 150, 0.4)', scale=2)\n",
    "\n",
    "# fig.add_layer(layer)\n",
    "# fig"
   ]
  },
  {
   "cell_type": "markdown",
   "metadata": {},
   "source": [
    "## Age mean per Ethnicity"
   ]
  },
  {
   "cell_type": "code",
   "execution_count": null,
   "metadata": {},
   "outputs": [],
   "source": []
  }
 ],
 "metadata": {
  "celltoolbar": "Slideshow",
  "kernelspec": {
   "display_name": "Python 3",
   "language": "python",
   "name": "python3"
  },
  "language_info": {
   "codemirror_mode": {
    "name": "ipython",
    "version": 3
   },
   "file_extension": ".py",
   "mimetype": "text/x-python",
   "name": "python",
   "nbconvert_exporter": "python",
   "pygments_lexer": "ipython3",
   "version": "3.7.3"
  }
 },
 "nbformat": 4,
 "nbformat_minor": 2
}
