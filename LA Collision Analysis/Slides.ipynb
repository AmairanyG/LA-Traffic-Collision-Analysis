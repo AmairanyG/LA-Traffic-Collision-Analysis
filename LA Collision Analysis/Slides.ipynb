{
 "cells": [
  {
   "cell_type": "markdown",
   "metadata": {
    "slideshow": {
     "slide_type": "slide"
    }
   },
   "source": [
    "<center>\n",
    "<h1> LA Traffic Collision Analysis </h1>\n",
    "    \n",
    "<img src=\"figures\\Swift%20Sloth%20Logo.png\" width=600 height=500 align=\"center\"/>\n",
    "    \n",
    "<h2> By </h2>\n",
    "<h3> Amairani Garcia </h3>\n",
    "<h3> Christian Bourdeau </h3>\n",
    "<h3> Shan Huang </h3>\n",
    "</center>"
   ]
  },
  {
   "cell_type": "markdown",
   "metadata": {
    "slideshow": {
     "slide_type": "slide"
    }
   },
   "source": [
    "<center>\n",
    "<h1> Accidents By Weekday </h1>\n",
    "    \n",
    "<img src=\"figures\\collision_weekday_distribution.png\" width=1000 height=500 align=\"center\"/>\n",
    "bla\n",
    "\n",
    "</center>"
   ]
  },
  {
   "cell_type": "markdown",
   "metadata": {
    "slideshow": {
     "slide_type": "slide"
    }
   },
   "source": [
    "<center>\n",
    "<h1> Accidents By Month </h1>\n",
    "    \n",
    "<img src=\"figures\\collision_month_distribution.png\" width=1000 height=500 align=\"center\"/>\n",
    "bla\n",
    "\n",
    "</center>\n"
   ]
  },
  {
   "cell_type": "markdown",
   "metadata": {
    "slideshow": {
     "slide_type": "slide"
    }
   },
   "source": [
    "<center>\n",
    "<h1> Accidents By Ethnicity </h1>\n",
    "    \n",
    "<img src=\"figures\\collision_per_ethnicity.png\" width=1000 height=500 align=\"center\"/>\n",
    "bla\n",
    "\n",
    "</center>"
   ]
  },
  {
   "cell_type": "markdown",
   "metadata": {
    "slideshow": {
     "slide_type": "slide"
    }
   },
   "source": [
    "<center>\n",
    "<h1> Accidents Frequency Heatmap </h1>\n",
    "    \n",
    "<img src=\"figures\\collision_heatmap_count.png\" width=700 height=500 align=\"center\"/>\n",
    "bla\n",
    "\n",
    "</center>"
   ]
  },
  {
   "cell_type": "markdown",
   "metadata": {
    "slideshow": {
     "slide_type": "subslide"
    }
   },
   "source": [
    "<center>\n",
    "<h1> Accidents Frequency Heatmap </h1>\n",
    "    \n",
    "<img src=\"figures\\collision_heatmap_percentage.png\" width=700 height=500 align=\"center\"/>\n",
    "bla\n",
    "\n",
    "</center>"
   ]
  }
 ],
 "metadata": {
  "celltoolbar": "Slideshow",
  "kernelspec": {
   "display_name": "Python 3",
   "language": "python",
   "name": "python3"
  },
  "language_info": {
   "codemirror_mode": {
    "name": "ipython",
    "version": 3
   },
   "file_extension": ".py",
   "mimetype": "text/x-python",
   "name": "python",
   "nbconvert_exporter": "python",
   "pygments_lexer": "ipython3",
   "version": "3.7.3"
  }
 },
 "nbformat": 4,
 "nbformat_minor": 2
}
