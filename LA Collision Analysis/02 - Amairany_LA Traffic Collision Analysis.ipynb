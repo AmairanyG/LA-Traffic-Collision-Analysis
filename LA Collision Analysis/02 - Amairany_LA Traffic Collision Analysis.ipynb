{
 "cells": [
  {
   "cell_type": "code",
   "execution_count": 182,
   "metadata": {
    "scrolled": false
   },
   "outputs": [
    {
     "data": {
      "text/html": [
       "<div>\n",
       "<style scoped>\n",
       "    .dataframe tbody tr th:only-of-type {\n",
       "        vertical-align: middle;\n",
       "    }\n",
       "\n",
       "    .dataframe tbody tr th {\n",
       "        vertical-align: top;\n",
       "    }\n",
       "\n",
       "    .dataframe thead th {\n",
       "        text-align: right;\n",
       "    }\n",
       "</style>\n",
       "<table border=\"1\" class=\"dataframe\">\n",
       "  <thead>\n",
       "    <tr style=\"text-align: right;\">\n",
       "      <th></th>\n",
       "      <th>date</th>\n",
       "      <th>time</th>\n",
       "      <th>area</th>\n",
       "      <th>district</th>\n",
       "      <th>victim_age</th>\n",
       "      <th>victim_sex</th>\n",
       "      <th>victim_race</th>\n",
       "      <th>premise</th>\n",
       "      <th>address</th>\n",
       "      <th>location</th>\n",
       "    </tr>\n",
       "  </thead>\n",
       "  <tbody>\n",
       "    <tr>\n",
       "      <th>0</th>\n",
       "      <td>07/06/2019</td>\n",
       "      <td>2355</td>\n",
       "      <td>N Hollywood</td>\n",
       "      <td>1591</td>\n",
       "      <td>99.0</td>\n",
       "      <td>Male</td>\n",
       "      <td>Unknown</td>\n",
       "      <td>STREET</td>\n",
       "      <td>GOODLAND                     AV</td>\n",
       "      <td>(34.1371, -118.4062)</td>\n",
       "    </tr>\n",
       "    <tr>\n",
       "      <th>1</th>\n",
       "      <td>07/06/2019</td>\n",
       "      <td>500</td>\n",
       "      <td>Foothill</td>\n",
       "      <td>1677</td>\n",
       "      <td>45.0</td>\n",
       "      <td>Male</td>\n",
       "      <td>White</td>\n",
       "      <td>STREET</td>\n",
       "      <td>GLENOAKS                     BL</td>\n",
       "      <td>(34.2249, -118.3617)</td>\n",
       "    </tr>\n",
       "    <tr>\n",
       "      <th>2</th>\n",
       "      <td>07/06/2019</td>\n",
       "      <td>1130</td>\n",
       "      <td>West Valley</td>\n",
       "      <td>1028</td>\n",
       "      <td>25.0</td>\n",
       "      <td>Male</td>\n",
       "      <td>Asian</td>\n",
       "      <td>STREET</td>\n",
       "      <td>SHERMAN                      WY</td>\n",
       "      <td>(34.2012, -118.4989)</td>\n",
       "    </tr>\n",
       "    <tr>\n",
       "      <th>3</th>\n",
       "      <td>07/06/2019</td>\n",
       "      <td>1415</td>\n",
       "      <td>Northeast</td>\n",
       "      <td>1153</td>\n",
       "      <td>29.0</td>\n",
       "      <td>Male</td>\n",
       "      <td>Unknown</td>\n",
       "      <td>STREET</td>\n",
       "      <td>LOS FELIZ                    BL</td>\n",
       "      <td>(34.1081, -118.3078)</td>\n",
       "    </tr>\n",
       "    <tr>\n",
       "      <th>4</th>\n",
       "      <td>07/06/2019</td>\n",
       "      <td>1230</td>\n",
       "      <td>Central</td>\n",
       "      <td>192</td>\n",
       "      <td>41.0</td>\n",
       "      <td>Male</td>\n",
       "      <td>Unknown</td>\n",
       "      <td>STREET</td>\n",
       "      <td>GRAND                        AV</td>\n",
       "      <td>(34.0384, -118.2646)</td>\n",
       "    </tr>\n",
       "  </tbody>\n",
       "</table>\n",
       "</div>"
      ],
      "text/plain": [
       "         date  time         area  district  victim_age victim_sex victim_race  \\\n",
       "0  07/06/2019  2355  N Hollywood      1591        99.0       Male     Unknown   \n",
       "1  07/06/2019   500     Foothill      1677        45.0       Male       White   \n",
       "2  07/06/2019  1130  West Valley      1028        25.0       Male       Asian   \n",
       "3  07/06/2019  1415    Northeast      1153        29.0       Male     Unknown   \n",
       "4  07/06/2019  1230      Central       192        41.0       Male     Unknown   \n",
       "\n",
       "  premise                          address              location  \n",
       "0  STREET  GOODLAND                     AV  (34.1371, -118.4062)  \n",
       "1  STREET  GLENOAKS                     BL  (34.2249, -118.3617)  \n",
       "2  STREET  SHERMAN                      WY  (34.2012, -118.4989)  \n",
       "3  STREET  LOS FELIZ                    BL  (34.1081, -118.3078)  \n",
       "4  STREET  GRAND                        AV  (34.0384, -118.2646)  "
      ]
     },
     "execution_count": 182,
     "metadata": {},
     "output_type": "execute_result"
    }
   ],
   "source": [
    "#import modules for the analysis environment\n",
    "import os\n",
    "import matplotlib.pyplot as plta\n",
    "import pandas as pd\n",
    "import numpy as np\n",
    "import requests\n",
    "import datetime\n",
    "import ast\n",
    "import gmaps\n",
    "import datetime\n",
    "# from config import gkey\n",
    "\n",
    "#read cleaned csv file\n",
    "df = pd.read_csv(\"Data/clean_data/clean_data.csv\")\n",
    "df.head()"
   ]
  },
  {
   "cell_type": "code",
   "execution_count": 183,
   "metadata": {
    "scrolled": false
   },
   "outputs": [
    {
     "data": {
      "text/html": [
       "<div>\n",
       "<style scoped>\n",
       "    .dataframe tbody tr th:only-of-type {\n",
       "        vertical-align: middle;\n",
       "    }\n",
       "\n",
       "    .dataframe tbody tr th {\n",
       "        vertical-align: top;\n",
       "    }\n",
       "\n",
       "    .dataframe thead th {\n",
       "        text-align: right;\n",
       "    }\n",
       "</style>\n",
       "<table border=\"1\" class=\"dataframe\">\n",
       "  <thead>\n",
       "    <tr style=\"text-align: right;\">\n",
       "      <th></th>\n",
       "      <th>victim_race</th>\n",
       "    </tr>\n",
       "  </thead>\n",
       "  <tbody>\n",
       "    <tr>\n",
       "      <th>Hispanic</th>\n",
       "      <td>156131</td>\n",
       "    </tr>\n",
       "    <tr>\n",
       "      <th>White</th>\n",
       "      <td>101618</td>\n",
       "    </tr>\n",
       "    <tr>\n",
       "      <th>Unknown</th>\n",
       "      <td>60669</td>\n",
       "    </tr>\n",
       "    <tr>\n",
       "      <th>Black</th>\n",
       "      <td>58343</td>\n",
       "    </tr>\n",
       "    <tr>\n",
       "      <th>Asian</th>\n",
       "      <td>23383</td>\n",
       "    </tr>\n",
       "    <tr>\n",
       "      <th>Pacific Islander</th>\n",
       "      <td>442</td>\n",
       "    </tr>\n",
       "    <tr>\n",
       "      <th>American Indian</th>\n",
       "      <td>135</td>\n",
       "    </tr>\n",
       "  </tbody>\n",
       "</table>\n",
       "</div>"
      ],
      "text/plain": [
       "                  victim_race\n",
       "Hispanic               156131\n",
       "White                  101618\n",
       "Unknown                 60669\n",
       "Black                   58343\n",
       "Asian                   23383\n",
       "Pacific Islander          442\n",
       "American Indian           135"
      ]
     },
     "execution_count": 183,
     "metadata": {},
     "output_type": "execute_result"
    }
   ],
   "source": [
    "# Create DataFrame with the total counts of each ethnicity\n",
    "victim_race_counts = pd.DataFrame(df['victim_race'].value_counts())\n",
    "victim_race_counts"
   ]
  },
  {
   "cell_type": "code",
   "execution_count": 194,
   "metadata": {},
   "outputs": [
    {
     "data": {
      "text/html": [
       "<div>\n",
       "<style scoped>\n",
       "    .dataframe tbody tr th:only-of-type {\n",
       "        vertical-align: middle;\n",
       "    }\n",
       "\n",
       "    .dataframe tbody tr th {\n",
       "        vertical-align: top;\n",
       "    }\n",
       "\n",
       "    .dataframe thead th {\n",
       "        text-align: right;\n",
       "    }\n",
       "</style>\n",
       "<table border=\"1\" class=\"dataframe\">\n",
       "  <thead>\n",
       "    <tr style=\"text-align: right;\">\n",
       "      <th></th>\n",
       "      <th>victim_race</th>\n",
       "    </tr>\n",
       "  </thead>\n",
       "  <tbody>\n",
       "    <tr>\n",
       "      <th>Hispanic</th>\n",
       "      <td>156131</td>\n",
       "    </tr>\n",
       "    <tr>\n",
       "      <th>White</th>\n",
       "      <td>101618</td>\n",
       "    </tr>\n",
       "    <tr>\n",
       "      <th>Black</th>\n",
       "      <td>58343</td>\n",
       "    </tr>\n",
       "    <tr>\n",
       "      <th>Asian</th>\n",
       "      <td>23383</td>\n",
       "    </tr>\n",
       "    <tr>\n",
       "      <th>Pacific Islander</th>\n",
       "      <td>442</td>\n",
       "    </tr>\n",
       "    <tr>\n",
       "      <th>American Indian</th>\n",
       "      <td>135</td>\n",
       "    </tr>\n",
       "  </tbody>\n",
       "</table>\n",
       "</div>"
      ],
      "text/plain": [
       "                  victim_race\n",
       "Hispanic               156131\n",
       "White                  101618\n",
       "Black                   58343\n",
       "Asian                   23383\n",
       "Pacific Islander          442\n",
       "American Indian           135"
      ]
     },
     "execution_count": 194,
     "metadata": {},
     "output_type": "execute_result"
    }
   ],
   "source": [
    "# Remove Unknown victims from DataFrame\n",
    "updated_victim_race = victim_race_counts.loc[['Hispanic','White','Black',\n",
    "                                              'Asian','Pacific Islander','American Indian'],\n",
    "                                             ['victim_race']]\n",
    "updated_victim_race"
   ]
  },
  {
   "cell_type": "code",
   "execution_count": 198,
   "metadata": {},
   "outputs": [
    {
     "data": {
      "text/html": [
       "<div>\n",
       "<style scoped>\n",
       "    .dataframe tbody tr th:only-of-type {\n",
       "        vertical-align: middle;\n",
       "    }\n",
       "\n",
       "    .dataframe tbody tr th {\n",
       "        vertical-align: top;\n",
       "    }\n",
       "\n",
       "    .dataframe thead th {\n",
       "        text-align: right;\n",
       "    }\n",
       "</style>\n",
       "<table border=\"1\" class=\"dataframe\">\n",
       "  <thead>\n",
       "    <tr style=\"text-align: right;\">\n",
       "      <th></th>\n",
       "      <th>victim_race</th>\n",
       "      <th>percentage</th>\n",
       "    </tr>\n",
       "  </thead>\n",
       "  <tbody>\n",
       "    <tr>\n",
       "      <th>Hispanic</th>\n",
       "      <td>156131</td>\n",
       "      <td>45.913860</td>\n",
       "    </tr>\n",
       "    <tr>\n",
       "      <th>White</th>\n",
       "      <td>101618</td>\n",
       "      <td>29.883077</td>\n",
       "    </tr>\n",
       "    <tr>\n",
       "      <th>Black</th>\n",
       "      <td>58343</td>\n",
       "      <td>17.157082</td>\n",
       "    </tr>\n",
       "    <tr>\n",
       "      <th>Asian</th>\n",
       "      <td>23383</td>\n",
       "      <td>6.876301</td>\n",
       "    </tr>\n",
       "    <tr>\n",
       "      <th>Pacific Islander</th>\n",
       "      <td>442</td>\n",
       "      <td>0.129980</td>\n",
       "    </tr>\n",
       "    <tr>\n",
       "      <th>American Indian</th>\n",
       "      <td>135</td>\n",
       "      <td>0.039700</td>\n",
       "    </tr>\n",
       "  </tbody>\n",
       "</table>\n",
       "</div>"
      ],
      "text/plain": [
       "                  victim_race  percentage\n",
       "Hispanic               156131   45.913860\n",
       "White                  101618   29.883077\n",
       "Black                   58343   17.157082\n",
       "Asian                   23383    6.876301\n",
       "Pacific Islander          442    0.129980\n",
       "American Indian           135    0.039700"
      ]
     },
     "execution_count": 198,
     "metadata": {},
     "output_type": "execute_result"
    }
   ],
   "source": [
    "#Calculate the percentage of total crashes per ethinicity \n",
    "percent_victim_race = updated_victim_race[\"victim_race\"]/updated_victim_race[\"victim_race\"].sum()*100\n",
    "\n",
    "# Add a new colum display the calculated percentage\n",
    "updated_victim_race[\"percentage\"] = percent_victim_race\n",
    "updated_victim_race"
   ]
  },
  {
   "cell_type": "code",
   "execution_count": 136,
   "metadata": {
    "scrolled": true
   },
   "outputs": [
    {
     "data": {
      "text/html": [
       "<div>\n",
       "<style scoped>\n",
       "    .dataframe tbody tr th:only-of-type {\n",
       "        vertical-align: middle;\n",
       "    }\n",
       "\n",
       "    .dataframe tbody tr th {\n",
       "        vertical-align: top;\n",
       "    }\n",
       "\n",
       "    .dataframe thead th {\n",
       "        text-align: right;\n",
       "    }\n",
       "</style>\n",
       "<table border=\"1\" class=\"dataframe\">\n",
       "  <thead>\n",
       "    <tr style=\"text-align: right;\">\n",
       "      <th></th>\n",
       "      <th>percentage</th>\n",
       "    </tr>\n",
       "  </thead>\n",
       "  <tbody>\n",
       "    <tr>\n",
       "      <th>Hispanic</th>\n",
       "      <td>38.96</td>\n",
       "    </tr>\n",
       "    <tr>\n",
       "      <th>White</th>\n",
       "      <td>25.36</td>\n",
       "    </tr>\n",
       "    <tr>\n",
       "      <th>Unknown</th>\n",
       "      <td>15.14</td>\n",
       "    </tr>\n",
       "    <tr>\n",
       "      <th>Black</th>\n",
       "      <td>14.56</td>\n",
       "    </tr>\n",
       "    <tr>\n",
       "      <th>Asian</th>\n",
       "      <td>5.84</td>\n",
       "    </tr>\n",
       "    <tr>\n",
       "      <th>Pacific Islander</th>\n",
       "      <td>0.11</td>\n",
       "    </tr>\n",
       "    <tr>\n",
       "      <th>American Indian</th>\n",
       "      <td>0.03</td>\n",
       "    </tr>\n",
       "  </tbody>\n",
       "</table>\n",
       "</div>"
      ],
      "text/plain": [
       "                  percentage\n",
       "Hispanic               38.96\n",
       "White                  25.36\n",
       "Unknown                15.14\n",
       "Black                  14.56\n",
       "Asian                   5.84\n",
       "Pacific Islander        0.11\n",
       "American Indian         0.03"
      ]
     },
     "execution_count": 136,
     "metadata": {},
     "output_type": "execute_result"
    }
   ],
   "source": [
    "### TO BE REMOVE == JUST TO SEE COMPARATION B4 AND AFTER UNKOWN\n",
    "# Display only the percentage of crashes per ethnicity\n",
    "victim_race_percentage = pd.DataFrame(victim_race_counts[\"percentage\"])\n",
    "victim_race_percentage"
   ]
  },
  {
   "cell_type": "code",
   "execution_count": 206,
   "metadata": {
    "scrolled": true
   },
   "outputs": [
    {
     "data": {
      "text/html": [
       "<style  type=\"text/css\" >\n",
       "</style><table id=\"T_e8e0adda_a758_11e9_a1bf_38baf8974950\" ><thead>    <tr>        <th class=\"blank level0\" ></th>        <th class=\"col_heading level0 col0\" >percentage</th>    </tr></thead><tbody>\n",
       "                <tr>\n",
       "                        <th id=\"T_e8e0adda_a758_11e9_a1bf_38baf8974950level0_row0\" class=\"row_heading level0 row0\" >Hispanic</th>\n",
       "                        <td id=\"T_e8e0adda_a758_11e9_a1bf_38baf8974950row0_col0\" class=\"data row0 col0\" >45.91%</td>\n",
       "            </tr>\n",
       "            <tr>\n",
       "                        <th id=\"T_e8e0adda_a758_11e9_a1bf_38baf8974950level0_row1\" class=\"row_heading level0 row1\" >White</th>\n",
       "                        <td id=\"T_e8e0adda_a758_11e9_a1bf_38baf8974950row1_col0\" class=\"data row1 col0\" >29.88%</td>\n",
       "            </tr>\n",
       "            <tr>\n",
       "                        <th id=\"T_e8e0adda_a758_11e9_a1bf_38baf8974950level0_row2\" class=\"row_heading level0 row2\" >Black</th>\n",
       "                        <td id=\"T_e8e0adda_a758_11e9_a1bf_38baf8974950row2_col0\" class=\"data row2 col0\" >17.16%</td>\n",
       "            </tr>\n",
       "            <tr>\n",
       "                        <th id=\"T_e8e0adda_a758_11e9_a1bf_38baf8974950level0_row3\" class=\"row_heading level0 row3\" >Asian</th>\n",
       "                        <td id=\"T_e8e0adda_a758_11e9_a1bf_38baf8974950row3_col0\" class=\"data row3 col0\" >6.88%</td>\n",
       "            </tr>\n",
       "            <tr>\n",
       "                        <th id=\"T_e8e0adda_a758_11e9_a1bf_38baf8974950level0_row4\" class=\"row_heading level0 row4\" >Pacific Islander</th>\n",
       "                        <td id=\"T_e8e0adda_a758_11e9_a1bf_38baf8974950row4_col0\" class=\"data row4 col0\" >0.13%</td>\n",
       "            </tr>\n",
       "            <tr>\n",
       "                        <th id=\"T_e8e0adda_a758_11e9_a1bf_38baf8974950level0_row5\" class=\"row_heading level0 row5\" >American Indian</th>\n",
       "                        <td id=\"T_e8e0adda_a758_11e9_a1bf_38baf8974950row5_col0\" class=\"data row5 col0\" >0.04%</td>\n",
       "            </tr>\n",
       "    </tbody></table>"
      ],
      "text/plain": [
       "<pandas.io.formats.style.Styler at 0x220b0f929e8>"
      ]
     },
     "execution_count": 206,
     "metadata": {},
     "output_type": "execute_result"
    }
   ],
   "source": [
    "# Display only the percentage of crashes per ethnicity\n",
    "pct_race_df = pd.DataFrame(updated_victim_race[\"percentage\"])\n",
    "\n",
    "# Format percentage calculations with two digits and percentage sign\n",
    "pct_race_df.style.format({\"percentage\":\"{:,.2f}%\"})"
   ]
  },
  {
   "cell_type": "code",
   "execution_count": 216,
   "metadata": {},
   "outputs": [
    {
     "ename": "TypeError",
     "evalue": "'AxesSubplot' object is not iterable",
     "output_type": "error",
     "traceback": [
      "\u001b[1;31m---------------------------------------------------------------------------\u001b[0m",
      "\u001b[1;31mTypeError\u001b[0m                                 Traceback (most recent call last)",
      "\u001b[1;32m<ipython-input-216-db186253892f>\u001b[0m in \u001b[0;36m<module>\u001b[1;34m\u001b[0m\n\u001b[0;32m     20\u001b[0m \u001b[1;33m\u001b[0m\u001b[0m\n\u001b[0;32m     21\u001b[0m \u001b[1;31m# Call functions to implement the function calls\u001b[0m\u001b[1;33m\u001b[0m\u001b[1;33m\u001b[0m\u001b[1;33m\u001b[0m\u001b[0m\n\u001b[1;32m---> 22\u001b[1;33m \u001b[0mautolabel\u001b[0m\u001b[1;33m(\u001b[0m\u001b[0mfig\u001b[0m\u001b[1;33m)\u001b[0m\u001b[1;33m\u001b[0m\u001b[1;33m\u001b[0m\u001b[0m\n\u001b[0m",
      "\u001b[1;32m<ipython-input-216-db186253892f>\u001b[0m in \u001b[0;36mautolabel\u001b[1;34m(bars)\u001b[0m\n\u001b[0;32m      7\u001b[0m \u001b[1;31m# Use functions to label the percentages of changes\u001b[0m\u001b[1;33m\u001b[0m\u001b[1;33m\u001b[0m\u001b[1;33m\u001b[0m\u001b[0m\n\u001b[0;32m      8\u001b[0m \u001b[1;32mdef\u001b[0m \u001b[0mautolabel\u001b[0m\u001b[1;33m(\u001b[0m\u001b[0mbars\u001b[0m\u001b[1;33m)\u001b[0m\u001b[1;33m:\u001b[0m\u001b[1;33m\u001b[0m\u001b[1;33m\u001b[0m\u001b[0m\n\u001b[1;32m----> 9\u001b[1;33m     \u001b[1;32mfor\u001b[0m \u001b[0mbar\u001b[0m \u001b[1;32min\u001b[0m \u001b[0mbars\u001b[0m\u001b[1;33m:\u001b[0m\u001b[1;33m\u001b[0m\u001b[1;33m\u001b[0m\u001b[0m\n\u001b[0m\u001b[0;32m     10\u001b[0m         \u001b[0mheight\u001b[0m \u001b[1;33m=\u001b[0m \u001b[0mbar\u001b[0m\u001b[1;33m.\u001b[0m\u001b[0mget_height\u001b[0m\u001b[1;33m(\u001b[0m\u001b[1;33m)\u001b[0m\u001b[1;33m\u001b[0m\u001b[1;33m\u001b[0m\u001b[0m\n\u001b[0;32m     11\u001b[0m         \u001b[1;32mif\u001b[0m \u001b[0mheight\u001b[0m \u001b[1;33m>\u001b[0m \u001b[1;36m0\u001b[0m\u001b[1;33m:\u001b[0m\u001b[1;33m\u001b[0m\u001b[1;33m\u001b[0m\u001b[0m\n",
      "\u001b[1;31mTypeError\u001b[0m: 'AxesSubplot' object is not iterable"
     ]
    },
    {
     "data": {
      "image/png": "[encoded data removed]",
      "text/plain": [
       "<Figure size 432x288 with 1 Axes>"
      ]
     },
     "metadata": {
      "needs_background": "light"
     },
     "output_type": "display_data"
    }
   ],
   "source": [
    "# Plot graph bar\n",
    "fig = pct_race_df.plot(kind=\"bar\", color=\"black\")\n",
    "fig.set_title(\"Collision Per Ethnicity\")\n",
    "fig.set_xlabel(\"Ethnicity\")\n",
    "fig.set_yticks([])\n",
    "\n",
    "# Use functions to label the percentages of changes\n",
    "def autolabel(bars):\n",
    "    for bar in bars:\n",
    "        height = bar.get_height()\n",
    "        if height > 0:\n",
    "            label_position = 1\n",
    "        else:\n",
    "            label_position = -7\n",
    "        plt.text(bar.get_x() + bar.get_width()/2., \n",
    "                 label_position,\n",
    "                 \"%d\" % int(height)+\"%\",\n",
    "                 color='white',\n",
    "                 ha=\"center\",va=\"bottom\")\n",
    "\n",
    "# Call functions to implement the function calls\n",
    "autolabel(fig)\n"
   ]
  },
  {
   "cell_type": "code",
   "execution_count": 212,
   "metadata": {},
   "outputs": [
    {
     "data": {
      "text/plain": [
       "Text(0.5, 0, 'Ethnicity')"
      ]
     },
     "execution_count": 212,
     "metadata": {},
     "output_type": "execute_result"
    },
    {
     "data": {
      "image/png": "[encoded data removed]",
      "text/plain": [
       "<Figure size 432x288 with 1 Axes>"
      ]
     },
     "metadata": {
      "needs_background": "light"
     },
     "output_type": "display_data"
    }
   ],
   "source": [
    "# Plot graph bar\n",
    "fig = pct_race_df.plot(kind=\"bar\", color=\"black\")\n",
    "fig.set_title(\"Collision Per Ethnicity\")\n",
    "fig.set_xlabel(\"Ethnicity\")\n",
    "# fig.set_yticks([])\n",
    "fig.tick_params(axis=\"x\", )\n",
    "# # Use functions to label the percentages of changes\n",
    "# def autolabel(bars):\n",
    "#     for bar in bars:\n",
    "#         height = bar.get_height()\n",
    "#         if height > 0:\n",
    "#             label_position = 1\n",
    "#         else:\n",
    "#             label_position = -7\n",
    "#         plt.text(bar.get_x() + bar.get_width()/2., \n",
    "#                  label_position,\n",
    "#                  \"%d\" % int(height)+\"%\",\n",
    "#                  color='white',\n",
    "#                  ha=\"center\",va=\"bottom\")\n",
    "\n",
    "# # Call functions to implement the function calls\n",
    "# autolabel(fig)\n",
    "\n"
   ]
  },
  {
   "cell_type": "code",
   "execution_count": 116,
   "metadata": {},
   "outputs": [
    {
     "name": "stdout",
     "output_type": "stream",
     "text": [
      "60669\n"
     ]
    },
    {
     "data": {
      "text/plain": [
       "0.15139960221700385"
      ]
     },
     "execution_count": 116,
     "metadata": {},
     "output_type": "execute_result"
    }
   ],
   "source": [
    "unknown = test2.loc[\"Unknown\", \"victim_race\"]\n",
    "print(unknown)\n",
    "average = unknown/test2[\"victim_race\"].sum()\n",
    "average"
   ]
  },
  {
   "cell_type": "code",
   "execution_count": 96,
   "metadata": {
    "scrolled": true
   },
   "outputs": [
    {
     "data": {
      "image/png": "[encoded data removed]",
      "text/plain": [
       "<Figure size 432x288 with 1 Axes>"
      ]
     },
     "metadata": {
      "needs_background": "light"
     },
     "output_type": "display_data"
    }
   ],
   "source": [
    "pct_df = pd.DataFrame(test2[\"percent\"])\n",
    "fig = pct_df.plot(kind=\"bar\", color=\"black\")\n",
    "fig.set_xlabel('Ethnicity')\n",
    "fig.set_title('Collision Per Ethnicity')\n",
    "labels=pct_df.percent.tolist()\n",
    "rects = fig.patches\n",
    "for rect,label in zip(rects,test2):\n",
    "    fig.text(rect.get_x()+rect.get_width()/2, rect.get_height(),label,ha=\"center\",va=\"bottom\")"
   ]
  },
  {
   "cell_type": "code",
   "execution_count": null,
   "metadata": {},
   "outputs": [],
   "source": [
    "#get an overview of victim in race distribution\n",
    "# pct_df[\"percent\"].value_counts()\n",
    "#bar graph\n",
    "race_data = pd.DataFrame(df[\"percent\"].value_counts())\n",
    "fig = pct_df.plot(kind=\"bar\", color=\"black\")\n",
    "fig.set_xlabel('Ethnicity')\n",
    "fig.set_title('Collision Per Ethnicity')\n",
    "labels=race_data.victim_race.tolist()\n",
    "sum_labels = sum(labels)\n",
    "perc_labels = [round(i/sum_labels*100,2) for i in labels]\n",
    "perc_labels = ['{:,.2f}%'.format(i) for i in perc_labels]"
   ]
  },
  {
   "cell_type": "code",
   "execution_count": 80,
   "metadata": {},
   "outputs": [
    {
     "ename": "ValueError",
     "evalue": "Single '}' encountered in format string",
     "output_type": "error",
     "traceback": [
      "\u001b[1;31m---------------------------------------------------------------------------\u001b[0m",
      "\u001b[1;31mValueError\u001b[0m                                Traceback (most recent call last)",
      "\u001b[1;32m~\\Anaconda3\\lib\\site-packages\\IPython\\core\\formatters.py\u001b[0m in \u001b[0;36m__call__\u001b[1;34m(self, obj)\u001b[0m\n\u001b[0;32m    343\u001b[0m             \u001b[0mmethod\u001b[0m \u001b[1;33m=\u001b[0m \u001b[0mget_real_method\u001b[0m\u001b[1;33m(\u001b[0m\u001b[0mobj\u001b[0m\u001b[1;33m,\u001b[0m \u001b[0mself\u001b[0m\u001b[1;33m.\u001b[0m\u001b[0mprint_method\u001b[0m\u001b[1;33m)\u001b[0m\u001b[1;33m\u001b[0m\u001b[1;33m\u001b[0m\u001b[0m\n\u001b[0;32m    344\u001b[0m             \u001b[1;32mif\u001b[0m \u001b[0mmethod\u001b[0m \u001b[1;32mis\u001b[0m \u001b[1;32mnot\u001b[0m \u001b[1;32mNone\u001b[0m\u001b[1;33m:\u001b[0m\u001b[1;33m\u001b[0m\u001b[1;33m\u001b[0m\u001b[0m\n\u001b[1;32m--> 345\u001b[1;33m                 \u001b[1;32mreturn\u001b[0m \u001b[0mmethod\u001b[0m\u001b[1;33m(\u001b[0m\u001b[1;33m)\u001b[0m\u001b[1;33m\u001b[0m\u001b[1;33m\u001b[0m\u001b[0m\n\u001b[0m\u001b[0;32m    346\u001b[0m             \u001b[1;32mreturn\u001b[0m \u001b[1;32mNone\u001b[0m\u001b[1;33m\u001b[0m\u001b[1;33m\u001b[0m\u001b[0m\n\u001b[0;32m    347\u001b[0m         \u001b[1;32melse\u001b[0m\u001b[1;33m:\u001b[0m\u001b[1;33m\u001b[0m\u001b[1;33m\u001b[0m\u001b[0m\n",
      "\u001b[1;32m~\\Anaconda3\\lib\\site-packages\\pandas\\io\\formats\\style.py\u001b[0m in \u001b[0;36m_repr_html_\u001b[1;34m(self)\u001b[0m\n\u001b[0;32m    161\u001b[0m         \u001b[0mHooks\u001b[0m \u001b[0minto\u001b[0m \u001b[0mJupyter\u001b[0m \u001b[0mnotebook\u001b[0m \u001b[0mrich\u001b[0m \u001b[0mdisplay\u001b[0m \u001b[0msystem\u001b[0m\u001b[1;33m.\u001b[0m\u001b[1;33m\u001b[0m\u001b[1;33m\u001b[0m\u001b[0m\n\u001b[0;32m    162\u001b[0m         \"\"\"\n\u001b[1;32m--> 163\u001b[1;33m         \u001b[1;32mreturn\u001b[0m \u001b[0mself\u001b[0m\u001b[1;33m.\u001b[0m\u001b[0mrender\u001b[0m\u001b[1;33m(\u001b[0m\u001b[1;33m)\u001b[0m\u001b[1;33m\u001b[0m\u001b[1;33m\u001b[0m\u001b[0m\n\u001b[0m\u001b[0;32m    164\u001b[0m \u001b[1;33m\u001b[0m\u001b[0m\n\u001b[0;32m    165\u001b[0m     @Appender(_shared_docs['to_excel'] % dict(\n",
      "\u001b[1;32m~\\Anaconda3\\lib\\site-packages\\pandas\\io\\formats\\style.py\u001b[0m in \u001b[0;36mrender\u001b[1;34m(self, **kwargs)\u001b[0m\n\u001b[0;32m    459\u001b[0m         \u001b[0mself\u001b[0m\u001b[1;33m.\u001b[0m\u001b[0m_compute\u001b[0m\u001b[1;33m(\u001b[0m\u001b[1;33m)\u001b[0m\u001b[1;33m\u001b[0m\u001b[1;33m\u001b[0m\u001b[0m\n\u001b[0;32m    460\u001b[0m         \u001b[1;31m# TODO: namespace all the pandas keys\u001b[0m\u001b[1;33m\u001b[0m\u001b[1;33m\u001b[0m\u001b[1;33m\u001b[0m\u001b[0m\n\u001b[1;32m--> 461\u001b[1;33m         \u001b[0md\u001b[0m \u001b[1;33m=\u001b[0m \u001b[0mself\u001b[0m\u001b[1;33m.\u001b[0m\u001b[0m_translate\u001b[0m\u001b[1;33m(\u001b[0m\u001b[1;33m)\u001b[0m\u001b[1;33m\u001b[0m\u001b[1;33m\u001b[0m\u001b[0m\n\u001b[0m\u001b[0;32m    462\u001b[0m         \u001b[1;31m# filter out empty styles, every cell will have a class\u001b[0m\u001b[1;33m\u001b[0m\u001b[1;33m\u001b[0m\u001b[1;33m\u001b[0m\u001b[0m\n\u001b[0;32m    463\u001b[0m         \u001b[1;31m# but the list of props may just be [['', '']].\u001b[0m\u001b[1;33m\u001b[0m\u001b[1;33m\u001b[0m\u001b[1;33m\u001b[0m\u001b[0m\n",
      "\u001b[1;32m~\\Anaconda3\\lib\\site-packages\\pandas\\io\\formats\\style.py\u001b[0m in \u001b[0;36m_translate\u001b[1;34m(self)\u001b[0m\n\u001b[0;32m    321\u001b[0m                             \u001b[1;34m\"value\"\u001b[0m\u001b[1;33m:\u001b[0m \u001b[0mvalue\u001b[0m\u001b[1;33m,\u001b[0m\u001b[1;33m\u001b[0m\u001b[1;33m\u001b[0m\u001b[0m\n\u001b[0;32m    322\u001b[0m                             \u001b[1;34m\"class\"\u001b[0m\u001b[1;33m:\u001b[0m \u001b[1;34m\" \"\u001b[0m\u001b[1;33m.\u001b[0m\u001b[0mjoin\u001b[0m\u001b[1;33m(\u001b[0m\u001b[0mcs\u001b[0m\u001b[1;33m)\u001b[0m\u001b[1;33m,\u001b[0m\u001b[1;33m\u001b[0m\u001b[1;33m\u001b[0m\u001b[0m\n\u001b[1;32m--> 323\u001b[1;33m                             \u001b[1;34m\"display_value\"\u001b[0m\u001b[1;33m:\u001b[0m \u001b[0mformatter\u001b[0m\u001b[1;33m(\u001b[0m\u001b[0mvalue\u001b[0m\u001b[1;33m)\u001b[0m\u001b[1;33m,\u001b[0m\u001b[1;33m\u001b[0m\u001b[1;33m\u001b[0m\u001b[0m\n\u001b[0m\u001b[0;32m    324\u001b[0m                             \"is_visible\": (c not in hidden_columns)}\n\u001b[0;32m    325\u001b[0m                 \u001b[1;31m# only add an id if the cell has a style\u001b[0m\u001b[1;33m\u001b[0m\u001b[1;33m\u001b[0m\u001b[1;33m\u001b[0m\u001b[0m\n",
      "\u001b[1;32m~\\Anaconda3\\lib\\site-packages\\pandas\\io\\formats\\style.py\u001b[0m in \u001b[0;36m<lambda>\u001b[1;34m(x)\u001b[0m\n\u001b[0;32m   1359\u001b[0m \u001b[1;32mdef\u001b[0m \u001b[0m_maybe_wrap_formatter\u001b[0m\u001b[1;33m(\u001b[0m\u001b[0mformatter\u001b[0m\u001b[1;33m)\u001b[0m\u001b[1;33m:\u001b[0m\u001b[1;33m\u001b[0m\u001b[1;33m\u001b[0m\u001b[0m\n\u001b[0;32m   1360\u001b[0m     \u001b[1;32mif\u001b[0m \u001b[0mis_string_like\u001b[0m\u001b[1;33m(\u001b[0m\u001b[0mformatter\u001b[0m\u001b[1;33m)\u001b[0m\u001b[1;33m:\u001b[0m\u001b[1;33m\u001b[0m\u001b[1;33m\u001b[0m\u001b[0m\n\u001b[1;32m-> 1361\u001b[1;33m         \u001b[1;32mreturn\u001b[0m \u001b[1;32mlambda\u001b[0m \u001b[0mx\u001b[0m\u001b[1;33m:\u001b[0m \u001b[0mformatter\u001b[0m\u001b[1;33m.\u001b[0m\u001b[0mformat\u001b[0m\u001b[1;33m(\u001b[0m\u001b[0mx\u001b[0m\u001b[1;33m)\u001b[0m\u001b[1;33m\u001b[0m\u001b[1;33m\u001b[0m\u001b[0m\n\u001b[0m\u001b[0;32m   1362\u001b[0m     \u001b[1;32melif\u001b[0m \u001b[0mcallable\u001b[0m\u001b[1;33m(\u001b[0m\u001b[0mformatter\u001b[0m\u001b[1;33m)\u001b[0m\u001b[1;33m:\u001b[0m\u001b[1;33m\u001b[0m\u001b[1;33m\u001b[0m\u001b[0m\n\u001b[0;32m   1363\u001b[0m         \u001b[1;32mreturn\u001b[0m \u001b[0mformatter\u001b[0m\u001b[1;33m\u001b[0m\u001b[1;33m\u001b[0m\u001b[0m\n",
      "\u001b[1;31mValueError\u001b[0m: Single '}' encountered in format string"
     ]
    },
    {
     "data": {
      "text/plain": [
       "<pandas.io.formats.style.Styler at 0x220a638d7f0>"
      ]
     },
     "execution_count": 80,
     "metadata": {},
     "output_type": "execute_result"
    }
   ],
   "source": [
    "pct_df = pd.DataFrame(test2[\"percent\"])\n",
    "pd.DataFrame(test2[\"percent\"]).style.format({\"percent\" : \",.2f}%\"})"
   ]
  },
  {
   "cell_type": "code",
   "execution_count": 75,
   "metadata": {},
   "outputs": [
    {
     "ename": "AttributeError",
     "evalue": "'Series' object has no attribute 'style'",
     "output_type": "error",
     "traceback": [
      "\u001b[1;31m---------------------------------------------------------------------------\u001b[0m",
      "\u001b[1;31mAttributeError\u001b[0m                            Traceback (most recent call last)",
      "\u001b[1;32m<ipython-input-75-da94b24866a2>\u001b[0m in \u001b[0;36m<module>\u001b[1;34m\u001b[0m\n\u001b[0;32m      1\u001b[0m \u001b[0mpct_df\u001b[0m \u001b[1;33m=\u001b[0m \u001b[0mtest2\u001b[0m\u001b[1;33m[\u001b[0m\u001b[1;34m\"percent\"\u001b[0m\u001b[1;33m]\u001b[0m\u001b[1;33m.\u001b[0m\u001b[0mvalue_counts\u001b[0m\u001b[1;33m(\u001b[0m\u001b[1;33m)\u001b[0m\u001b[1;33m\u001b[0m\u001b[1;33m\u001b[0m\u001b[0m\n\u001b[1;32m----> 2\u001b[1;33m \u001b[0mpct_df\u001b[0m\u001b[1;33m.\u001b[0m\u001b[0mstyle\u001b[0m\u001b[1;33m.\u001b[0m\u001b[0mformat\u001b[0m\u001b[1;33m(\u001b[0m\u001b[1;33m{\u001b[0m\u001b[1;34m\"percent\"\u001b[0m \u001b[1;33m:\u001b[0m \u001b[1;34m\",.2f}%\"\u001b[0m\u001b[1;33m}\u001b[0m\u001b[1;33m)\u001b[0m\u001b[1;33m\u001b[0m\u001b[1;33m\u001b[0m\u001b[0m\n\u001b[0m",
      "\u001b[1;32m~\\Anaconda3\\lib\\site-packages\\pandas\\core\\generic.py\u001b[0m in \u001b[0;36m__getattr__\u001b[1;34m(self, name)\u001b[0m\n\u001b[0;32m   5065\u001b[0m             \u001b[1;32mif\u001b[0m \u001b[0mself\u001b[0m\u001b[1;33m.\u001b[0m\u001b[0m_info_axis\u001b[0m\u001b[1;33m.\u001b[0m\u001b[0m_can_hold_identifiers_and_holds_name\u001b[0m\u001b[1;33m(\u001b[0m\u001b[0mname\u001b[0m\u001b[1;33m)\u001b[0m\u001b[1;33m:\u001b[0m\u001b[1;33m\u001b[0m\u001b[1;33m\u001b[0m\u001b[0m\n\u001b[0;32m   5066\u001b[0m                 \u001b[1;32mreturn\u001b[0m \u001b[0mself\u001b[0m\u001b[1;33m[\u001b[0m\u001b[0mname\u001b[0m\u001b[1;33m]\u001b[0m\u001b[1;33m\u001b[0m\u001b[1;33m\u001b[0m\u001b[0m\n\u001b[1;32m-> 5067\u001b[1;33m             \u001b[1;32mreturn\u001b[0m \u001b[0mobject\u001b[0m\u001b[1;33m.\u001b[0m\u001b[0m__getattribute__\u001b[0m\u001b[1;33m(\u001b[0m\u001b[0mself\u001b[0m\u001b[1;33m,\u001b[0m \u001b[0mname\u001b[0m\u001b[1;33m)\u001b[0m\u001b[1;33m\u001b[0m\u001b[1;33m\u001b[0m\u001b[0m\n\u001b[0m\u001b[0;32m   5068\u001b[0m \u001b[1;33m\u001b[0m\u001b[0m\n\u001b[0;32m   5069\u001b[0m     \u001b[1;32mdef\u001b[0m \u001b[0m__setattr__\u001b[0m\u001b[1;33m(\u001b[0m\u001b[0mself\u001b[0m\u001b[1;33m,\u001b[0m \u001b[0mname\u001b[0m\u001b[1;33m,\u001b[0m \u001b[0mvalue\u001b[0m\u001b[1;33m)\u001b[0m\u001b[1;33m:\u001b[0m\u001b[1;33m\u001b[0m\u001b[1;33m\u001b[0m\u001b[0m\n",
      "\u001b[1;31mAttributeError\u001b[0m: 'Series' object has no attribute 'style'"
     ]
    }
   ],
   "source": [
    "pct_df = pd.DataFrame(test2[\"percent\"].value_counts())\n",
    "pct_df.style.format({\"percent\" : \",.2f}%\"})"
   ]
  },
  {
   "cell_type": "code",
   "execution_count": null,
   "metadata": {},
   "outputs": [],
   "source": [
    "#get an overview of victim in race distribution\n",
    "test2[\"percent\"].value_counts()\n",
    "#bar graph\n",
    "race_data = pd.DataFrame(df[\"percent\"].value_counts())\n",
    "fig = race_data.plot(kind=\"bar\", color=\"black\")\n",
    "fig.set_xlabel('Ethnicity')\n",
    "fig.set_title('Collision Per Ethnicity')\n",
    "labels=race_data.victim_race.tolist()\n",
    "sum_labels = sum(labels)\n",
    "perc_labels = [round(i/sum_labels*100,2) for i in labels]\n",
    "perc_labels = ['{:,.2f}%'.format(i) for i in perc_labels]\n"
   ]
  },
  {
   "cell_type": "code",
   "execution_count": 89,
   "metadata": {},
   "outputs": [
    {
     "data": {
      "image/png": "[encoded data removed]",
      "text/plain": [
       "<Figure size 432x288 with 1 Axes>"
      ]
     },
     "metadata": {
      "needs_background": "light"
     },
     "output_type": "display_data"
    }
   ],
   "source": [
    "#get an overview of victim in race distribution\n",
    "df[\"victim_race\"].value_counts()\n",
    "#bar graph\n",
    "race_data = pd.DataFrame(df[\"victim_race\"].value_counts())\n",
    "fig = race_data.plot(kind=\"bar\", color=\"black\")\n",
    "fig.set_xlabel('Ethnicity')\n",
    "fig.set_title('Collision Per Ethnicity')\n",
    "labels=race_data.victim_race.tolist()\n",
    "sum_labels = sum(labels)\n",
    "perc_labels = [round(i/sum_labels*100,2) for i in labels]\n",
    "perc_labels = ['{:,.2f}%'.format(i) for i in perc_labels]\n"
   ]
  },
  {
   "cell_type": "markdown",
   "metadata": {},
   "source": [
    "## Do Asian Crash More Than Average?"
   ]
  },
  {
   "cell_type": "code",
   "execution_count": 6,
   "metadata": {},
   "outputs": [
    {
     "data": {
      "text/plain": [
       "Text(0.5, 1.0, 'Collision Per Ethnicity')"
      ]
     },
     "execution_count": 6,
     "metadata": {},
     "output_type": "execute_result"
    },
    {
     "data": {
      "image/png": "[encoded data removed]",
      "text/plain": [
       "<Figure size 432x288 with 1 Axes>"
      ]
     },
     "metadata": {
      "needs_background": "light"
     },
     "output_type": "display_data"
    }
   ],
   "source": [
    "#get an overview of victim in race distribution\n",
    "df[\"victim_race\"].value_counts()\n",
    "#bar graph\n",
    "race_data = pd.DataFrame(df[\"victim_race\"].value_counts())\n",
    "fig = race_data.plot(kind=\"bar\", color=\"black\")\n",
    "fig.set_xlabel('Ethnicity')\n",
    "fig.set_title('Collision Per Ethnicity')\n",
    "labels=race_data.victim_race.tolist()\n",
    "sum_labels = sum(labels)\n",
    "perc_labels = [round(i/sum_labels*100,2) for i in labels]\n",
    "perc_labels = ['{:,.2f}%'.format(i) for i in perc_labels]\n"
   ]
  },
  {
   "cell_type": "markdown",
   "metadata": {},
   "source": [
    "## How Many Car Accidents Per Month?"
   ]
  },
  {
   "cell_type": "code",
   "execution_count": 162,
   "metadata": {},
   "outputs": [
    {
     "data": {
      "image/png": "[encoded data removed]",
      "text/plain": [
       "<Figure size 432x288 with 1 Axes>"
      ]
     },
     "metadata": {
      "needs_background": "light"
     },
     "output_type": "display_data"
    }
   ],
   "source": [
    "df1= df.copy()\n",
    "# #map the month column to make it look neat\n",
    "month_description = {1:'January', 2:'February', 3:'Unknown',4:'April', 5:'May', 6:'June',\n",
    "                      7:'July', 8:'August', 9:'September',10:'October', 11:'November', 12:'December'}\n",
    "df1.month = df.month.map(month_description)\n",
    "df1.head()\n",
    "\n",
    "month_data = pd.DataFrame(df.month.value_counts())\n",
    "month_data= month_data.sort_index()\n",
    "fig_month = month_data.plot(kind='bar')"
   ]
  },
  {
   "cell_type": "markdown",
   "metadata": {},
   "source": [
    "## Calendar Heatmap"
   ]
  },
  {
   "cell_type": "markdown",
   "metadata": {},
   "source": [
    "## Google Heatmap"
   ]
  },
  {
   "cell_type": "code",
   "execution_count": 86,
   "metadata": {},
   "outputs": [
    {
     "name": "stdout",
     "output_type": "stream",
     "text": [
      "Requirement already satisfied: gmaps in c:\\users\\shan\\anaconda3\\lib\\site-packages (0.8.4)\n",
      "Requirement already satisfied: ipython>=5.3.0 in c:\\users\\shan\\anaconda3\\lib\\site-packages (from gmaps) (7.4.0)\n",
      "Requirement already satisfied: traitlets>=4.3.0 in c:\\users\\shan\\anaconda3\\lib\\site-packages (from gmaps) (4.3.2)\n",
      "Requirement already satisfied: six in c:\\users\\shan\\anaconda3\\lib\\site-packages (from gmaps) (1.12.0)\n",
      "Requirement already satisfied: ipywidgets>=7.0.0 in c:\\users\\shan\\anaconda3\\lib\\site-packages (from gmaps) (7.4.2)\n",
      "Requirement already satisfied: geojson>=2.0.0 in c:\\users\\shan\\anaconda3\\lib\\site-packages (from gmaps) (2.4.1)\n",
      "Requirement already satisfied: pygments in c:\\users\\shan\\anaconda3\\lib\\site-packages (from ipython>=5.3.0->gmaps) (2.3.1)\n",
      "Requirement already satisfied: backcall in c:\\users\\shan\\anaconda3\\lib\\site-packages (from ipython>=5.3.0->gmaps) (0.1.0)\n",
      "Requirement already satisfied: colorama; sys_platform == \"win32\" in c:\\users\\shan\\anaconda3\\lib\\site-packages (from ipython>=5.3.0->gmaps) (0.4.1)\n",
      "Requirement already satisfied: prompt-toolkit<2.1.0,>=2.0.0 in c:\\users\\shan\\anaconda3\\lib\\site-packages (from ipython>=5.3.0->gmaps) (2.0.9)\n",
      "Requirement already satisfied: pickleshare in c:\\users\\shan\\anaconda3\\lib\\site-packages (from ipython>=5.3.0->gmaps) (0.7.5)\n",
      "Requirement already satisfied: setuptools>=18.5 in c:\\users\\shan\\anaconda3\\lib\\site-packages (from ipython>=5.3.0->gmaps) (40.8.0)\n",
      "Requirement already satisfied: jedi>=0.10 in c:\\users\\shan\\anaconda3\\lib\\site-packages (from ipython>=5.3.0->gmaps) (0.13.3)\n",
      "Requirement already satisfied: decorator in c:\\users\\shan\\anaconda3\\lib\\site-packages (from ipython>=5.3.0->gmaps) (4.4.0)\n",
      "Requirement already satisfied: ipython-genutils in c:\\users\\shan\\anaconda3\\lib\\site-packages (from traitlets>=4.3.0->gmaps) (0.2.0)\n",
      "Requirement already satisfied: nbformat>=4.2.0 in c:\\users\\shan\\anaconda3\\lib\\site-packages (from ipywidgets>=7.0.0->gmaps) (4.4.0)\n",
      "Requirement already satisfied: ipykernel>=4.5.1 in c:\\users\\shan\\anaconda3\\lib\\site-packages (from ipywidgets>=7.0.0->gmaps) (5.1.0)\n",
      "Requirement already satisfied: widgetsnbextension~=3.4.0 in c:\\users\\shan\\anaconda3\\lib\\site-packages (from ipywidgets>=7.0.0->gmaps) (3.4.2)\n",
      "Requirement already satisfied: wcwidth in c:\\users\\shan\\anaconda3\\lib\\site-packages (from prompt-toolkit<2.1.0,>=2.0.0->ipython>=5.3.0->gmaps) (0.1.7)\n",
      "Requirement already satisfied: parso>=0.3.0 in c:\\users\\shan\\anaconda3\\lib\\site-packages (from jedi>=0.10->ipython>=5.3.0->gmaps) (0.3.4)\n",
      "Requirement already satisfied: jsonschema!=2.5.0,>=2.4 in c:\\users\\shan\\anaconda3\\lib\\site-packages (from nbformat>=4.2.0->ipywidgets>=7.0.0->gmaps) (3.0.1)\n",
      "Requirement already satisfied: jupyter-core in c:\\users\\shan\\anaconda3\\lib\\site-packages (from nbformat>=4.2.0->ipywidgets>=7.0.0->gmaps) (4.4.0)\n",
      "Requirement already satisfied: tornado>=4.2 in c:\\users\\shan\\anaconda3\\lib\\site-packages (from ipykernel>=4.5.1->ipywidgets>=7.0.0->gmaps) (6.0.2)\n",
      "Requirement already satisfied: jupyter-client in c:\\users\\shan\\anaconda3\\lib\\site-packages (from ipykernel>=4.5.1->ipywidgets>=7.0.0->gmaps) (5.2.4)\n",
      "Requirement already satisfied: notebook>=4.4.1 in c:\\users\\shan\\anaconda3\\lib\\site-packages (from widgetsnbextension~=3.4.0->ipywidgets>=7.0.0->gmaps) (5.7.8)\n",
      "Requirement already satisfied: attrs>=17.4.0 in c:\\users\\shan\\anaconda3\\lib\\site-packages (from jsonschema!=2.5.0,>=2.4->nbformat>=4.2.0->ipywidgets>=7.0.0->gmaps) (19.1.0)\n",
      "Requirement already satisfied: pyrsistent>=0.14.0 in c:\\users\\shan\\anaconda3\\lib\\site-packages (from jsonschema!=2.5.0,>=2.4->nbformat>=4.2.0->ipywidgets>=7.0.0->gmaps) (0.14.11)\n",
      "Requirement already satisfied: python-dateutil>=2.1 in c:\\users\\shan\\anaconda3\\lib\\site-packages (from jupyter-client->ipykernel>=4.5.1->ipywidgets>=7.0.0->gmaps) (2.8.0)\n",
      "Requirement already satisfied: pyzmq>=13 in c:\\users\\shan\\anaconda3\\lib\\site-packages (from jupyter-client->ipykernel>=4.5.1->ipywidgets>=7.0.0->gmaps) (18.0.0)\n",
      "Requirement already satisfied: terminado>=0.8.1 in c:\\users\\shan\\anaconda3\\lib\\site-packages (from notebook>=4.4.1->widgetsnbextension~=3.4.0->ipywidgets>=7.0.0->gmaps) (0.8.1)\n",
      "Requirement already satisfied: jinja2 in c:\\users\\shan\\anaconda3\\lib\\site-packages (from notebook>=4.4.1->widgetsnbextension~=3.4.0->ipywidgets>=7.0.0->gmaps) (2.10)\n",
      "Requirement already satisfied: Send2Trash in c:\\users\\shan\\anaconda3\\lib\\site-packages (from notebook>=4.4.1->widgetsnbextension~=3.4.0->ipywidgets>=7.0.0->gmaps) (1.5.0)\n",
      "Requirement already satisfied: nbconvert in c:\\users\\shan\\anaconda3\\lib\\site-packages (from notebook>=4.4.1->widgetsnbextension~=3.4.0->ipywidgets>=7.0.0->gmaps) (5.4.1)\n",
      "Requirement already satisfied: prometheus-client in c:\\users\\shan\\anaconda3\\lib\\site-packages (from notebook>=4.4.1->widgetsnbextension~=3.4.0->ipywidgets>=7.0.0->gmaps) (0.6.0)\n",
      "Requirement already satisfied: MarkupSafe>=0.23 in c:\\users\\shan\\anaconda3\\lib\\site-packages (from jinja2->notebook>=4.4.1->widgetsnbextension~=3.4.0->ipywidgets>=7.0.0->gmaps) (1.1.1)\n",
      "Requirement already satisfied: mistune>=0.8.1 in c:\\users\\shan\\anaconda3\\lib\\site-packages (from nbconvert->notebook>=4.4.1->widgetsnbextension~=3.4.0->ipywidgets>=7.0.0->gmaps) (0.8.4)\n",
      "Requirement already satisfied: entrypoints>=0.2.2 in c:\\users\\shan\\anaconda3\\lib\\site-packages (from nbconvert->notebook>=4.4.1->widgetsnbextension~=3.4.0->ipywidgets>=7.0.0->gmaps) (0.3)\n",
      "Requirement already satisfied: bleach in c:\\users\\shan\\anaconda3\\lib\\site-packages (from nbconvert->notebook>=4.4.1->widgetsnbextension~=3.4.0->ipywidgets>=7.0.0->gmaps) (3.1.0)\n",
      "Requirement already satisfied: pandocfilters>=1.4.1 in c:\\users\\shan\\anaconda3\\lib\\site-packages (from nbconvert->notebook>=4.4.1->widgetsnbextension~=3.4.0->ipywidgets>=7.0.0->gmaps) (1.4.2)\n",
      "Requirement already satisfied: testpath in c:\\users\\shan\\anaconda3\\lib\\site-packages (from nbconvert->notebook>=4.4.1->widgetsnbextension~=3.4.0->ipywidgets>=7.0.0->gmaps) (0.4.2)\n",
      "Requirement already satisfied: defusedxml in c:\\users\\shan\\anaconda3\\lib\\site-packages (from nbconvert->notebook>=4.4.1->widgetsnbextension~=3.4.0->ipywidgets>=7.0.0->gmaps) (0.5.0)\n",
      "Requirement already satisfied: webencodings in c:\\users\\shan\\anaconda3\\lib\\site-packages (from bleach->nbconvert->notebook>=4.4.1->widgetsnbextension~=3.4.0->ipywidgets>=7.0.0->gmaps) (0.5.1)\n"
     ]
    }
   ],
   "source": [
    "!pip install gmaps"
   ]
  },
  {
   "cell_type": "code",
   "execution_count": 92,
   "metadata": {},
   "outputs": [
    {
     "data": {
      "application/vnd.jupyter.widget-view+json": {
       "model_id": "f23b2fa4c44849e383bc259fcc50652c",
       "version_major": 2,
       "version_minor": 0
      },
      "text/plain": [
       "Figure(layout=FigureLayout(height='420px'))"
      ]
     },
     "metadata": {},
     "output_type": "display_data"
    }
   ],
   "source": [
    "# gmaps.configure(api_key=gkey)\n",
    "# location = df[['lat','lon']].astype(float)\n",
    "# fig = gmaps.figure()\n",
    "\n",
    "# layer = gmaps.symbol_layer(\n",
    "#     location, fill_color='rgba(0, 150, 0, 0.4)',\n",
    "#     stroke_color='rgba(0, 0, 150, 0.4)', scale=2)\n",
    "\n",
    "# fig.add_layer(layer)\n",
    "# fig"
   ]
  }
 ],
 "metadata": {
  "kernelspec": {
   "display_name": "Python 3",
   "language": "python",
   "name": "python3"
  },
  "language_info": {
   "codemirror_mode": {
    "name": "ipython",
    "version": 3
   },
   "file_extension": ".py",
   "mimetype": "text/x-python",
   "name": "python",
   "nbconvert_exporter": "python",
   "pygments_lexer": "ipython3",
   "version": "3.7.3"
  }
 },
 "nbformat": 4,
 "nbformat_minor": 2
}
